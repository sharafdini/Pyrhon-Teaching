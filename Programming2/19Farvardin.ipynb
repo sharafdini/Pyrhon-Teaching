{
 "cells": [
  {
   "cell_type": "markdown",
   "id": "leading-professor",
   "metadata": {},
   "source": [
    "#Python Lists\n",
    "#List\n",
    "Lists are used to store multiple items in a single variable.\n",
    "\n",
    "Lists are one of 4 built-in data types in Python used to store collections of data,\n",
    "the other 3 are Tuple, Set, and Dictionary, all with different qualities and usage.\n",
    "\n",
    "Lists are created using square brackets:"
   ]
  },
  {
   "cell_type": "code",
   "execution_count": 2,
   "id": "hollywood-blair",
   "metadata": {
    "scrolled": true
   },
   "outputs": [
    {
     "name": "stdout",
     "output_type": "stream",
     "text": [
      "['apple', 'banana', 'cherry']\n"
     ]
    }
   ],
   "source": [
    "#Example\n",
    "#Create a List:\n",
    "\n",
    "x = \"apple\"\n",
    "y = \"banana\"\n",
    "z = \"cherry\"\n",
    "\n",
    "# نوع داده چندگانه\n",
    "thislist = [\"apple\" , \"banana\", \"cherry\"]\n",
    "\n",
    "print(thislist)"
   ]
  },
  {
   "cell_type": "markdown",
   "id": "geographic-elimination",
   "metadata": {},
   "source": [
    "List Items\n",
    "List items are ordered, changeable, and allow duplicate values.\n",
    "\n",
    "List items are indexed, the first item has index [0], the second item has index [1] etc.\n",
    "\n"
   ]
  },
  {
   "cell_type": "code",
   "execution_count": 4,
   "id": "falling-agenda",
   "metadata": {},
   "outputs": [
    {
     "data": {
      "text/plain": [
       "'apple'"
      ]
     },
     "execution_count": 4,
     "metadata": {},
     "output_type": "execute_result"
    }
   ],
   "source": [
    "thislist[0]"
   ]
  },
  {
   "cell_type": "code",
   "execution_count": 6,
   "id": "southwest-membrane",
   "metadata": {},
   "outputs": [
    {
     "name": "stdout",
     "output_type": "stream",
     "text": [
      "apple\n",
      "banana\n",
      "cherry\n"
     ]
    }
   ],
   "source": [
    "for i in range( 3 ): # 0 , 1, 2\n",
    "   print( thislist[i] ) "
   ]
  },
  {
   "cell_type": "code",
   "execution_count": 7,
   "id": "tutorial-communist",
   "metadata": {},
   "outputs": [
    {
     "name": "stdout",
     "output_type": "stream",
     "text": [
      "apple\n",
      "banana\n",
      "cherry\n"
     ]
    }
   ],
   "source": [
    "for x in thislist :\n",
    "   print( x )"
   ]
  },
  {
   "cell_type": "code",
   "execution_count": 9,
   "id": "assigned-lindsay",
   "metadata": {},
   "outputs": [],
   "source": [
    "#محتویات لیست قابل تغییر هستند\n",
    "\n",
    "thislist[0] = 'orange'"
   ]
  },
  {
   "cell_type": "code",
   "execution_count": 10,
   "id": "binding-freeze",
   "metadata": {},
   "outputs": [
    {
     "data": {
      "text/plain": [
       "['orange', 'banana', 'cherry']"
      ]
     },
     "execution_count": 10,
     "metadata": {},
     "output_type": "execute_result"
    }
   ],
   "source": [
    "thislist"
   ]
  },
  {
   "cell_type": "code",
   "execution_count": 17,
   "id": "threaded-benchmark",
   "metadata": {},
   "outputs": [],
   "source": [
    "# ترتیب، قابل تغییر، تکرار مجاز \n",
    "\n",
    "gholi = ['orange', 'banana', 'cherry', 'banana']"
   ]
  },
  {
   "cell_type": "code",
   "execution_count": 12,
   "id": "hydraulic-procedure",
   "metadata": {},
   "outputs": [
    {
     "data": {
      "text/plain": [
       "['orange', 'banana', 'cherry', 'banana']"
      ]
     },
     "execution_count": 12,
     "metadata": {},
     "output_type": "execute_result"
    }
   ],
   "source": [
    "gholi"
   ]
  },
  {
   "cell_type": "code",
   "execution_count": 15,
   "id": "angry-wages",
   "metadata": {},
   "outputs": [],
   "source": [
    "list1 = [\"apple\", \"banana\", \"cherry\"]\n",
    "\n",
    "list2 = [1, 5, 7, 9, 3]\n",
    "\n",
    "list3 = [True, False, False]\n",
    "\n",
    "#A list with strings, integers, boolean and float values:\n",
    "list4 = [\"Reza\", 41, True, 185.26]"
   ]
  },
  {
   "cell_type": "code",
   "execution_count": 14,
   "id": "fatal-sunday",
   "metadata": {},
   "outputs": [
    {
     "data": {
      "text/plain": [
       "['Reza', 41, True, 185.26]"
      ]
     },
     "execution_count": 14,
     "metadata": {},
     "output_type": "execute_result"
    }
   ],
   "source": [
    "list4"
   ]
  },
  {
   "cell_type": "code",
   "execution_count": 18,
   "id": "incident-morris",
   "metadata": {},
   "outputs": [
    {
     "name": "stdout",
     "output_type": "stream",
     "text": [
      "3\n"
     ]
    }
   ],
   "source": [
    "#List Length\n",
    "\n",
    "#To determine how many items a list has, use the len() function:\n",
    "\n",
    "#Example\n",
    "#Print the number of items in the list:\n",
    "\n",
    "thislist = [\"apple\", \"banana\", \"cherry\"]\n",
    "\n",
    "print( len(thislist) )"
   ]
  },
  {
   "cell_type": "markdown",
   "id": "nasty-russian",
   "metadata": {},
   "source": [
    "برنامه ای بنویسید که نمرات یک دانش آموز را دریافت کند و آنها را دریک لیست ذخیریه کند و میانگین نمرات را محسبه و چاپ کند:\n",
    "    "
   ]
  },
  {
   "cell_type": "code",
   "execution_count": 28,
   "id": "interested-commonwealth",
   "metadata": {},
   "outputs": [
    {
     "name": "stdout",
     "output_type": "stream",
     "text": [
      "Lotfan tedad nomerat ra vared konid:5\n",
      "nomre vared konid:12.2\n",
      "nomre vared konid:13.25\n",
      "nomre vared konid:19\n",
      "nomre vared konid:.25\n",
      "nomre vared konid:20\n",
      "[12.2, 13.25, 19.0, 0.25, 20.0]\n",
      "12.940000000000001\n"
     ]
    }
   ],
   "source": [
    "n = int(input('Lotfan tedad nomerat ra vared konid:'))\n",
    "\n",
    "nomre = [0 for i in range(n)] # 0,1,2,...,n-1\n",
    "\n",
    "s = 0\n",
    "    \n",
    "for i in range( n ):\n",
    "    nomre[i] = float(input('nomre vared konid:'))\n",
    "    s += nomre[i]\n",
    "    \n",
    "print( nomre )\n",
    "\n",
    "\n",
    "print( s/n )"
   ]
  },
  {
   "cell_type": "code",
   "execution_count": 32,
   "id": "burning-concord",
   "metadata": {},
   "outputs": [
    {
     "name": "stdout",
     "output_type": "stream",
     "text": [
      "0\n"
     ]
    },
    {
     "ename": "IndexError",
     "evalue": "list assignment index out of range",
     "output_type": "error",
     "traceback": [
      "\u001b[1;31m---------------------------------------------------------------------------\u001b[0m",
      "\u001b[1;31mIndexError\u001b[0m                                Traceback (most recent call last)",
      "\u001b[1;32m<ipython-input-32-8860e65f9284>\u001b[0m in \u001b[0;36m<module>\u001b[1;34m\u001b[0m\n\u001b[0;32m      1\u001b[0m \u001b[0mx\u001b[0m \u001b[1;33m=\u001b[0m \u001b[1;33m[\u001b[0m\u001b[1;33m]\u001b[0m\u001b[1;33m\u001b[0m\u001b[1;33m\u001b[0m\u001b[0m\n\u001b[0;32m      2\u001b[0m \u001b[0mprint\u001b[0m\u001b[1;33m(\u001b[0m \u001b[0mlen\u001b[0m\u001b[1;33m(\u001b[0m\u001b[0mx\u001b[0m\u001b[1;33m)\u001b[0m \u001b[1;33m)\u001b[0m\u001b[1;33m\u001b[0m\u001b[1;33m\u001b[0m\u001b[0m\n\u001b[1;32m----> 3\u001b[1;33m \u001b[0mx\u001b[0m\u001b[1;33m[\u001b[0m\u001b[1;36m0\u001b[0m\u001b[1;33m]\u001b[0m \u001b[1;33m=\u001b[0m \u001b[1;36m12\u001b[0m\u001b[1;33m\u001b[0m\u001b[1;33m\u001b[0m\u001b[0m\n\u001b[0m",
      "\u001b[1;31mIndexError\u001b[0m: list assignment index out of range"
     ]
    }
   ],
   "source": [
    "x = []\n",
    "print( len(x) )\n",
    "x[0] = 12"
   ]
  },
  {
   "cell_type": "code",
   "execution_count": 27,
   "id": "reverse-friendly",
   "metadata": {},
   "outputs": [
    {
     "data": {
      "text/plain": [
       "[0, 0, 0, 0, 0]"
      ]
     },
     "execution_count": 27,
     "metadata": {},
     "output_type": "execute_result"
    }
   ],
   "source": [
    "nomre = [0 for i in range(n)]\n",
    "nomre"
   ]
  },
  {
   "cell_type": "code",
   "execution_count": 29,
   "id": "dirty-houston",
   "metadata": {},
   "outputs": [],
   "source": [
    "l = [0]*5"
   ]
  },
  {
   "cell_type": "code",
   "execution_count": 30,
   "id": "ordered-collection",
   "metadata": {},
   "outputs": [
    {
     "data": {
      "text/plain": [
       "[0, 0, 0, 0, 0]"
      ]
     },
     "execution_count": 30,
     "metadata": {},
     "output_type": "execute_result"
    }
   ],
   "source": [
    "l"
   ]
  },
  {
   "cell_type": "markdown",
   "id": "opened-analyst",
   "metadata": {},
   "source": [
    "هرکدام از دستورات زیر یک لیست به طول ۵ ایجاد میکنند که همه ایتمهای ان 0 است"
   ]
  },
  {
   "cell_type": "code",
   "execution_count": null,
   "id": "dramatic-tucson",
   "metadata": {},
   "outputs": [],
   "source": [
    "l = [0]*5\n",
    "\n",
    "t = [0 for i in range(5)]   # 0,1,2,3,4"
   ]
  },
  {
   "cell_type": "code",
   "execution_count": 33,
   "id": "interpreted-lesson",
   "metadata": {},
   "outputs": [],
   "source": [
    "k = [0] + [0]"
   ]
  },
  {
   "cell_type": "code",
   "execution_count": 34,
   "id": "alien-maintenance",
   "metadata": {},
   "outputs": [
    {
     "data": {
      "text/plain": [
       "[0, 0]"
      ]
     },
     "execution_count": 34,
     "metadata": {},
     "output_type": "execute_result"
    }
   ],
   "source": [
    "k"
   ]
  },
  {
   "cell_type": "code",
   "execution_count": 35,
   "id": "eligible-style",
   "metadata": {},
   "outputs": [],
   "source": [
    "k2 = 2 * [0]"
   ]
  },
  {
   "cell_type": "code",
   "execution_count": 36,
   "id": "enhanced-found",
   "metadata": {},
   "outputs": [
    {
     "data": {
      "text/plain": [
       "[0, 0]"
      ]
     },
     "execution_count": 36,
     "metadata": {},
     "output_type": "execute_result"
    }
   ],
   "source": [
    "k2"
   ]
  },
  {
   "cell_type": "code",
   "execution_count": 45,
   "id": "decreased-carry",
   "metadata": {},
   "outputs": [
    {
     "data": {
      "text/plain": [
       "[[0, 0, 0, 0], [0, 0, 0, 0], [0, 0, 0, 0]]"
      ]
     },
     "execution_count": 45,
     "metadata": {},
     "output_type": "execute_result"
    }
   ],
   "source": [
    "kk = [[0] * 4] * 3\n",
    "kk"
   ]
  },
  {
   "cell_type": "code",
   "execution_count": 43,
   "id": "aboriginal-grove",
   "metadata": {},
   "outputs": [
    {
     "data": {
      "text/plain": [
       "4"
      ]
     },
     "execution_count": 43,
     "metadata": {},
     "output_type": "execute_result"
    }
   ],
   "source": [
    "len( kk[0] )"
   ]
  },
  {
   "cell_type": "code",
   "execution_count": 2,
   "id": "ceramic-record",
   "metadata": {},
   "outputs": [],
   "source": [
    "for i in range(100,2):\n",
    "    print(i)\n",
    "    "
   ]
  },
  {
   "cell_type": "markdown",
   "id": "cutting-possible",
   "metadata": {},
   "source": [
    "2\n"
   ]
  },
  {
   "cell_type": "code",
   "execution_count": 8,
   "id": "committed-participation",
   "metadata": {},
   "outputs": [
    {
     "name": "stdout",
     "output_type": "stream",
     "text": [
      "0\n",
      "2\n",
      "4\n",
      "6\n",
      "8\n",
      "10\n",
      "12\n",
      "14\n",
      "16\n",
      "18\n",
      "20\n",
      "22\n",
      "24\n",
      "26\n",
      "28\n",
      "30\n",
      "32\n",
      "34\n",
      "36\n",
      "38\n",
      "40\n",
      "42\n",
      "44\n",
      "46\n",
      "48\n",
      "50\n",
      "52\n",
      "54\n",
      "56\n",
      "58\n",
      "60\n",
      "62\n",
      "64\n",
      "66\n",
      "68\n",
      "70\n",
      "72\n",
      "74\n",
      "76\n",
      "78\n",
      "80\n",
      "82\n",
      "84\n",
      "86\n",
      "88\n",
      "90\n",
      "92\n",
      "94\n",
      "96\n",
      "98\n"
     ]
    }
   ],
   "source": [
    "for i in range(0,100,2):\n",
    "    print(i)"
   ]
  },
  {
   "cell_type": "code",
   "execution_count": 9,
   "id": "timely-minutes",
   "metadata": {},
   "outputs": [
    {
     "name": "stdout",
     "output_type": "stream",
     "text": [
      "0\n",
      "2\n",
      "4\n",
      "6\n",
      "8\n",
      "10\n",
      "12\n",
      "14\n",
      "16\n",
      "18\n",
      "20\n",
      "22\n",
      "24\n",
      "26\n",
      "28\n",
      "30\n",
      "32\n",
      "34\n",
      "36\n",
      "38\n",
      "40\n",
      "42\n",
      "44\n",
      "46\n",
      "48\n",
      "50\n",
      "52\n",
      "54\n",
      "56\n",
      "58\n",
      "60\n",
      "62\n",
      "64\n",
      "66\n",
      "68\n",
      "70\n",
      "72\n",
      "74\n",
      "76\n",
      "78\n",
      "80\n",
      "82\n",
      "84\n",
      "86\n",
      "88\n",
      "90\n",
      "92\n",
      "94\n",
      "96\n",
      "98\n"
     ]
    }
   ],
   "source": [
    "i = 0\n",
    "while i < 100:\n",
    "    print(i)\n",
    "    i += 2\n",
    "    \n",
    "    "
   ]
  },
  {
   "cell_type": "code",
   "execution_count": null,
   "id": "focused-panama",
   "metadata": {},
   "outputs": [],
   "source": []
  }
 ],
 "metadata": {
  "kernelspec": {
   "display_name": "Python 3",
   "language": "python",
   "name": "python3"
  },
  "language_info": {
   "codemirror_mode": {
    "name": "ipython",
    "version": 3
   },
   "file_extension": ".py",
   "mimetype": "text/x-python",
   "name": "python",
   "nbconvert_exporter": "python",
   "pygments_lexer": "ipython3",
   "version": "3.9.2"
  }
 },
 "nbformat": 4,
 "nbformat_minor": 5
}
