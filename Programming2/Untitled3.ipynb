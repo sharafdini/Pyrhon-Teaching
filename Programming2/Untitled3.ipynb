{
 "cells": [
  {
   "cell_type": "markdown",
   "id": "d69b55cb",
   "metadata": {},
   "source": [
    "آموزش تابع input (ورودی گرفتن از کاربر) در پایتون (Python)\n",
    "\n",
    "\n",
    "\n",
    "\n",
    "اما حالا یه موضوعی! اونم اینکه اگر نوع a رو بخوایم چاپ کنیم، چه خروجی میده؟ برای این کار باید به آخر کد بالا کد زیر رو اضافه کینم!:\n",
    "\n",
    "\n",
    "که خروجی میده str یعنی string! امّا حتی جالبه که اگر به عنوان ورودی عدد هم بدین، بازهم نوع رو str میده!!\n",
    "\n",
    "خب سوال پیش میاد که اگر بخوایم مثلاً برای یک عدد نوع integer (عدد صحیح) رو نشون بده، چه کاری باید انجام بدیم؟\n",
    "\n",
    "\n",
    "در خط دومِ کد بالا، داریم چیزی که در a وارد کردیم را رو به int تبدیل می‌کنیم! و بعد خروجی اون رو می‌ریزیم توی متغیری به اسم b. و بعد توی خط 3 میایم b رو چاپ می‌کنیم! همچنین در خط 4 هم نوع b رو چاپ می‌کنیم!\n",
    "\n",
    "اما شاید بگین، اگه بخوام عدد اعشاری ورودی بدم و نوع رو اعشاری (=float) در نظر بگیره، باید چیکار کنم؟! فقط کافیه مشابه کد بالا، از کد زیر استفاده کنید!:\n",
    "\n",
    "a=input(\"Please enter your name: \")\n",
    "b=float(a)\n",
    "print(b)\n",
    "print(type(b))\n",
    "اما شاید کلاً بگین این چه وضعشه!! میخوام اگر string وارد کردم، نوع رو string نشون بده، اگر عدد صحیح (integer) وارد کردم، عدد صحیح نشون بده و اگر هم اعشاری (float) وارد کردم، اعشاری نشون بده! خلاصه اینکه هرچی وارد کردم، همون رو نشون بده!!\n",
    "\n",
    "در این صورت از تابع eval به شکل زیر استفاده می‌کنیم:\n",
    "\n",
    "\n",
    "چند نکته\n",
    "نکته: اگر داخل تابع input هیچ چیزی وارد نکنیم، هیچ چیزی به کاربر نشون نمیده! البته اینجوری نیست که کد رو اجرا نکنه! نه اینجوری نیست! یعنی عملا بازهم منتظر میمونه که کاربر یه چیزی وارد کنه، ولی هیچی به کاربر نشون نمیده که آقای فلانی، یه چیزی وارد کن تا بعد بهت بگم!"
   ]
  },
  {
   "cell_type": "markdown",
   "id": "6dae1afc",
   "metadata": {},
   "source": [
    "<div dir=\"rtl\">\n",
    "\n",
    "<\\div>"
   ]
  },
  {
   "cell_type": "code",
   "execution_count": 1,
   "id": "30a8cea6",
   "metadata": {},
   "outputs": [
    {
     "name": "stdout",
     "output_type": "stream",
     "text": [
      "Please enter your name: Reza\n",
      "Your name is: Reza\n"
     ]
    }
   ],
   "source": [
    "a=input(\"Please enter your name: \")\n",
    "\n",
    "print(\"Your name is: {}\".format(a))"
   ]
  },
  {
   "cell_type": "code",
   "execution_count": 3,
   "id": "8ed70aa1",
   "metadata": {},
   "outputs": [
    {
     "name": "stdout",
     "output_type": "stream",
     "text": [
      "<class 'str'>\n"
     ]
    }
   ],
   "source": [
    "print(type(a))"
   ]
  },
  {
   "cell_type": "code",
   "execution_count": null,
   "id": "f64df754",
   "metadata": {},
   "outputs": [],
   "source": [
    "a=input(\"Please enter your name: \")\n",
    "b=int(a)\n",
    "print(b)\n",
    "print(type(b))"
   ]
  },
  {
   "cell_type": "code",
   "execution_count": null,
   "id": "3745e4e4",
   "metadata": {},
   "outputs": [],
   "source": [
    "a=input(\"Please enter your name: \")\n",
    "b=eval(a)\n",
    "print(b)\n",
    "print(type(b))"
   ]
  },
  {
   "cell_type": "code",
   "execution_count": null,
   "id": "997349ff",
   "metadata": {},
   "outputs": [],
   "source": []
  },
  {
   "cell_type": "code",
   "execution_count": null,
   "id": "0568f6df",
   "metadata": {},
   "outputs": [],
   "source": []
  }
 ],
 "metadata": {
  "kernelspec": {
   "display_name": "Python 3",
   "language": "python",
   "name": "python3"
  },
  "language_info": {
   "codemirror_mode": {
    "name": "ipython",
    "version": 3
   },
   "file_extension": ".py",
   "mimetype": "text/x-python",
   "name": "python",
   "nbconvert_exporter": "python",
   "pygments_lexer": "ipython3",
   "version": "3.9.5"
  }
 },
 "nbformat": 4,
 "nbformat_minor": 5
}
