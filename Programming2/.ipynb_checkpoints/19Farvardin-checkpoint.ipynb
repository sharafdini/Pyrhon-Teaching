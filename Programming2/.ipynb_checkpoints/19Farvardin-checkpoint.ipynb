{
 "cells": [
  {
   "cell_type": "markdown",
   "id": "sexual-professor",
   "metadata": {},
   "source": [
    "#Python Lists\n",
    "#List\n",
    "Lists are used to store multiple items in a single variable.\n",
    "\n",
    "Lists are one of 4 built-in data types in Python used to store collections of data,\n",
    "the other 3 are Tuple, Set, and Dictionary, all with different qualities and usage.\n",
    "\n",
    "Lists are created using square brackets:"
   ]
  },
  {
   "cell_type": "code",
   "execution_count": 2,
   "id": "twelve-mixture",
   "metadata": {
    "scrolled": true
   },
   "outputs": [
    {
     "name": "stdout",
     "output_type": "stream",
     "text": [
      "['apple', 'banana', 'cherry']\n"
     ]
    }
   ],
   "source": [
    "#Example\n",
    "#Create a List:\n",
    "\n",
    "x = \"apple\"\n",
    "y = \"banana\"\n",
    "z = \"cherry\"\n",
    "\n",
    "# نوع داده چندگانه\n",
    "thislist = [\"apple\" , \"banana\", \"cherry\"]\n",
    "\n",
    "print(thislist)"
   ]
  },
  {
   "cell_type": "markdown",
   "id": "loving-documentation",
   "metadata": {},
   "source": [
    "List Items\n",
    "List items are ordered, changeable, and allow duplicate values.\n",
    "\n",
    "List items are indexed, the first item has index [0], the second item has index [1] etc.\n",
    "\n"
   ]
  },
  {
   "cell_type": "code",
   "execution_count": 4,
   "id": "unique-spirituality",
   "metadata": {},
   "outputs": [
    {
     "data": {
      "text/plain": [
       "'apple'"
      ]
     },
     "execution_count": 4,
     "metadata": {},
     "output_type": "execute_result"
    }
   ],
   "source": [
    "thislist[0]"
   ]
  },
  {
   "cell_type": "code",
   "execution_count": 6,
   "id": "unsigned-persian",
   "metadata": {},
   "outputs": [
    {
     "name": "stdout",
     "output_type": "stream",
     "text": [
      "apple\n",
      "banana\n",
      "cherry\n"
     ]
    }
   ],
   "source": [
    "for i in range( 3 ): # 0 , 1, 2\n",
    "   print( thislist[i] ) "
   ]
  },
  {
   "cell_type": "code",
   "execution_count": 7,
   "id": "fifty-paint",
   "metadata": {},
   "outputs": [
    {
     "name": "stdout",
     "output_type": "stream",
     "text": [
      "apple\n",
      "banana\n",
      "cherry\n"
     ]
    }
   ],
   "source": [
    "for x in thislist :\n",
    "   print( x )"
   ]
  },
  {
   "cell_type": "code",
   "execution_count": 9,
   "id": "little-lindsay",
   "metadata": {},
   "outputs": [],
   "source": [
    "#محتویات لیست قابل تغییر هستند\n",
    "\n",
    "thislist[0] = 'orange'"
   ]
  },
  {
   "cell_type": "code",
   "execution_count": 10,
   "id": "middle-impossible",
   "metadata": {},
   "outputs": [
    {
     "data": {
      "text/plain": [
       "['orange', 'banana', 'cherry']"
      ]
     },
     "execution_count": 10,
     "metadata": {},
     "output_type": "execute_result"
    }
   ],
   "source": [
    "thislist"
   ]
  },
  {
   "cell_type": "code",
   "execution_count": 17,
   "id": "improving-biotechnology",
   "metadata": {},
   "outputs": [],
   "source": [
    "# ترتیب، قابل تغییر، تکرار مجاز \n",
    "\n",
    "gholi = ['orange', 'banana', 'cherry', 'banana']"
   ]
  },
  {
   "cell_type": "code",
   "execution_count": 12,
   "id": "aquatic-nudist",
   "metadata": {},
   "outputs": [
    {
     "data": {
      "text/plain": [
       "['orange', 'banana', 'cherry', 'banana']"
      ]
     },
     "execution_count": 12,
     "metadata": {},
     "output_type": "execute_result"
    }
   ],
   "source": [
    "gholi"
   ]
  },
  {
   "cell_type": "code",
   "execution_count": 15,
   "id": "portable-sweet",
   "metadata": {},
   "outputs": [],
   "source": [
    "list1 = [\"apple\", \"banana\", \"cherry\"]\n",
    "\n",
    "list2 = [1, 5, 7, 9, 3]\n",
    "\n",
    "list3 = [True, False, False]\n",
    "\n",
    "#A list with strings, integers, boolean and float values:\n",
    "list4 = [\"Reza\", 41, True, 185.26]"
   ]
  },
  {
   "cell_type": "code",
   "execution_count": 14,
   "id": "sharp-permit",
   "metadata": {},
   "outputs": [
    {
     "data": {
      "text/plain": [
       "['Reza', 41, True, 185.26]"
      ]
     },
     "execution_count": 14,
     "metadata": {},
     "output_type": "execute_result"
    }
   ],
   "source": [
    "list4"
   ]
  },
  {
   "cell_type": "code",
   "execution_count": 18,
   "id": "unnecessary-trigger",
   "metadata": {},
   "outputs": [
    {
     "name": "stdout",
     "output_type": "stream",
     "text": [
      "3\n"
     ]
    }
   ],
   "source": [
    "#List Length\n",
    "\n",
    "#To determine how many items a list has, use the len() function:\n",
    "\n",
    "#Example\n",
    "#Print the number of items in the list:\n",
    "\n",
    "thislist = [\"apple\", \"banana\", \"cherry\"]\n",
    "\n",
    "print( len(thislist) )"
   ]
  },
  {
   "cell_type": "markdown",
   "id": "atmospheric-lawyer",
   "metadata": {},
   "source": [
    "برنامه ای بنویسید که نمرات یک دانش آموز را دریافت کند و آنها را دریک لیست ذخیریه کند و میانگین نمرات را محسبه و چاپ کند:\n",
    "    "
   ]
  },
  {
   "cell_type": "code",
   "execution_count": 28,
   "id": "renewable-blend",
   "metadata": {},
   "outputs": [
    {
     "name": "stdout",
     "output_type": "stream",
     "text": [
      "Lotfan tedad nomerat ra vared konid:5\n",
      "nomre vared konid:12.2\n",
      "nomre vared konid:13.25\n",
      "nomre vared konid:19\n",
      "nomre vared konid:.25\n",
      "nomre vared konid:20\n",
      "[12.2, 13.25, 19.0, 0.25, 20.0]\n",
      "12.940000000000001\n"
     ]
    }
   ],
   "source": [
    "n = int(input('Lotfan tedad nomerat ra vared konid:'))\n",
    "\n",
    "nomre = [0 for i in range(n)] # 0,1,2,...,n-1\n",
    "\n",
    "s = 0\n",
    "    \n",
    "for i in range( n ):\n",
    "    nomre[i] = float(input('nomre vared konid:'))\n",
    "    s += nomre[i]\n",
    "    \n",
    "print( nomre )\n",
    "\n",
    "\n",
    "print( s/n )"
   ]
  },
  {
   "cell_type": "code",
   "execution_count": 32,
   "id": "alive-allowance",
   "metadata": {},
   "outputs": [
    {
     "name": "stdout",
     "output_type": "stream",
     "text": [
      "0\n"
     ]
    },
    {
     "ename": "IndexError",
     "evalue": "list assignment index out of range",
     "output_type": "error",
     "traceback": [
      "\u001b[1;31m---------------------------------------------------------------------------\u001b[0m",
      "\u001b[1;31mIndexError\u001b[0m                                Traceback (most recent call last)",
      "\u001b[1;32m<ipython-input-32-8860e65f9284>\u001b[0m in \u001b[0;36m<module>\u001b[1;34m\u001b[0m\n\u001b[0;32m      1\u001b[0m \u001b[0mx\u001b[0m \u001b[1;33m=\u001b[0m \u001b[1;33m[\u001b[0m\u001b[1;33m]\u001b[0m\u001b[1;33m\u001b[0m\u001b[1;33m\u001b[0m\u001b[0m\n\u001b[0;32m      2\u001b[0m \u001b[0mprint\u001b[0m\u001b[1;33m(\u001b[0m \u001b[0mlen\u001b[0m\u001b[1;33m(\u001b[0m\u001b[0mx\u001b[0m\u001b[1;33m)\u001b[0m \u001b[1;33m)\u001b[0m\u001b[1;33m\u001b[0m\u001b[1;33m\u001b[0m\u001b[0m\n\u001b[1;32m----> 3\u001b[1;33m \u001b[0mx\u001b[0m\u001b[1;33m[\u001b[0m\u001b[1;36m0\u001b[0m\u001b[1;33m]\u001b[0m \u001b[1;33m=\u001b[0m \u001b[1;36m12\u001b[0m\u001b[1;33m\u001b[0m\u001b[1;33m\u001b[0m\u001b[0m\n\u001b[0m",
      "\u001b[1;31mIndexError\u001b[0m: list assignment index out of range"
     ]
    }
   ],
   "source": [
    "x = []\n",
    "print( len(x) )\n",
    "x[0] = 12"
   ]
  },
  {
   "cell_type": "code",
   "execution_count": 27,
   "id": "unsigned-penetration",
   "metadata": {},
   "outputs": [
    {
     "data": {
      "text/plain": [
       "[0, 0, 0, 0, 0]"
      ]
     },
     "execution_count": 27,
     "metadata": {},
     "output_type": "execute_result"
    }
   ],
   "source": [
    "nomre = [0 for i in range(n)]\n",
    "nomre"
   ]
  },
  {
   "cell_type": "code",
   "execution_count": 29,
   "id": "rubber-canal",
   "metadata": {},
   "outputs": [],
   "source": [
    "l = [0]*5"
   ]
  },
  {
   "cell_type": "code",
   "execution_count": 30,
   "id": "adjusted-ceremony",
   "metadata": {},
   "outputs": [
    {
     "data": {
      "text/plain": [
       "[0, 0, 0, 0, 0]"
      ]
     },
     "execution_count": 30,
     "metadata": {},
     "output_type": "execute_result"
    }
   ],
   "source": [
    "l"
   ]
  },
  {
   "cell_type": "markdown",
   "id": "vanilla-perspective",
   "metadata": {},
   "source": [
    "هرکدام از دستورات زیر یک لیست به طول ۵ ایجاد میکنند که همه ایتمهای ان 0 است"
   ]
  },
  {
   "cell_type": "code",
   "execution_count": null,
   "id": "illegal-supply",
   "metadata": {},
   "outputs": [],
   "source": [
    "l = [0]*5\n",
    "\n",
    "t = [0 for i in range(5)]   # 0,1,2,3,4"
   ]
  }
 ],
 "metadata": {
  "kernelspec": {
   "display_name": "Python 3",
   "language": "python",
   "name": "python3"
  },
  "language_info": {
   "codemirror_mode": {
    "name": "ipython",
    "version": 3
   },
   "file_extension": ".py",
   "mimetype": "text/x-python",
   "name": "python",
   "nbconvert_exporter": "python",
   "pygments_lexer": "ipython3",
   "version": "3.9.2"
  }
 },
 "nbformat": 4,
 "nbformat_minor": 5
}
