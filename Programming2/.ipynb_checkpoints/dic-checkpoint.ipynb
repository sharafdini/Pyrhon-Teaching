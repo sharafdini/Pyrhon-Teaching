{
 "cells": [
  {
   "cell_type": "markdown",
   "id": "d3d5cfe2",
   "metadata": {
    "direction": "rtl"
   },
   "source": [
    "<div dir=\"rtl\">\n",
    " فهرست محتوای آموزش\n",
    "    \n",
    " -  ساخت دیکشنری در پایتون \n",
    "    \n",
    " - ساخت دیکشنری با سازنده dict\n",
    "   \n",
    " - کار با دیکشنری در پایتون\n",
    "\n",
    " - دسترسی به مقادیر دیکشنری\n",
    "\n",
    " - تغییر مقادیر دیکشنری در پایتون\n",
    "    \n",
    " - افزودن عنصر جدید به دیکشنری پایتون\n",
    "\n",
    " - حذف عناصر از دیکشنری\n",
    "\n",
    " -  قوانین تعریف کلید و مقدار در دیکشنری پایتون\n",
    "    \n",
    " - کپی کردن دیکشنری در پایتون\n",
    "\n",
    " - جمع‌بندی: دیکشنری در پایتون چیست ؟\n",
    "</div>"
   ]
  },
  {
   "cell_type": "markdown",
   "id": "44f482fb",
   "metadata": {
    "direction": "rtl"
   },
   "source": [
    "<div dir=\"rtl\">\n",
    "دیکشنری در زبان برنامه نویسی پایتون یک نوع داده‌ای محبوب و نسبتاً پر کاربرد است. این نوع داده‌ای در اصل یک نوع لیست انجمنی (Associative) یا لیست کلید-مقدار (key-value) می‌باشد. در این مقاله به طور جامع به آموزش دیکشنری در پایتون خواهیم پرداخت.\n",
    "</div>\n",
    "<div dir=\"rtl\">\n",
    "معمولاً از دیکشنری پایتون در جاهایی استفاده می‌کنیم که نیاز داریم مقادیری را با استفاده از یک کلید مرتبط با هر کدام از آن‌ها شناسایی کنیم. این مقادیر هر چیزی می‌توانند باشند؛ برای مثال، رشته متنی، عدد، شئ و … .\n",
    "\n",
    "</div>\n",
    "<div dir=\"rtl\">\n",
    "در ابتدا به این موضوع می‌پردازیم که دیکشنری در پایتون چیست و پس از آن یک دیکشنری ساخته و با کار با دیکشنری پایتون را خواهیم آموخت. همچنین در انتها در مورد نوع کلیدها و مقادیر بیشتر صحبت کرده و چند ترفند کاربردی را با هم مرور می‌کنیم.\n",
    "\n",
    "</div>\n",
    "<div dir=\"rtl\">\n",
    "دیکشنری (Dictionary) در زبان فارسی معادل فرهنگ لغت یا واژه‌نامه است. در یک کتاب فرهنگ لغت، یک کلمه با معادلش مرتبط می‌شود. این معادل می‌تواند یکی بوده یا چندین مورد باشد، اما کلمه اصلی یکی است! در اصل یک یا چند معنی معادل را به یک کلمه مرتبط کرده‌ایم.\n",
    "\n",
    "در دیکشنری پایتون هم دقیقاً مشابه چنین کاری را انجام می‌دهیم؛ یک کلمه (که آن را به عنوان کلید می‌شناسیم) با یک مقدار (رشته متنی، عدد، رفرنس شئ و …) مرتبط خواهد شد.\n",
    "</div>"
   ]
  },
  {
   "cell_type": "markdown",
   "id": "bca2a5f1",
   "metadata": {
    "direction": "rtl"
   },
   "source": [
    "<div dir=\"rtl\">\n",
    "ساخت دیکشنری در پایتون\n",
    "\n",
    "یک دیکشنری با علامت { شروع شده و با } خاتمه می‌یابد. اعضای کی دیکشنری به صورت کلید و مقدار (key value)  در درون آن تعریف شده و مشابه سایر ساختارهای رایج ذخیره‌سازی در پایتون، با استفاده از کاما (,) از یکدیگر جدا می‌شوند.\n",
    "\n",
    "برای مثال فرض کنید می‌خواهیم مشخصات فردی را درون یک دیکشنری داشته باشیم؛ دیکشنری را به صورت زیر تعریف می‌کنیم.\n",
    "</div>"
   ]
  },
  {
   "cell_type": "code",
   "execution_count": 6,
   "id": "114f0755",
   "metadata": {},
   "outputs": [
    {
     "name": "stdout",
     "output_type": "stream",
     "text": [
      "{'name': 'Gholi', 'job': 'Keshavarz', 'car': 'Traktur', 'age': 41, 'code_melli': 1234567890}\n"
     ]
    }
   ],
   "source": [
    "person  = {\n",
    "    \"name\" : \"Gholi\",\n",
    "    \"job\"  : \"Keshavarz\",\n",
    "    \"car\"  : \"Traktur\",\n",
    "    \"age\"  : 41,\n",
    "    \"code_melli\" : 1234567890\n",
    "}\n",
    "\n",
    "print(Gholi)"
   ]
  },
  {
   "cell_type": "markdown",
   "id": "269078cc",
   "metadata": {
    "direction": "rtl"
   },
   "source": [
    "<div dir=\"rtl\">\n",
    "به همین سادگی توانستیم یک دیکشنری حاوی اطلاعات فردی به نام Gholi را ایجاد کنیم!\n",
    "\n",
    "تعداد عناصر موجود در یک دیکشنری پایتون نامحدود است. ما می‌توانیم یک دیکشنری با هزاران عنصر داشته یا فقط درون آن یک عنصر را نگهداری کنیم. فقط باید قوانین تعریف کلید و مقدار برای آن‌ها رعایت شود. (که در انتهای مقاله در مورد آن بحث می‌کنیم.)\n",
    "\n",
    "ساخت دیکشنری با سازنده dict\n",
    "برای ایجاد دیکشنری می‌توان از سازنده (Constructor) آن نیز استفاده کرد. به این منظور تابع dict() را صدا زده و تمام کلیدها و مقادیر آن‌ها را به صورت پارامترهای جداگانه به عنوان ورودی به تابع می‌دهیم.\n",
    " </div> "
   ]
  },
  {
   "cell_type": "code",
   "execution_count": 12,
   "id": "19933182",
   "metadata": {},
   "outputs": [
    {
     "name": "stdout",
     "output_type": "stream",
     "text": [
      "{'name': 'Gholi', 'job': 'Keshavarz', 'car': 'Traktur', 'age': 41, 'code_melli': 1234567890}\n"
     ]
    }
   ],
   "source": [
    "name = 'Gholi'\n",
    "job = 'Keshavarz'\n",
    "car= 'Traktur'\n",
    "age = 41\n",
    "code_melli= 1234567890\n",
    "\n",
    "person = dict(name = 'Gholi' , job = 'Keshavarz', car = 'Traktur', age = 41, code_melli= 1234567890)\n",
    "print(person)"
   ]
  },
  {
   "cell_type": "markdown",
   "id": "588ee379",
   "metadata": {
    "direction": "rtl"
   },
   "source": [
    "<div dir=\"rtl\">\n",
    "نتیجه ذخیره شده در متغیر person نیز مشابه حالت قبل است. در حقیقت تفاوت خاصی در دیکشنری ایجاد شده در این دو حالت وجود ندارد. شما می‌توانید با هر روشی که راحت‌تر هستید از آن‌ها استفاده کنید.\n",
    "    </div>"
   ]
  },
  {
   "cell_type": "code",
   "execution_count": 16,
   "id": "5725f17f",
   "metadata": {},
   "outputs": [
    {
     "data": {
      "text/plain": [
       "{'Name': 'sad asal tanhaee',\n",
       " 'isbn': '221312',\n",
       " 'number-lib': '451',\n",
       " 'author': 'Gabo',\n",
       " 'nasher': 'nashr Cheshme',\n",
       " 'year': 1278,\n",
       " 'classification': '80025'}"
      ]
     },
     "execution_count": 16,
     "metadata": {},
     "output_type": "execute_result"
    }
   ],
   "source": [
    "# : colon\n",
    "# ; semicolon\n",
    "# gibi vaziri rahli \n",
    "ketab ={\n",
    "    'Name' : 'sad asal tanhaee',\n",
    "    'isbn' : '221312' , \n",
    "    'number-lib' : '451' ,\n",
    "    'author':'Gabo',\n",
    "    'nasher':'nashr Cheshme',\n",
    "    'year'  : 1278 , \n",
    "    'classification' : '80025',\n",
    "    'page_number' :256,\n",
    "    'size' : 'gibi' \n",
    "}\n",
    "\n",
    "print(ketab)"
   ]
  },
  {
   "cell_type": "markdown",
   "id": "c2af797d",
   "metadata": {
    "direction": "rtl"
   },
   "source": [
    "<div dir=\"rtl\">\n",
    "کار با دیکشنری در پایتون\n",
    "تا به این جای کار توانستیم یک دیکشنری در پایتون بسازیم. قطعاً لازم است بتوانیم با عناصر موجود در آن عملیات‌هایی انجام داده تا برنامه خود را پیش ببریم. در ادامه روش‌های کار با عناصر دیکشنری را می‌خوانیم.\n",
    "\n",
    "دسترسی به مقادیر دیکشنری\n",
    "برای دسترسی به مقادیر (عناصر) ذخیره‌شده در دیکشنری، دو راه وجود دارد.\n",
    "\n",
    "راه اول و ساده‌ترین راه‌حل مشابه دسترسی به خانه‌های یک لیست در پایتون است. به این صورت که با استفاده از علامت [] می‌توان به تک تک عناصر دسترسی داشت؛ با این تفاوت که به جای مقدار عددی برای اَندیس، از مقدار کلید‌ها به عنوان ایندکس استفاده خواهیم کرد.\n",
    "\n",
    "اگر در دیکشنری‌ای که ابتدای کار ساختیم بخواهیم به نام فرد دسترسی پیدا کنیم، به صورت زیر عمل خواهیم کرد.\n",
    " </div>"
   ]
  },
  {
   "cell_type": "code",
   "execution_count": 23,
   "id": "3b1126fa",
   "metadata": {},
   "outputs": [
    {
     "data": {
      "text/plain": [
       "'sad asal tanhaee'"
      ]
     },
     "execution_count": 23,
     "metadata": {},
     "output_type": "execute_result"
    }
   ],
   "source": [
    "ketab[\"Name\"]"
   ]
  },
  {
   "cell_type": "code",
   "execution_count": 17,
   "id": "f8256947",
   "metadata": {},
   "outputs": [
    {
     "name": "stdout",
     "output_type": "stream",
     "text": [
      "# Name:Gholi\n"
     ]
    }
   ],
   "source": [
    "print(\"# Sale chaap:\" + ketab[\"year\"])"
   ]
  },
  {
   "cell_type": "code",
   "execution_count": 26,
   "id": "488bf23b",
   "metadata": {},
   "outputs": [
    {
     "name": "stdout",
     "output_type": "stream",
     "text": [
      "# Sale chaap:1278\n"
     ]
    }
   ],
   "source": [
    "print(\"# Sale chaap:\" + str(ketab[\"year\"]))"
   ]
  },
  {
   "cell_type": "code",
   "execution_count": 18,
   "id": "a4484170",
   "metadata": {},
   "outputs": [
    {
     "data": {
      "text/plain": [
       "str"
      ]
     },
     "execution_count": 18,
     "metadata": {},
     "output_type": "execute_result"
    }
   ],
   "source": [
    "type(\"# Name:\" + person[\"name\"])"
   ]
  },
  {
   "cell_type": "code",
   "execution_count": 19,
   "id": "3159f9fd",
   "metadata": {},
   "outputs": [
    {
     "name": "stdout",
     "output_type": "stream",
     "text": [
      "dict_keys(['name', 'job', 'car', 'age', 'code_melli'])\n",
      "dict_values(['Gholi', 'Keshavarz', 'Traktur', 41, 1234567890])\n",
      "dict_items([('name', 'Gholi'), ('job', 'Keshavarz'), ('car', 'Traktur'), ('age', 41), ('code_melli', 1234567890)])\n",
      "Gholi\n"
     ]
    }
   ],
   "source": [
    "print(person.keys())   #get keys\n",
    "print(person.values()) #get values\n",
    "print(person.items())  #get key-value pairs\n",
    "print(person.get('name'))"
   ]
  },
  {
   "cell_type": "code",
   "execution_count": 21,
   "id": "c6def435",
   "metadata": {},
   "outputs": [
    {
     "data": {
      "text/plain": [
       "dict_keys(['name', 'job', 'car', 'age', 'code_melli'])"
      ]
     },
     "execution_count": 21,
     "metadata": {},
     "output_type": "execute_result"
    }
   ],
   "source": [
    "person.keys()"
   ]
  },
  {
   "cell_type": "markdown",
   "id": "bbc32b9c",
   "metadata": {
    "direction": "rtl"
   },
   "source": [
    "<div dir=\"rtl\">\n",
    "خطای KeyError در دیکشنری پایتون\n",
    "\n",
    "اگر در هنگام فراخوانی یک مقدار از دیکشنری، کلیدی را صدا بزنیم که وجود نداشته باشد، با خطایی از نوع KeyError مواجه خواهیم شد.\n",
    "</div>"
   ]
  },
  {
   "cell_type": "code",
   "execution_count": 27,
   "id": "744b6555",
   "metadata": {},
   "outputs": [
    {
     "ename": "KeyError",
     "evalue": "'esme'",
     "output_type": "error",
     "traceback": [
      "\u001b[1;31m---------------------------------------------------------------------------\u001b[0m",
      "\u001b[1;31mKeyError\u001b[0m                                  Traceback (most recent call last)",
      "\u001b[1;32m<ipython-input-27-1c3daf5e4fc1>\u001b[0m in \u001b[0;36m<module>\u001b[1;34m\u001b[0m\n\u001b[1;32m----> 1\u001b[1;33m \u001b[0mketab\u001b[0m\u001b[1;33m[\u001b[0m\u001b[1;34m\"esme\"\u001b[0m\u001b[1;33m]\u001b[0m\u001b[1;33m\u001b[0m\u001b[1;33m\u001b[0m\u001b[0m\n\u001b[0m",
      "\u001b[1;31mKeyError\u001b[0m: 'esme'"
     ]
    }
   ],
   "source": [
    "ketab[\"esme\"]"
   ]
  },
  {
   "cell_type": "markdown",
   "id": "8ce50e6e",
   "metadata": {
    "direction": "rtl"
   },
   "source": [
    "<div dir=\"rtl\">\n",
    "تغییر مقادیر دیکشنری در پایتون\n",
    "\n",
    "برای به‌روز‌رسانی مقدار هر یک از کلیدها مشابه تخصیص مقدار به ایندکس‌های مختلف یک لیست عمل می‌کنیم.\n",
    "\n",
    "در قطعه کد زیر، مقدار 1375 را در کلید year از دیکشنری ketab قرار داده‌ایم.\n",
    "    </div>"
   ]
  },
  {
   "cell_type": "code",
   "execution_count": 28,
   "id": "a9a44528",
   "metadata": {},
   "outputs": [],
   "source": [
    "ketab[\"year\"] = 1375"
   ]
  },
  {
   "cell_type": "code",
   "execution_count": 29,
   "id": "4a4a2898",
   "metadata": {},
   "outputs": [
    {
     "data": {
      "text/plain": [
       "{'Name': 'sad asal tanhaee',\n",
       " 'isbn': '221312',\n",
       " 'number-lib': '451',\n",
       " 'author': 'Gabo',\n",
       " 'nasher': 'nashr Cheshme',\n",
       " 'year': 1375,\n",
       " 'classification': '80025'}"
      ]
     },
     "execution_count": 29,
     "metadata": {},
     "output_type": "execute_result"
    }
   ],
   "source": [
    "ketab"
   ]
  },
  {
   "cell_type": "markdown",
   "id": "da193e23",
   "metadata": {
    "direction": "rtl"
   },
   "source": [
    "<div dir=\"rtl\">\n",
    "همان‌طور که احتمالاً درست حدس زده‌اید، می‌توان برای به‌روز‌رسانی مقدار یک کلید در دیکشنری از همان مقدار یا مقدارهای دیگر درون آن دیکشنری نیز استفاده کرد.\n",
    "\n",
    "مثلاً در مثال زیر، سن فعلی کاربر را به اندازه یک واحد افزایش می‌دهیم.\n",
    "</div>"
   ]
  },
  {
   "cell_type": "code",
   "execution_count": 30,
   "id": "4de896e2",
   "metadata": {},
   "outputs": [
    {
     "data": {
      "text/plain": [
       "{'name': 'Gholi',\n",
       " 'job': 'Keshavarz',\n",
       " 'car': 'Traktur',\n",
       " 'age': 41,\n",
       " 'code_melli': 1234567890}"
      ]
     },
     "execution_count": 30,
     "metadata": {},
     "output_type": "execute_result"
    }
   ],
   "source": [
    "person"
   ]
  },
  {
   "cell_type": "code",
   "execution_count": 33,
   "id": "c50dc0c6",
   "metadata": {},
   "outputs": [],
   "source": [
    "person['age'] += 1   # person['age'] =  person['age'] + 1"
   ]
  },
  {
   "cell_type": "code",
   "execution_count": 34,
   "id": "cf658eb4",
   "metadata": {},
   "outputs": [
    {
     "data": {
      "text/plain": [
       "{'name': 'Gholi',\n",
       " 'job': 'Keshavarz',\n",
       " 'car': 'Traktur',\n",
       " 'age': 43,\n",
       " 'code_melli': 1234567890}"
      ]
     },
     "execution_count": 34,
     "metadata": {},
     "output_type": "execute_result"
    }
   ],
   "source": [
    "person"
   ]
  },
  {
   "cell_type": "markdown",
   "id": "9c34919b",
   "metadata": {
    "direction": "rtl"
   },
   "source": [
    "<div dir=\"rtl\">\n",
    "افزودن عنصر جدید به دیکشنری پایتون\n",
    "\n",
    "افزودن عضو جدید به دیکشنری در پایتون بسیار آسان و ساده است. برای این کار، مشابه تغییر مقدار یک کلید در دیکشنری عمل می‌کنیم، با این تفاوت که کلید صدا زده شده، کلید جدید و مقداری که به آن تخصیص می‌یابد مقدار مورد نظرمان خواهد بود.\n",
    "    </div>"
   ]
  },
  {
   "cell_type": "code",
   "execution_count": 37,
   "id": "d8866920",
   "metadata": {},
   "outputs": [],
   "source": [
    "person[\"mobile\"] = \"Samsung Galaxy Note 9\""
   ]
  },
  {
   "cell_type": "code",
   "execution_count": 38,
   "id": "7e9c0821",
   "metadata": {},
   "outputs": [
    {
     "data": {
      "text/plain": [
       "{'name': 'Gholi',\n",
       " 'job': 'Keshavarz',\n",
       " 'car': 'Traktur',\n",
       " 'age': 43,\n",
       " 'code_melli': 1234567890,\n",
       " 'mobile': 'Samsung Galaxy Note 9'}"
      ]
     },
     "execution_count": 38,
     "metadata": {},
     "output_type": "execute_result"
    }
   ],
   "source": [
    "person"
   ]
  },
  {
   "cell_type": "markdown",
   "id": "fe447ab9",
   "metadata": {
    "direction": "rtl"
   },
   "source": [
    "<div dir=\"rtl\">\n",
    " می‌بینیم که در کد بالا کلید mobile و مقدار مربوط به آن از درون دیکشنری حذف شده است.\n",
    " \n",
    "\n",
    "روش دوم برای حذف یک المان از دیکشنری استفاده از متد pop() در دیکشنری پایتون است. این تابع به صورت متد روی دیکشنری مورد نظر صدا زده شده و یک ورودی می‌گیرد.\n",
    "\n",
    "ورودی آن همان مقدار کلید مورد نظر ماست که می‌خواهیم از دیکشنری حذف کنیم.\n",
    "    </div>"
   ]
  },
  {
   "cell_type": "code",
   "execution_count": 41,
   "id": "3af93139",
   "metadata": {},
   "outputs": [
    {
     "data": {
      "text/plain": [
       "'Traktur'"
      ]
     },
     "execution_count": 41,
     "metadata": {},
     "output_type": "execute_result"
    }
   ],
   "source": [
    "person.pop(\"car\")"
   ]
  },
  {
   "cell_type": "code",
   "execution_count": 43,
   "id": "861272ae",
   "metadata": {},
   "outputs": [
    {
     "name": "stdout",
     "output_type": "stream",
     "text": [
      "{'name': 'Gholi', 'job': 'Keshavarz', 'age': 43, 'code_melli': 1234567890}\n"
     ]
    }
   ],
   "source": [
    "print(person)\n"
   ]
  },
  {
   "cell_type": "code",
   "execution_count": 67,
   "id": "a86813db",
   "metadata": {},
   "outputs": [
    {
     "name": "stdout",
     "output_type": "stream",
     "text": [
      "{'name': 'Gholi', 'job': 'Keshavarz', 'car': 'Traktur', 'age': 41, 'code_melli': 1234567890}\n"
     ]
    }
   ],
   "source": [
    "person = dict(name = 'Gholi' , job = 'Keshavarz', car = 'Traktur', age = 41, code_melli= 1234567890)\n",
    "print(person)"
   ]
  },
  {
   "cell_type": "code",
   "execution_count": null,
   "id": "3fba7fcb",
   "metadata": {},
   "outputs": [],
   "source": []
  },
  {
   "cell_type": "markdown",
   "id": "21409a8e",
   "metadata": {
    "direction": "rtl"
   },
   "source": [
    "<div dir=\"rtl\">\n",
    "کپی کردن دیکشنری در پایتون\n",
    "\n",
    "همان‌طور که می‌دانید، متغیرهایی که به اشیاء اشاره می‌کنند حاوی رفرنسی به آن شئ هستند.\n",
    "\n",
    "پس اگر یک دیکشنری را با استفاده از علامت تخصیص (=) به متغیر دیگری بدهیم، دیکشنری کپی نمی‌شود؛ \n",
    "\n",
    "بلکه فقط رفرنس آن، درون متغیر دوم ریخته خواهد شد. در نتیجه با تغییر دیکشنری اول، دیکشنری دوم ما نیز تغییر می‌کند. \n",
    "\n",
    "بنابراین استفتده از نمتد انتساب برای کپی کردن دیکشنری صحیح نیست.\n",
    "    </div>\n"
   ]
  },
  {
   "cell_type": "code",
   "execution_count": 70,
   "id": "4c6c6db2",
   "metadata": {},
   "outputs": [
    {
     "name": "stdout",
     "output_type": "stream",
     "text": [
      "person= {'name': 'Khorzukhan', 'job': 'Keshavarz', 'car': 'Traktur', 'age': 41, 'code_melli': 1234567890}\n",
      "person_backup=  {'name': 'Khorzukhan', 'job': 'Keshavarz', 'car': 'Traktur', 'age': 41, 'code_melli': 1234567890}\n"
     ]
    }
   ],
   "source": [
    "person_backup = person  # not a true way to copy dictionary\n",
    "person['name'] = 'Khorzukhan'\n",
    "\n",
    "print('person=' , person)\n",
    "\n",
    "print('person_backup= ' , person_backup)"
   ]
  },
  {
   "cell_type": "markdown",
   "id": "6897cab8",
   "metadata": {
    "direction": "rtl"
   },
   "source": [
    "<div dir=\"rtl\">\n",
    "برای کپی کردن دیکشنری در پایتون می‌توان از متد copy() روی شئ دیکشنری استفاده کرد.\n",
    "</div>\n"
   ]
  },
  {
   "cell_type": "code",
   "execution_count": 76,
   "id": "01ea55c5",
   "metadata": {},
   "outputs": [
    {
     "name": "stdout",
     "output_type": "stream",
     "text": [
      "{'name': 'Gholi', 'job': 'Keshavarz', 'car': 'Traktur', 'age': 41, 'code_melli': 1234567890}\n"
     ]
    }
   ],
   "source": [
    "person = dict(name = 'Gholi' , job = 'Keshavarz', car = 'Traktur', age = 41, code_melli= 1234567890)\n",
    "print(person)\n",
    "person_backup = person.copy()\n",
    "person['name']='Khorzu'"
   ]
  },
  {
   "cell_type": "code",
   "execution_count": 78,
   "id": "89f908a9",
   "metadata": {},
   "outputs": [
    {
     "name": "stdout",
     "output_type": "stream",
     "text": [
      "person= {'name': 'Khorzu', 'job': 'Keshavarz', 'car': 'Traktur', 'age': 41, 'code_melli': 1234567890}\n",
      "person= {'name': 'Gholi', 'job': 'Keshavarz', 'car': 'Traktur', 'age': 41, 'code_melli': 1234567890}\n"
     ]
    }
   ],
   "source": [
    "print('person=' , person)\n",
    "\n",
    "print('person=' , person_backup)"
   ]
  },
  {
   "cell_type": "markdown",
   "id": "2c46ba0e",
   "metadata": {
    "direction": "rtl"
   },
   "source": [
    "### حذف عناصر از دیکشنری\n",
    "<div dir=\"rtl\">\n",
    "برای حذف یک کلید و مقدار مرتبط با آن، دو روش خواهیم داشت.\n",
    "\n",
    "روش اول استفاده از دستور del است. در جلوی این دستور کلید مورد نظر در دیکشنری را فراخوانی می‌کنیم.\n",
    "    </div>"
   ]
  },
  {
   "cell_type": "code",
   "execution_count": 40,
   "id": "95b2da4f",
   "metadata": {},
   "outputs": [
    {
     "data": {
      "text/plain": [
       "{'name': 'Gholi',\n",
       " 'job': 'Keshavarz',\n",
       " 'car': 'Traktur',\n",
       " 'age': 43,\n",
       " 'code_melli': 1234567890}"
      ]
     },
     "execution_count": 40,
     "metadata": {},
     "output_type": "execute_result"
    }
   ],
   "source": [
    "del person[\"mobile\"]\n",
    "\n",
    "person"
   ]
  },
  {
   "cell_type": "markdown",
   "id": "20ef93a1",
   "metadata": {
    "direction": "rtl"
   },
   "source": [
    "### حذف تمام عناصر دیکشنری\n",
    "<div dir=\"rtl\">\n",
    "\n",
    "اما گاهی نیاز است که صرفاً دیکشنری را خالی کنیم؛ یعنی بدون حذف خود دیکشنری، فقط کلید‌ها و مقدار‌ها را حذف کنیم. برای این کار متد clear() را روی شئ دیکشنری صدا می‌زنیم.\n",
    "\n",
    "با صدا زدن این تابع، تمام کلیدهای موجود در دیکشنری حذف شده و در نهایت یک دیکشنری خالی خواهیم داشت.\n",
    " </div>\n"
   ]
  },
  {
   "cell_type": "code",
   "execution_count": 62,
   "id": "addf70c5",
   "metadata": {},
   "outputs": [
    {
     "name": "stdout",
     "output_type": "stream",
     "text": [
      "{}\n"
     ]
    }
   ],
   "source": [
    "person.clear() # delete all keys in Dictionary\n",
    "print( person )\n",
    "\n",
    "# output: {}"
   ]
  },
  {
   "cell_type": "markdown",
   "id": "16d51ba6",
   "metadata": {
    "direction": "rtl"
   },
   "source": [
    "### حذف کل دیکشنری در پایتون\n",
    "<div dir=\"rtl\">\n",
    "گاهی لازم است تا کل دیکشنری را حذف کنیم.\n",
    "\n",
    "منظور از کل دیکشنری، حذف تمام کلید‌ها و مقدار‌ها و پس از آن حذف متغیر دیکشنری است.\n",
    "\n",
    "برای این کار کافی است تا نام دیکشنری را در مقابل دستور del بنویسیم.\n",
    "\n",
    "با این کار کل دیکشنری حذف خواهد شد.\n",
    "    </div>"
   ]
  },
  {
   "cell_type": "code",
   "execution_count": 65,
   "id": "3fc76542",
   "metadata": {},
   "outputs": [
    {
     "ename": "NameError",
     "evalue": "name 'person' is not defined",
     "output_type": "error",
     "traceback": [
      "\u001b[1;31m---------------------------------------------------------------------------\u001b[0m",
      "\u001b[1;31mNameError\u001b[0m                                 Traceback (most recent call last)",
      "\u001b[1;32m<ipython-input-65-60fa6e463ea8>\u001b[0m in \u001b[0;36m<module>\u001b[1;34m\u001b[0m\n\u001b[0;32m      3\u001b[0m \u001b[1;32mdel\u001b[0m \u001b[0mperson\u001b[0m\u001b[1;33m\u001b[0m\u001b[1;33m\u001b[0m\u001b[0m\n\u001b[0;32m      4\u001b[0m \u001b[1;33m\u001b[0m\u001b[0m\n\u001b[1;32m----> 5\u001b[1;33m \u001b[0mprint\u001b[0m\u001b[1;33m(\u001b[0m\u001b[0mperson\u001b[0m\u001b[1;33m)\u001b[0m\u001b[1;33m\u001b[0m\u001b[1;33m\u001b[0m\u001b[0m\n\u001b[0m",
      "\u001b[1;31mNameError\u001b[0m: name 'person' is not defined"
     ]
    }
   ],
   "source": [
    "person = dict(name = 'Gholi' , job = 'Keshavarz', car = 'Traktur', age = 41, code_melli= 1234567890)\n",
    "\n",
    "del person\n",
    "\n",
    "print(person)\n"
   ]
  },
  {
   "cell_type": "markdown",
   "id": "6aaefe9a",
   "metadata": {
    "direction": "rtl"
   },
   "source": [
    "# قوانین تعریف کلید و مقدار در دیکشنری پایتون\n",
    "\n",
    "### کلیدهای دیکشنری در پایتون باید دو ویژگی اصلی داشته باشند.\n",
    "<div dir=\"rtl\">\n",
    " \n",
    "    - یکتا باشند (تکراری نباشند)\n",
    "    - تغییرناپذیر باشند.\n",
    "\n",
    "- مورد اول که تقریباً واضح است. در حقیقت به ازای هر کلید در دیکشنری نمی‌توان بیشتر از یک مقدار داشت. در صورتی که یک کلید دو بار در دیکشنری تعریف شود، مقدار دوم آن جایگزین اولی شده و همواره مقدار دوم را خواهیم داشت. (به نوعی تغییر مقدار صورت می‌گیرد)\n",
    "\n",
    "- در مورد دومین قانون، کلید را به عبارتی هویت مقدار (value) مرتبط با آن می‌دانند. می‌دانیم که هویت را نمی‌توان تغییر داد. بنابراین کلید‌ها در دیکشنری پایتون می‌بایست یک مقدار تغییرناپذیر باشند. در نتیجه نمی‌توان از یک متغیر به عنوان کلید استفاده کرد.\n",
    "\n",
    "- برای مقادیر متناظر با کلید‌ها در دیکشنری هیچ گونه محدودیتی نداریم. این مقادیر می‌توانند تکراری بوده یا از هر نوع داده‌ای مختلفی (نظیر رشته، عدد، شئ پایتون، شئ تعریف شده توسط کاربر و …) باشند؛ در نتیجه می‌توانند تغییرپذیر نیز باشند.\n",
    "    </div>"
   ]
  },
  {
   "cell_type": "markdown",
   "id": "06fb99b5",
   "metadata": {
    "direction": "rtl"
   },
   "source": [
    "### جمع‌بندی: دیکشنری در پایتون چیست ؟\n",
    "<div dir=\"rtl\">\n",
    "\n",
    "دیکشنری در پایتون نوعی لیست انجمنی یا کلید-مقدار است. اگر با لیست‌ها در پایتون آشنایی داشته باشید، می‌دانید که در لیست برای دسترسی به هر عنصر از اندیس استفاده می‌کنیم. در دیکشنری اندیس (یا همان کلید) هر مقدار (value) را خودمان تعریف خواهیم کرد.\n",
    "\n",
    "در این مقاله با نحوه ساخت دیکشنری در پایتون، قواعد مختلف و روش‌های کار با آن را آموختیم. دیدیم که می‌توان به سادگی از دیکشنری‌ها استفاده کرد. دیکشنری‌ها یکی از محبوب‌ترین و پرکاربرد‌ترین ساختمان‌های داده در پایتون است که می‌توان از آن در قسمت‌های مختلف برنامه خود استفاده کرد.\n",
    "    </div>"
   ]
  },
  {
   "cell_type": "code",
   "execution_count": null,
   "id": "ab02583f",
   "metadata": {},
   "outputs": [],
   "source": []
  }
 ],
 "metadata": {
  "kernelspec": {
   "display_name": "Python 3",
   "language": "python",
   "name": "python3"
  },
  "language_info": {
   "codemirror_mode": {
    "name": "ipython",
    "version": 3
   },
   "file_extension": ".py",
   "mimetype": "text/x-python",
   "name": "python",
   "nbconvert_exporter": "python",
   "pygments_lexer": "ipython3",
   "version": "3.9.5"
  }
 },
 "nbformat": 4,
 "nbformat_minor": 5
}
