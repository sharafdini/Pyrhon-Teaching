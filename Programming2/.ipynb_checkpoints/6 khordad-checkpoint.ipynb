{
 "cells": [
  {
   "cell_type": "code",
   "execution_count": null,
   "id": "2eb4178c",
   "metadata": {},
   "outputs": [],
   "source": [
    "<div dir=\"rtl\">\n",
    "\n",
    "</div>"
   ]
  },
  {
   "cell_type": "code",
   "execution_count": null,
   "id": "0ee264b4",
   "metadata": {},
   "outputs": [],
   "source": [
    "<div dir=\"rtl\">\n",
    "\n",
    "</div>"
   ]
  },
  {
   "cell_type": "code",
   "execution_count": null,
   "id": "955107ac",
   "metadata": {},
   "outputs": [],
   "source": [
    "saat = float(input(\"chand saat dar hafte ? \"))\n",
    "\n",
    "dastmozd_saati = int (input(\"har saat chand tooman ? \"))\n",
    "\n",
    "kol_daryafti = saat *  4 * dastmozd_saati \n",
    "\n",
    "vat = 0.1 * kol_daryafti\n",
    "\n",
    "khales_daryafti = kol_daryafti -  vat\n",
    "\n",
    "print (\"kol_daryafti = \", kol_daryafti)\n",
    "\n",
    "print (\"maliat = \", vat)\n",
    "\n",
    "print (\"khales_daryafti = \", khales_daryafti)"
   ]
  },
  {
   "cell_type": "code",
   "execution_count": 2,
   "id": "f88d7b90",
   "metadata": {},
   "outputs": [
    {
     "name": "stdout",
     "output_type": "stream",
     "text": [
      "chand saat dar hafte ? 45.9\n",
      "har saat chand tooman ? 52000\n",
      "9547200.0\n",
      "954720.0\n",
      "8524800.0\n"
     ]
    }
   ],
   "source": [
    "saat = float(input(\"chand saat dar hafte ? \"))\n",
    "\n",
    "dastmozd_saati = int (input(\"har saat chand tooman ? \"))\n",
    "\n",
    "kol_daryafti = saat *  4 * dastmozd_saati \n",
    "\n",
    "maliat = 0.1 * kol_daryafti\n",
    "\n",
    "khales_daryafti = kol_daryafti -  vat\n",
    "\n",
    "l = [kol_daryafti , maliat, khales_daryafti]\n",
    "\n",
    "for a in l:\n",
    "    print(a)\n",
    "#print (\"kol_daryafti = \", kol_daryafti)\n",
    "#print (\"maliat = \", vat)\n",
    "#print (\"khales_daryafti = \", khales_daryafti)"
   ]
  },
  {
   "cell_type": "code",
   "execution_count": 7,
   "id": "a4a21152",
   "metadata": {},
   "outputs": [],
   "source": [
    "karmand = {'name' : 'Reza'  , 'age': 43 , 'gender' : 'male' , 'personeli' : 987654321 , 'sabeghe' : 14 , 'dgree' : 'Kareshes'}"
   ]
  },
  {
   "cell_type": "code",
   "execution_count": 5,
   "id": "b8e7a5f1",
   "metadata": {},
   "outputs": [
    {
     "data": {
      "text/plain": [
       "'REza'"
      ]
     },
     "execution_count": 5,
     "metadata": {},
     "output_type": "execute_result"
    }
   ],
   "source": [
    "karmand['name']"
   ]
  },
  {
   "cell_type": "code",
   "execution_count": 8,
   "id": "0d229e3d",
   "metadata": {},
   "outputs": [
    {
     "data": {
      "text/plain": [
       "{'name': 'Reza',\n",
       " 'age': 43,\n",
       " 'gender': 'male',\n",
       " 'personeli': 987654321,\n",
       " 'sabeghe': 14,\n",
       " 'dgree': 'Kareshes'}"
      ]
     },
     "execution_count": 8,
     "metadata": {},
     "output_type": "execute_result"
    }
   ],
   "source": [
    "karmand"
   ]
  },
  {
   "cell_type": "code",
   "execution_count": 10,
   "id": "fef150aa",
   "metadata": {},
   "outputs": [
    {
     "data": {
      "text/plain": [
       "'Reza'"
      ]
     },
     "execution_count": 10,
     "metadata": {},
     "output_type": "execute_result"
    }
   ],
   "source": [
    "karmand['name']"
   ]
  },
  {
   "cell_type": "code",
   "execution_count": null,
   "id": "259e95c5",
   "metadata": {},
   "outputs": [],
   "source": [
    "key=['name','age','gender','personeli','sabeghe','dgree']"
   ]
  }
 ],
 "metadata": {
  "kernelspec": {
   "display_name": "Python 3",
   "language": "python",
   "name": "python3"
  },
  "language_info": {
   "codemirror_mode": {
    "name": "ipython",
    "version": 3
   },
   "file_extension": ".py",
   "mimetype": "text/x-python",
   "name": "python",
   "nbconvert_exporter": "python",
   "pygments_lexer": "ipython3",
   "version": "3.9.5"
  }
 },
 "nbformat": 4,
 "nbformat_minor": 5
}
