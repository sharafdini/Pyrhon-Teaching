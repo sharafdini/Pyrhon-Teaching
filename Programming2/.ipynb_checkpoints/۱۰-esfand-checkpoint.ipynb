{
 "cells": [
  {
   "cell_type": "code",
   "execution_count": 6,
   "id": "hidden-moment",
   "metadata": {},
   "outputs": [
    {
     "name": "stdout",
     "output_type": "stream",
     "text": [
      "3\n",
      "9\n",
      "27\n",
      "81\n",
      "243\n",
      "729\n",
      "2187\n"
     ]
    }
   ],
   "source": [
    "x = 1\n",
    "n = 1\n",
    "while n <= 7:\n",
    "    x = x * 3\n",
    "    n = n + 1\n",
    "    print(x)    \n",
    "    "
   ]
  },
  {
   "cell_type": "code",
   "execution_count": 2,
   "id": "optimum-laser",
   "metadata": {},
   "outputs": [],
   "source": [
    "xl = str(x)\n"
   ]
  },
  {
   "cell_type": "code",
   "execution_count": 3,
   "id": "second-relaxation",
   "metadata": {},
   "outputs": [
    {
     "name": "stdout",
     "output_type": "stream",
     "text": [
      "6358\n"
     ]
    }
   ],
   "source": [
    "print( len( xl ) )"
   ]
  },
  {
   "cell_type": "code",
   "execution_count": 8,
   "id": "secondary-monkey",
   "metadata": {},
   "outputs": [
    {
     "data": {
      "text/plain": [
       "1792160394037"
      ]
     },
     "execution_count": 8,
     "metadata": {},
     "output_type": "execute_result"
    }
   ],
   "source": [
    "13 ** 11"
   ]
  },
  {
   "cell_type": "code",
   "execution_count": 5,
   "id": "coupled-spank",
   "metadata": {},
   "outputs": [
    {
     "name": "stdout",
     "output_type": "stream",
     "text": [
      "Salam, adad bede: 12.4\n"
     ]
    }
   ],
   "source": [
    " a = float( input(\"Salam, adad bede: \") )"
   ]
  },
  {
   "cell_type": "code",
   "execution_count": 6,
   "id": "favorite-remains",
   "metadata": {},
   "outputs": [
    {
     "data": {
      "text/plain": [
       "12.4"
      ]
     },
     "execution_count": 6,
     "metadata": {},
     "output_type": "execute_result"
    }
   ],
   "source": [
    "a"
   ]
  },
  {
   "cell_type": "code",
   "execution_count": 1,
   "id": "sensitive-wrong",
   "metadata": {},
   "outputs": [
    {
     "name": "stdout",
     "output_type": "stream",
     "text": [
      "Salam, adad bede: 12.34\n",
      "Salam, adad bede: 13.2\n",
      "25.54\n"
     ]
    }
   ],
   "source": [
    "a = float ( input (\"Salam, adad bede: \") )\n",
    "b = float ( input (\"Salam, adad bede: \") )\n",
    "c = a + b\n",
    "print( c )"
   ]
  },
  {
   "cell_type": "code",
   "execution_count": 2,
   "id": "reported-atlas",
   "metadata": {},
   "outputs": [
    {
     "name": "stdout",
     "output_type": "stream",
     "text": [
      "Salam, adad bede: 12.34\n",
      "Salam, adad bede: 13.2\n",
      "Jame 12.34 va 13.2 brabar st ba  25.54\n"
     ]
    }
   ],
   "source": [
    "a = float ( input (\"Salam, adad bede: \") )\n",
    "b = float ( input (\"Salam, adad bede: \") )\n",
    "c = a + b\n",
    "print( \"Jame {} va {} brabar st ba \".format(a,b) , c )"
   ]
  },
  {
   "cell_type": "code",
   "execution_count": 4,
   "id": "australian-boxing",
   "metadata": {},
   "outputs": [
    {
     "data": {
      "text/plain": [
       "12"
      ]
     },
     "execution_count": 4,
     "metadata": {},
     "output_type": "execute_result"
    }
   ],
   "source": [
    "a = 12\n",
    "b = 5\n",
    "b = a\n",
    "\n",
    "a = float ( input (\"Salam, adad bede: \") )\n",
    "b = float ( input (\"Salam, adad bede: \") )\n",
    "c = a + b\n",
    "print( c )\n",
    "b"
   ]
  },
  {
   "cell_type": "code",
   "execution_count": 5,
   "id": "alien-frank",
   "metadata": {},
   "outputs": [
    {
     "name": "stdout",
     "output_type": "stream",
     "text": [
      "12 12\n"
     ]
    }
   ],
   "source": [
    "a = 12\n",
    "b = 5\n",
    "b = a\n",
    "print( a , b )"
   ]
  },
  {
   "cell_type": "code",
   "execution_count": 7,
   "id": "worthy-dealer",
   "metadata": {},
   "outputs": [
    {
     "name": "stdout",
     "output_type": "stream",
     "text": [
      "False\n"
     ]
    }
   ],
   "source": [
    "print ( 3 == 2 )"
   ]
  },
  {
   "cell_type": "code",
   "execution_count": 1,
   "id": "supposed-integration",
   "metadata": {},
   "outputs": [
    {
     "name": "stdout",
     "output_type": "stream",
     "text": [
      "Salam adad tabiei kamtar ya mosavi 186 vared konid: 168\n"
     ]
    },
    {
     "data": {
      "text/plain": [
       "'168'"
      ]
     },
     "execution_count": 1,
     "metadata": {},
     "output_type": "execute_result"
    }
   ],
   "source": [
    "#\n",
    "input(\"Salam adad tabiei kamtar ya mosavi 186 vared konid: \")"
   ]
  },
  {
   "cell_type": "code",
   "execution_count": 2,
   "id": "curious-elder",
   "metadata": {},
   "outputs": [
    {
     "name": "stdout",
     "output_type": "stream",
     "text": [
      "Salam adad tabiei kamtar ya mosavi 186 vared konid: 184\n"
     ]
    }
   ],
   "source": [
    "input(\"Salam adad tabiei kamtar ya mosavi 186 vared konid: \")\n"
   ]
  },
  {
   "cell_type": "code",
   "execution_count": 3,
   "id": "viral-university",
   "metadata": {},
   "outputs": [
    {
     "data": {
      "text/plain": [
       "'184'"
      ]
     },
     "execution_count": 3,
     "metadata": {},
     "output_type": "execute_result"
    }
   ],
   "source": [
    "n"
   ]
  },
  {
   "cell_type": "code",
   "execution_count": 4,
   "id": "arabic-orleans",
   "metadata": {},
   "outputs": [
    {
     "data": {
      "text/plain": [
       "str"
      ]
     },
     "execution_count": 4,
     "metadata": {},
     "output_type": "execute_result"
    }
   ],
   "source": [
    "type(n)"
   ]
  },
  {
   "cell_type": "code",
   "execution_count": 7,
   "id": "inner-commonwealth",
   "metadata": {},
   "outputs": [],
   "source": [
    "n = int( n )\n",
    "# integer عدد صحیح\n",
    "# n = float ( ) \n",
    "nf = float ( n )"
   ]
  },
  {
   "cell_type": "code",
   "execution_count": 6,
   "id": "recorded-microwave",
   "metadata": {},
   "outputs": [
    {
     "data": {
      "text/plain": [
       "184"
      ]
     },
     "execution_count": 6,
     "metadata": {},
     "output_type": "execute_result"
    }
   ],
   "source": [
    "n"
   ]
  },
  {
   "cell_type": "code",
   "execution_count": 8,
   "id": "legendary-wireless",
   "metadata": {},
   "outputs": [
    {
     "data": {
      "text/plain": [
       "184.0"
      ]
     },
     "execution_count": 8,
     "metadata": {},
     "output_type": "execute_result"
    }
   ],
   "source": [
    "nf"
   ]
  },
  {
   "cell_type": "code",
   "execution_count": 9,
   "id": "worthy-beach",
   "metadata": {},
   "outputs": [
    {
     "data": {
      "text/plain": [
       "True"
      ]
     },
     "execution_count": 9,
     "metadata": {},
     "output_type": "execute_result"
    }
   ],
   "source": [
    "n == nf\n"
   ]
  },
  {
   "cell_type": "code",
   "execution_count": 10,
   "id": "later-friendship",
   "metadata": {},
   "outputs": [
    {
     "data": {
      "text/plain": [
       "False"
      ]
     },
     "execution_count": 10,
     "metadata": {},
     "output_type": "execute_result"
    }
   ],
   "source": [
    "type(n) == type(nf)"
   ]
  },
  {
   "cell_type": "code",
   "execution_count": null,
   "id": "normal-lesson",
   "metadata": {},
   "outputs": [],
   "source": [
    " n = input(\"Salam adad tabiei kamtar ya mosavi 186 vared konid: \")\n",
    " n = int(n)\n"
   ]
  },
  {
   "cell_type": "code",
   "execution_count": null,
   "id": "industrial-disabled",
   "metadata": {},
   "outputs": [],
   "source": [
    "n = input(\"Salam adad tabiei kamtar ya mosavi 186 vared konid: \")\n",
    "n = int(n)\n",
    "if n <= 186:\n",
    "    m = n // 186\n",
    "    d = n % 186\n",
    "\n"
   ]
  },
  {
   "cell_type": "code",
   "execution_count": null,
   "id": "endless-exposure",
   "metadata": {},
   "outputs": [],
   "source": [
    "n = input(\"Salam adad tabiei kamtar ya mosavi 186 vared konid: \")\n",
    "n = int(n)\n",
    "if n <= 186:\n",
    "    m = n // 186\n",
    "    d = n % 186"
   ]
  },
  {
   "cell_type": "code",
   "execution_count": 4,
   "id": "geological-treasure",
   "metadata": {},
   "outputs": [
    {
     "name": "stdout",
     "output_type": "stream",
     "text": [
      "Salam adad tabiei kamtar ya mosavi 186 vared konid: 184\n"
     ]
    }
   ],
   "source": [
    "n = input(\"Salam adad tabiei kamtar ya mosavi 186 vared konid: \")\n",
    "n = int(n)\n",
    "if n <= 186:\n",
    "    m = n // 31\n",
    "    d = n % 31"
   ]
  },
  {
   "cell_type": "code",
   "execution_count": 5,
   "id": "listed-inspection",
   "metadata": {},
   "outputs": [
    {
     "data": {
      "text/plain": [
       "5"
      ]
     },
     "execution_count": 5,
     "metadata": {},
     "output_type": "execute_result"
    }
   ],
   "source": [
    "m"
   ]
  },
  {
   "cell_type": "code",
   "execution_count": 6,
   "id": "agricultural-bottom",
   "metadata": {},
   "outputs": [
    {
     "data": {
      "text/plain": [
       "29"
      ]
     },
     "execution_count": 6,
     "metadata": {},
     "output_type": "execute_result"
    }
   ],
   "source": [
    "d"
   ]
  },
  {
   "cell_type": "code",
   "execution_count": 7,
   "id": "quarterly-uniform",
   "metadata": {},
   "outputs": [
    {
     "name": "stdout",
     "output_type": "stream",
     "text": [
      "Salam adad tabiei kamtar ya mosavi 186 vared konid: 184\n",
      "rooz 29 az mah 6 om\n"
     ]
    }
   ],
   "source": [
    "n = input(\"Salam adad tabiei kamtar ya mosavi 186 vared konid: \")\n",
    "n = int(n)\n",
    "if n <= 186:\n",
    "    m = n // 31\n",
    "    d = n % 31\n",
    "if d == 0 :\n",
    "    d = 31\n",
    "else:\n",
    "    m = m + 1\n",
    "print(\"rooz {} az mah {} om\".format( d , m))"
   ]
  },
  {
   "cell_type": "code",
   "execution_count": 1,
   "id": "leading-activity",
   "metadata": {},
   "outputs": [
    {
     "ename": "IndentationError",
     "evalue": "expected an indented block (<ipython-input-1-88e306fc2e60>, line 5)",
     "output_type": "error",
     "traceback": [
      "\u001b[1;36m  File \u001b[1;32m\"<ipython-input-1-88e306fc2e60>\"\u001b[1;36m, line \u001b[1;32m5\u001b[0m\n\u001b[1;33m    \u001b[0m\n\u001b[1;37m    ^\u001b[0m\n\u001b[1;31mIndentationError\u001b[0m\u001b[1;31m:\u001b[0m expected an indented block\n"
     ]
    }
   ],
   "source": [
    "n = input(\"Salam adad tabiei kamtar kmatr az 366 vared konid: \")\n",
    "r = n % 7\n",
    "rooz=\"\"\n",
    "if r == 1:\n",
    "    "
   ]
  },
  {
   "cell_type": "code",
   "execution_count": 7,
   "id": "literary-newspaper",
   "metadata": {},
   "outputs": [
    {
     "name": "stdout",
     "output_type": "stream",
     "text": [
      "Salam adad tabiei kamtar kmatr az 366 vared konid: 365\n",
      "YekShanbe\n"
     ]
    }
   ],
   "source": [
    "n = input(\"Salam adad tabiei kamtar kmatr az 366 vared konid: \")\n",
    "n = int(n)\n",
    "r = n % 7\n",
    "\n",
    "if r == 1:\n",
    "    rooz = \"YekShanbe\"\n",
    "elif r == 2:\n",
    "     rooz = \"DoShanbe\"\n",
    "elif r == 3:\n",
    "     rooz  = \"seShanbe\"\n",
    "elif r == 4:\n",
    "    rooz=\"chaharShanbe\"   \n",
    "elif r == 5:\n",
    "    rooz = \"panjShanbe\"   \n",
    "elif r == 6:\n",
    "    rooz = \"jomee\"  \n",
    "else:\n",
    "    rooz = \"Shanbe\"\n",
    "\n",
    "print(rooz)\n",
    "    \n",
    "    "
   ]
  }
 ],
 "metadata": {
  "kernelspec": {
   "display_name": "Python 3",
   "language": "python",
   "name": "python3"
  },
  "language_info": {
   "codemirror_mode": {
    "name": "ipython",
    "version": 3
   },
   "file_extension": ".py",
   "mimetype": "text/x-python",
   "name": "python",
   "nbconvert_exporter": "python",
   "pygments_lexer": "ipython3",
   "version": "3.9.5"
  }
 },
 "nbformat": 4,
 "nbformat_minor": 5
}
