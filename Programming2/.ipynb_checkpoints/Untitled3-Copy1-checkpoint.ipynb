{
 "cells": [
  {
   "cell_type": "code",
   "execution_count": 1,
   "id": "interim-vitamin",
   "metadata": {},
   "outputs": [
    {
     "name": "stdout",
     "output_type": "stream",
     "text": [
      "0\n",
      "1\n",
      "2\n",
      "3\n",
      "4\n"
     ]
    }
   ],
   "source": [
    "x = 0\n",
    "while x < 5 :\n",
    "    print( x )\n",
    "    x = x + 1"
   ]
  },
  {
   "cell_type": "code",
   "execution_count": 2,
   "id": "duplicate-treasure",
   "metadata": {},
   "outputs": [
    {
     "name": "stdout",
     "output_type": "stream",
     "text": [
      "lotfan yerk adad tabiee vared konid: 5\n",
      "eneter a number: 12\n",
      "eneter a number: 12.5\n",
      "eneter a number: 13.6\n",
      "eneter a number: 9.9\n",
      "eneter a number: 14\n",
      "12.4\n"
     ]
    }
   ],
   "source": [
    "# compute the average of n numbers\n",
    "n = input('lotfan yerk adad tabiee vared konid: ')\n",
    "n = int( n )\n",
    "i = 0\n",
    "sum = 0\n",
    "while i < n :\n",
    "    num = float(input('eneter a number: '))\n",
    "    sum += num\n",
    "    i += 1\n",
    "avg = sum / n\n",
    "print( avg )\n",
    "    "
   ]
  },
  {
   "cell_type": "code",
   "execution_count": 3,
   "id": "proprietary-mount",
   "metadata": {},
   "outputs": [
    {
     "name": "stdout",
     "output_type": "stream",
     "text": [
      "lotfan yek adad tabiee vared konid: 1234567890987654321\n",
      "1 2 3 4 5 6 7 8 9 0 9 8 7 6 5 4 3 2 1 "
     ]
    }
   ],
   "source": [
    "n = input('lotfan yek adad tabiee vared konid: ')\n",
    "n = int( n )\n",
    "while n != 0 :\n",
    "    r = n % 10\n",
    "    print( r, sep=\", \" , end=' ' )\n",
    "    n //= 10 # n = n // 10\n"
   ]
  },
  {
   "cell_type": "code",
   "execution_count": 5,
   "id": "raised-therapy",
   "metadata": {},
   "outputs": [
    {
     "data": {
      "text/plain": [
       "False"
      ]
     },
     "execution_count": 5,
     "metadata": {},
     "output_type": "execute_result"
    }
   ],
   "source": [
    "1400 in ['x', 1300, 12.5]"
   ]
  },
  {
   "cell_type": "code",
   "execution_count": 6,
   "id": "adapted-default",
   "metadata": {},
   "outputs": [
    {
     "name": "stdout",
     "output_type": "stream",
     "text": [
      "0\n",
      "1\n",
      "2\n",
      "3\n",
      "4\n"
     ]
    }
   ],
   "source": [
    "range( n )\n",
    "# 0 1, n-1\n",
    "for x in range(5):\n",
    "    print(x)"
   ]
  },
  {
   "cell_type": "code",
   "execution_count": 7,
   "id": "chinese-statistics",
   "metadata": {},
   "outputs": [
    {
     "name": "stdout",
     "output_type": "stream",
     "text": [
      "x\n",
      "1300\n",
      "12.5\n"
     ]
    }
   ],
   "source": [
    "for x in ['x', 1300, 12.5]:\n",
    "    print(x)\n",
    "    "
   ]
  },
  {
   "cell_type": "code",
   "execution_count": 4,
   "id": "velvet-locator",
   "metadata": {},
   "outputs": [
    {
     "name": "stdout",
     "output_type": "stream",
     "text": [
      "0\n",
      "1\n",
      "2\n",
      "3\n",
      "4\n",
      "5\n",
      "6\n",
      "7\n",
      "8\n",
      "9\n"
     ]
    }
   ],
   "source": [
    "for x in range(10):\n",
    "    print(x)"
   ]
  },
  {
   "cell_type": "code",
   "execution_count": 10,
   "id": "central-antarctica",
   "metadata": {},
   "outputs": [
    {
     "name": "stdout",
     "output_type": "stream",
     "text": [
      "1390\n",
      "1392\n",
      "1394\n",
      "1396\n",
      "1398\n"
     ]
    }
   ],
   "source": [
    "for x in range(1390,1400,2):\n",
    "    print(x)"
   ]
  },
  {
   "cell_type": "code",
   "execution_count": 3,
   "id": "former-bahamas",
   "metadata": {},
   "outputs": [
    {
     "name": "stdout",
     "output_type": "stream",
     "text": [
      "0\n",
      "100\n",
      "200\n",
      "300\n",
      "400\n",
      "500\n",
      "600\n",
      "700\n",
      "800\n",
      "900\n"
     ]
    }
   ],
   "source": [
    "for x in range(0,1000,100):\n",
    "    print(x)"
   ]
  },
  {
   "cell_type": "code",
   "execution_count": null,
   "id": "technical-guide",
   "metadata": {},
   "outputs": [],
   "source": [
    "i = 10\n",
    "while i < 20 :\n",
    "    if i % 2 == 0 :\n",
    "        "
   ]
  },
  {
   "cell_type": "code",
   "execution_count": 8,
   "id": "urban-distribution",
   "metadata": {},
   "outputs": [
    {
     "name": "stdout",
     "output_type": "stream",
     "text": [
      "Salam   Reza\n"
     ]
    }
   ],
   "source": [
    "hi = 'Salam'\n",
    "name = 'Reza'\n",
    "greeting = hi + '   ' + name\n",
    "print(greeting)"
   ]
  },
  {
   "cell_type": "code",
   "execution_count": 2,
   "id": "musical-discharge",
   "metadata": {},
   "outputs": [
    {
     "name": "stdout",
     "output_type": "stream",
     "text": [
      "Lotfan name khod ra ved konidgholi\n",
      "Salam   gholi  che khabara khoobi\n"
     ]
    }
   ],
   "source": [
    "name = input('Lotfan name khod ra ved konid')\n",
    "hi = 'Salam'\n",
    "greeting = hi + '   ' + name + '  ' + 'che khabara khoobi'\n",
    "print( greeting )"
   ]
  },
  {
   "cell_type": "code",
   "execution_count": 3,
   "id": "gorgeous-collect",
   "metadata": {},
   "outputs": [
    {
     "data": {
      "text/plain": [
       "'I love youI love youI love you'"
      ]
     },
     "execution_count": 3,
     "metadata": {},
     "output_type": "execute_result"
    }
   ],
   "source": [
    "3 * 'I love you'"
   ]
  },
  {
   "cell_type": "code",
   "execution_count": 4,
   "id": "turned-vision",
   "metadata": {},
   "outputs": [
    {
     "data": {
      "text/plain": [
       "10"
      ]
     },
     "execution_count": 4,
     "metadata": {},
     "output_type": "execute_result"
    }
   ],
   "source": [
    "len('I love you')"
   ]
  },
  {
   "cell_type": "code",
   "execution_count": 6,
   "id": "received-rocket",
   "metadata": {},
   "outputs": [
    {
     "data": {
      "text/plain": [
       "' '"
      ]
     },
     "execution_count": 6,
     "metadata": {},
     "output_type": "execute_result"
    }
   ],
   "source": [
    "'I love you'[1]"
   ]
  },
  {
   "cell_type": "code",
   "execution_count": 7,
   "id": "foster-disability",
   "metadata": {},
   "outputs": [
    {
     "name": "stdout",
     "output_type": "stream",
     "text": [
      "Lotfan adad bede: 12345\n",
      "5\n"
     ]
    }
   ],
   "source": [
    "n = input('Lotfan adad bede: ')\n",
    "print( len(n) )"
   ]
  },
  {
   "cell_type": "code",
   "execution_count": 9,
   "id": "fitted-lottery",
   "metadata": {},
   "outputs": [
    {
     "name": "stdout",
     "output_type": "stream",
     "text": [
      "lotfan yek adad tabiee vared konid: 12321454367875\n",
      "14\n"
     ]
    }
   ],
   "source": [
    "n = input('lotfan yek adad tabiee vared konid: ')\n",
    "n = int( n )\n",
    "t = 0\n",
    "while n != 0 :\n",
    "    r = n % 10\n",
    "    t += 1\n",
    "    n //= 10\n",
    "print(t)"
   ]
  }
 ],
 "metadata": {
  "kernelspec": {
   "display_name": "Python 3",
   "language": "python",
   "name": "python3"
  },
  "language_info": {
   "codemirror_mode": {
    "name": "ipython",
    "version": 3
   },
   "file_extension": ".py",
   "mimetype": "text/x-python",
   "name": "python",
   "nbconvert_exporter": "python",
   "pygments_lexer": "ipython3",
   "version": "3.9.5"
  }
 },
 "nbformat": 4,
 "nbformat_minor": 5
}
