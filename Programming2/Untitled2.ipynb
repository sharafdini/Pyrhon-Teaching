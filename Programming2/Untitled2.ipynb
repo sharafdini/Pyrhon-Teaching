{
 "cells": [
  {
   "cell_type": "code",
   "execution_count": 1,
   "id": "weird-cooperation",
   "metadata": {},
   "outputs": [
    {
     "name": "stdout",
     "output_type": "stream",
     "text": [
      "salam\n"
     ]
    }
   ],
   "source": [
    "x = 1\n",
    "if x: print('salam')"
   ]
  },
  {
   "cell_type": "code",
   "execution_count": 2,
   "id": "assigned-pattern",
   "metadata": {},
   "outputs": [
    {
     "data": {
      "text/plain": [
       "True"
      ]
     },
     "execution_count": 2,
     "metadata": {},
     "output_type": "execute_result"
    }
   ],
   "source": [
    "x == True"
   ]
  },
  {
   "cell_type": "code",
   "execution_count": 3,
   "id": "suspected-train",
   "metadata": {},
   "outputs": [
    {
     "ename": "NameError",
     "evalue": "name 'y' is not defined",
     "output_type": "error",
     "traceback": [
      "\u001b[1;31m---------------------------------------------------------------------------\u001b[0m",
      "\u001b[1;31mNameError\u001b[0m                                 Traceback (most recent call last)",
      "\u001b[1;32m<ipython-input-3-f4d4415a6c8a>\u001b[0m in \u001b[0;36m<module>\u001b[1;34m\u001b[0m\n\u001b[1;32m----> 1\u001b[1;33m \u001b[0my\u001b[0m \u001b[1;33m==\u001b[0m \u001b[1;32mFalse\u001b[0m\u001b[1;33m\u001b[0m\u001b[1;33m\u001b[0m\u001b[0m\n\u001b[0m",
      "\u001b[1;31mNameError\u001b[0m: name 'y' is not defined"
     ]
    }
   ],
   "source": [
    "y == False"
   ]
  },
  {
   "cell_type": "code",
   "execution_count": 5,
   "id": "monthly-asset",
   "metadata": {},
   "outputs": [
    {
     "data": {
      "text/plain": [
       "True"
      ]
     },
     "execution_count": 5,
     "metadata": {},
     "output_type": "execute_result"
    }
   ],
   "source": [
    "y = 0\n",
    "y == False"
   ]
  },
  {
   "cell_type": "code",
   "execution_count": 13,
   "id": "numerical-institution",
   "metadata": {},
   "outputs": [
    {
     "ename": "SyntaxError",
     "evalue": "cannot assign to operator (<ipython-input-13-2ded8a9cedae>, line 2)",
     "output_type": "error",
     "traceback": [
      "\u001b[1;36m  File \u001b[1;32m\"<ipython-input-13-2ded8a9cedae>\"\u001b[1;36m, line \u001b[1;32m2\u001b[0m\n\u001b[1;33m    2*a = b\u001b[0m\n\u001b[1;37m    ^\u001b[0m\n\u001b[1;31mSyntaxError\u001b[0m\u001b[1;31m:\u001b[0m cannot assign to operator\n"
     ]
    }
   ],
   "source": [
    "a = b = 1400\n",
    "2*a = b"
   ]
  },
  {
   "cell_type": "code",
   "execution_count": 9,
   "id": "lyric-advertising",
   "metadata": {},
   "outputs": [
    {
     "ename": "NameError",
     "evalue": "name 'a' is not defined",
     "output_type": "error",
     "traceback": [
      "\u001b[1;31m---------------------------------------------------------------------------\u001b[0m",
      "\u001b[1;31mNameError\u001b[0m                                 Traceback (most recent call last)",
      "\u001b[1;32m<ipython-input-9-0b62aa02f1fa>\u001b[0m in \u001b[0;36m<module>\u001b[1;34m\u001b[0m\n\u001b[1;32m----> 1\u001b[1;33m \u001b[0mb\u001b[0m \u001b[1;33m=\u001b[0m \u001b[1;36m2\u001b[0m\u001b[1;33m*\u001b[0m\u001b[0ma\u001b[0m\u001b[1;33m\u001b[0m\u001b[1;33m\u001b[0m\u001b[0m\n\u001b[0m",
      "\u001b[1;31mNameError\u001b[0m: name 'a' is not defined"
     ]
    }
   ],
   "source": [
    "b = 2*a"
   ]
  },
  {
   "cell_type": "code",
   "execution_count": 10,
   "id": "related-liechtenstein",
   "metadata": {},
   "outputs": [
    {
     "ename": "NameError",
     "evalue": "name 'a' is not defined",
     "output_type": "error",
     "traceback": [
      "\u001b[1;31m---------------------------------------------------------------------------\u001b[0m",
      "\u001b[1;31mNameError\u001b[0m                                 Traceback (most recent call last)",
      "\u001b[1;32m<ipython-input-10-3f786850e387>\u001b[0m in \u001b[0;36m<module>\u001b[1;34m\u001b[0m\n\u001b[1;32m----> 1\u001b[1;33m \u001b[0ma\u001b[0m\u001b[1;33m\u001b[0m\u001b[1;33m\u001b[0m\u001b[0m\n\u001b[0m",
      "\u001b[1;31mNameError\u001b[0m: name 'a' is not defined"
     ]
    }
   ],
   "source": [
    "a"
   ]
  },
  {
   "cell_type": "code",
   "execution_count": 11,
   "id": "subject-kingston",
   "metadata": {},
   "outputs": [
    {
     "ename": "NameError",
     "evalue": "name 'b' is not defined",
     "output_type": "error",
     "traceback": [
      "\u001b[1;31m---------------------------------------------------------------------------\u001b[0m",
      "\u001b[1;31mNameError\u001b[0m                                 Traceback (most recent call last)",
      "\u001b[1;32m<ipython-input-11-89e6c98d9288>\u001b[0m in \u001b[0;36m<module>\u001b[1;34m\u001b[0m\n\u001b[1;32m----> 1\u001b[1;33m \u001b[0mb\u001b[0m\u001b[1;33m\u001b[0m\u001b[1;33m\u001b[0m\u001b[0m\n\u001b[0m",
      "\u001b[1;31mNameError\u001b[0m: name 'b' is not defined"
     ]
    }
   ],
   "source": [
    "b"
   ]
  },
  {
   "cell_type": "code",
   "execution_count": 12,
   "id": "detected-bibliography",
   "metadata": {},
   "outputs": [
    {
     "data": {
      "text/plain": [
       "0"
      ]
     },
     "execution_count": 12,
     "metadata": {},
     "output_type": "execute_result"
    }
   ],
   "source": [
    "y"
   ]
  },
  {
   "cell_type": "code",
   "execution_count": 14,
   "id": "domestic-feeling",
   "metadata": {},
   "outputs": [],
   "source": [
    "a=b=1400"
   ]
  },
  {
   "cell_type": "code",
   "execution_count": 15,
   "id": "wrong-savage",
   "metadata": {},
   "outputs": [
    {
     "data": {
      "text/plain": [
       "1400"
      ]
     },
     "execution_count": 15,
     "metadata": {},
     "output_type": "execute_result"
    }
   ],
   "source": [
    "a"
   ]
  },
  {
   "cell_type": "code",
   "execution_count": 16,
   "id": "circular-institution",
   "metadata": {},
   "outputs": [],
   "source": [
    "a = b = 1400\n",
    "b = 2 * a"
   ]
  },
  {
   "cell_type": "code",
   "execution_count": 17,
   "id": "passing-seller",
   "metadata": {},
   "outputs": [
    {
     "data": {
      "text/plain": [
       "2800"
      ]
     },
     "execution_count": 17,
     "metadata": {},
     "output_type": "execute_result"
    }
   ],
   "source": [
    "b"
   ]
  },
  {
   "cell_type": "code",
   "execution_count": 18,
   "id": "appropriate-republic",
   "metadata": {},
   "outputs": [],
   "source": [
    "a = 'Salam'"
   ]
  },
  {
   "cell_type": "code",
   "execution_count": 19,
   "id": "adult-thumbnail",
   "metadata": {},
   "outputs": [
    {
     "data": {
      "text/plain": [
       "'Salam'"
      ]
     },
     "execution_count": 19,
     "metadata": {},
     "output_type": "execute_result"
    }
   ],
   "source": [
    "a"
   ]
  },
  {
   "cell_type": "code",
   "execution_count": 21,
   "id": "liquid-longer",
   "metadata": {},
   "outputs": [],
   "source": [
    "x = 6\n",
    "if x > 17 :\n",
    "    print( 'A' )\n",
    "    print('Thanks!')\n"
   ]
  },
  {
   "cell_type": "code",
   "execution_count": 24,
   "id": "permanent-craps",
   "metadata": {},
   "outputs": [
    {
     "name": "stdout",
     "output_type": "stream",
     "text": [
      "is equal\n"
     ]
    }
   ],
   "source": [
    "x = 3\n",
    "if x == 3 :\n",
    "  print('is equal')"
   ]
  },
  {
   "cell_type": "code",
   "execution_count": 25,
   "id": "french-stability",
   "metadata": {},
   "outputs": [
    {
     "name": "stdout",
     "output_type": "stream",
     "text": [
      "is equal\n"
     ]
    }
   ],
   "source": [
    "if x == 3 :\n",
    "      print('is equal')"
   ]
  },
  {
   "cell_type": "code",
   "execution_count": 2,
   "id": "accepting-matrix",
   "metadata": {},
   "outputs": [
    {
     "name": "stdout",
     "output_type": "stream",
     "text": [
      "please enter a mark : 19.5\n",
      "A\n"
     ]
    }
   ],
   "source": [
    "x = input('please enter a mark : ') #[0,20]\n",
    "\n",
    "x = float( x )\n",
    "if x > 17:\n",
    "      print('A')\n",
    "else:\n",
    "    print('b')\n",
    "    print('Thanks!')"
   ]
  },
  {
   "cell_type": "code",
   "execution_count": 3,
   "id": "sought-glass",
   "metadata": {},
   "outputs": [
    {
     "name": "stdout",
     "output_type": "stream",
     "text": [
      "lotfan adad sahih vared konid: 123\n",
      "kheir\n"
     ]
    }
   ],
   "source": [
    "n = int(input(\"lotfan adad sahih vared konid: \"))\n",
    "\n",
    "if n % 2 == 0 :\n",
    "      if n % 3 == 0 :\n",
    "            print('AriAri')\n",
    "      else:\n",
    "            print('kheir')\n",
    "else:\n",
    "      print('kheir')"
   ]
  },
  {
   "cell_type": "code",
   "execution_count": null,
   "id": "wooden-quest",
   "metadata": {},
   "outputs": [],
   "source": []
  }
 ],
 "metadata": {
  "kernelspec": {
   "display_name": "Python 3",
   "language": "python",
   "name": "python3"
  },
  "language_info": {
   "codemirror_mode": {
    "name": "ipython",
    "version": 3
   },
   "file_extension": ".py",
   "mimetype": "text/x-python",
   "name": "python",
   "nbconvert_exporter": "python",
   "pygments_lexer": "ipython3",
   "version": "3.9.2"
  }
 },
 "nbformat": 4,
 "nbformat_minor": 5
}
