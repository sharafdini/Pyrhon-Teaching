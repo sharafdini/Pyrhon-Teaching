{
 "cells": [
  {
   "cell_type": "code",
   "execution_count": 1,
   "id": "d9c77695",
   "metadata": {},
   "outputs": [
    {
     "ename": "SyntaxError",
     "evalue": "invalid syntax (<ipython-input-1-6cbe4890f4bd>, line 1)",
     "output_type": "error",
     "traceback": [
      "\u001b[1;36m  File \u001b[1;32m\"<ipython-input-1-6cbe4890f4bd>\"\u001b[1;36m, line \u001b[1;32m1\u001b[0m\n\u001b[1;33m    Data Science - Slope and Intercept\u001b[0m\n\u001b[1;37m         ^\u001b[0m\n\u001b[1;31mSyntaxError\u001b[0m\u001b[1;31m:\u001b[0m invalid syntax\n"
     ]
    }
   ],
   "source": [
    "Data Science - Slope and Intercept"
   ]
  },
  {
   "cell_type": "markdown",
   "id": "eb58e453",
   "metadata": {},
   "source": [
    "![Title](img_linearity5.png)"
   ]
  },
  {
   "cell_type": "code",
   "execution_count": null,
   "id": "3bc2253b",
   "metadata": {},
   "outputs": [],
   "source": [
    "Use Python to Find the Slope\n",
    "\n",
    "Calculate the slope with the following code:\n",
    "\n",
    "Example"
   ]
  },
  {
   "cell_type": "code",
   "execution_count": null,
   "id": "b7bb134b",
   "metadata": {},
   "outputs": [],
   "source": [
    "\n",
    "def slope(x1, y1, x2, y2):\n",
    "  s = (y2-y1)/(x2-x1)\n",
    "  return s\n",
    "\n",
    "print (slope(80,240,90,260))"
   ]
  },
  {
   "cell_type": "markdown",
   "id": "fc7d0c3c",
   "metadata": {},
   "source": [
    "### Find The Intercept\n",
    "\n",
    "The intercept is used to fine tune the functions ability to predict Calorie_Burnage.\n",
    "\n",
    "The intercept is where the diagonal line crosses the y-axis, if it were fully drawn.\n",
    "\n",
    "The intercept is the value of y, when x = 0.\n",
    "\n",
    "Here, we see that if average pulse (x) is zero, then the calorie burnage (y) is 80.\n",
    "\n",
    "So, the intercept is 80.\n",
    "\n",
    "Sometimes, the intercept has a practical meaning. Sometimes not.\n",
    "\n",
    "Does it make sense that average pulse is zero?\n",
    "\n",
    "No, you would be dead and you certainly would not burn any calories.\n",
    "\n",
    "However, we need to include the intercept in order to complete the mathematical function's ability to predict Calorie_Burnage correctly.\n",
    "\n",
    "Other examples where the intercept of a mathematical function can have a practical meaning:\n",
    "\n",
    "Predicting next years revenue by using marketing expenditure (How much revenue will we have next year, if marketing expenditure is zero?). It is likely to assume that a company will still have some revenue even though if it does not spend money on marketing.\n",
    "Fuel usage with speed (How much fuel do we use if speed is equal to 0 mph?). A car that uses gasoline will still use fuel when it is idle."
   ]
  },
  {
   "cell_type": "code",
   "execution_count": null,
   "id": "8e4cde2f",
   "metadata": {},
   "outputs": [],
   "source": [
    "## Find the Slope and Intercept Using Python\n",
    "The np.polyfit() function returns the slope and intercept.\n",
    "\n",
    "If we proceed with the following code, we can both get the slope and intercept from the function.\n",
    "\n",
    "### Example\n"
   ]
  },
  {
   "cell_type": "code",
   "execution_count": null,
   "id": "9271bb6e",
   "metadata": {},
   "outputs": [],
   "source": [
    "import pandas as pd\n",
    "import numpy as np\n",
    "\n",
    "health_data = pd.read_csv(\"healthDS.csv\", header=0, sep=\",\")\n",
    "\n",
    "x = health_data[\"Average_Pulse\"]\n",
    "y = health_data[\"Calorie_Burnage\"]\n",
    "\n",
    "slope_intercept = np.polyfit(x,y,1)\n",
    "\n",
    "print(slope_intercept)"
   ]
  },
  {
   "cell_type": "code",
   "execution_count": null,
   "id": "ae22e590",
   "metadata": {},
   "outputs": [],
   "source": []
  }
 ],
 "metadata": {
  "kernelspec": {
   "display_name": "Python 3",
   "language": "python",
   "name": "python3"
  },
  "language_info": {
   "codemirror_mode": {
    "name": "ipython",
    "version": 3
   },
   "file_extension": ".py",
   "mimetype": "text/x-python",
   "name": "python",
   "nbconvert_exporter": "python",
   "pygments_lexer": "ipython3",
   "version": "3.9.5"
  }
 },
 "nbformat": 4,
 "nbformat_minor": 5
}
