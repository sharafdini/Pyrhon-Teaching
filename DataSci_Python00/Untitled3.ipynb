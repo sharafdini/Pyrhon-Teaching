{
 "cells": [
  {
   "cell_type": "markdown",
   "id": "1b4057d1",
   "metadata": {},
   "source": [
    "Machine Learning - Curve Fitting"
   ]
  },
  {
   "cell_type": "markdown",
   "id": "ca2feafd",
   "metadata": {},
   "source": [
    "For fitting *$y = A + B \\log x$*, just fit $y$ against (log x)."
   ]
  },
  {
   "cell_type": "code",
   "execution_count": 6,
   "id": "2706fefc",
   "metadata": {},
   "outputs": [
    {
     "data": {
      "text/plain": [
       "array([8.46295607, 6.61867463])"
      ]
     },
     "execution_count": 6,
     "metadata": {},
     "output_type": "execute_result"
    }
   ],
   "source": [
    "import numpy as np\n",
    "\n",
    "x = np.array([1, 7, 20, 50, 79])\n",
    "y = np.array([10, 19, 30, 35, 51])\n",
    "\n",
    "np.polyfit(np.log(x), y, 1)\n",
    "\n",
    "#np.array([ 8.46295607,  6.61867463])\n",
    "# y ≈ 8.46 log(x) + 6.62"
   ]
  },
  {
   "cell_type": "markdown",
   "id": "ebb5c8e6",
   "metadata": {},
   "source": [
    "For fitting $y=A e^{B x}$, take the logarithm of both side gives $\\log y=\\log A+B x$. So fit $(\\log y)$ against $x$\n",
    "Note that fitting (log $y$ ) as if it is linear will emphasize small values of $y$, causing large deviation for large $y$. This is because polyfit (linear regression) works by minimizing $\\sum_{i}(\\Delta Y)^{2}=\\sum_{i}\\left(Y_{i}-\\hat{Y}_{i}\\right)^{2}$. When $Y_{i}=\\log y_{i}$, the residues \n",
    "\n",
    "$\\Delta Y_{i}=\\Delta\\left(\\log y_{i}\\right) \\approx \\Delta y_{i} /\\mid y_{i} \\mid.$. \n",
    "\n",
    "So even if polyfit makes a very bad\n",
    "decision for large $y$, the \"divide-by- $|y|$ \" factor will compensate for it, causing polyfit favors small values.\n",
    "This could be alleviated by giving each entry a \"weight\" proportional to $y$. polyfit supports weighted-least-squares via the $w$ keyword argument."
   ]
  },
  {
   "cell_type": "code",
   "execution_count": 14,
   "id": "91b3a2c6",
   "metadata": {},
   "outputs": [
    {
     "data": {
      "text/plain": [
       "array([0.06009446, 1.41648096])"
      ]
     },
     "execution_count": 14,
     "metadata": {},
     "output_type": "execute_result"
    }
   ],
   "source": [
    "x = np.array([10, 19, 30, 35, 51])\n",
    "y = np.array([1, 7, 20, 50, 79])\n",
    "\n",
    "np.polyfit(x, np.log(y), 1)\n",
    "\n",
    "#    y ≈ exp(-0.401) * exp(0.105 * x) = 0.670 * exp(0.105 * x)\n",
    "# (^ biased towards small values)\n",
    "\n",
    "np.polyfit(x, np.log(y), 1, w=np.sqrt(y))\n",
    "\n",
    "#    y ≈ exp(1.42) * exp(0.0601 * x) = 4.12 * exp(0.0601 * x)\n",
    "# (^ not so biased)"
   ]
  },
  {
   "cell_type": "markdown",
   "id": "03c8935c",
   "metadata": {},
   "source": [
    "Now, if you can use scipy, you could use scipy.optimize.curve_fit to fit any model\n",
    "without transformations.\n",
    "\n",
    "For y = A + B log x the result is the same as the transformation method:"
   ]
  },
  {
   "cell_type": "code",
   "execution_count": 19,
   "id": "e3ee1e5c",
   "metadata": {},
   "outputs": [
    {
     "data": {
      "text/plain": [
       "(array([6.61867467, 8.46295606]),\n",
       " array([[28.15948002, -7.89609542],\n",
       "        [-7.89609542,  2.9857172 ]]))"
      ]
     },
     "execution_count": 19,
     "metadata": {},
     "output_type": "execute_result"
    }
   ],
   "source": [
    "from scipy.optimize import curve_fit\n",
    "\n",
    "\n",
    "x = np.array([1, 7, 20, 50, 79])\n",
    "y = np.array([10, 19, 30, 35, 51])\n",
    "\n",
    "curve_fit(lambda t,a,b: a+b*np.log(t),  x,  y)\n",
    "\n",
    "# y ≈ 6.62 + 8.46 log(x)"
   ]
  },
  {
   "cell_type": "code",
   "execution_count": null,
   "id": "6432d26e",
   "metadata": {},
   "outputs": [],
   "source": []
  }
 ],
 "metadata": {
  "kernelspec": {
   "display_name": "Python 3",
   "language": "python",
   "name": "python3"
  },
  "language_info": {
   "codemirror_mode": {
    "name": "ipython",
    "version": 3
   },
   "file_extension": ".py",
   "mimetype": "text/x-python",
   "name": "python",
   "nbconvert_exporter": "python",
   "pygments_lexer": "ipython3",
   "version": "3.9.5"
  }
 },
 "nbformat": 4,
 "nbformat_minor": 5
}
