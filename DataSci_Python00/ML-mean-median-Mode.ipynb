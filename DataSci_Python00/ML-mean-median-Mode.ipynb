{
 "cells": [
  {
   "cell_type": "markdown",
   "id": "dbf10bf0",
   "metadata": {},
   "source": [
    "# Machine Learning - Mean Median Mode"
   ]
  },
  {
   "cell_type": "markdown",
   "id": "9d09aa28",
   "metadata": {},
   "source": [
    "Mean, Median, and Mode\n",
    "What can we learn from looking at a group of numbers?\n",
    "\n",
    "In Machine Learning (and in mathematics) there are often three values that interests us:\n",
    "\n",
    "- Mean   - The average value\n",
    "\n",
    "- Median - The mid point value\n",
    "\n",
    "- Mode   - The most common value\n",
    "\n",
    "Example: We have registered the speed of 13 cars:\n"
   ]
  },
  {
   "cell_type": "code",
   "execution_count": null,
   "id": "d6a40fdc",
   "metadata": {},
   "outputs": [],
   "source": [
    "speed = [99,86,87,88,111,86,103,87,94,78,77,85,86]"
   ]
  },
  {
   "cell_type": "markdown",
   "id": "e3904352",
   "metadata": {},
   "source": [
    "\n",
    "What is the average, the middle, or the most common speed value?\n",
    "\n",
    "- Mean\n",
    "The mean value is the average value.\n",
    "\n",
    "To calculate the mean, find the sum of all values, and divide the sum by the number of values:\n",
    "\n",
    "(99+86+87+88+111+86+103+87+94+78+77+85+86) / 13 = 89.77\n",
    "\n",
    "The NumPy module has a method for this. \n",
    "Learn about the NumPy module in our NumPy Tutorial."
   ]
  },
  {
   "cell_type": "markdown",
   "id": "bec400c0",
   "metadata": {},
   "source": [
    "\n",
    "Example\n",
    "Use the NumPy mean() method to find the average speed:\n"
   ]
  },
  {
   "cell_type": "code",
   "execution_count": 1,
   "id": "3f6ddb95",
   "metadata": {},
   "outputs": [
    {
     "name": "stdout",
     "output_type": "stream",
     "text": [
      "89.76923076923077\n"
     ]
    }
   ],
   "source": [
    "import numpy as np\n",
    "\n",
    "speed = [99,86,87,88,111,86,103,87,94,78,77,85,86]\n",
    "\n",
    "x = np.mean(speed)\n",
    "\n",
    "print(x)"
   ]
  },
  {
   "cell_type": "markdown",
   "id": "da8dec06",
   "metadata": {},
   "source": [
    "### Median\n",
    "\n",
    "The median value is the value in the middle, after you have sorted all the values:\n",
    "\n",
    "##### 77, 78, 85, 86, 86, 86, 87, 87, 88, 94, 99, 103, 111\n",
    "\n",
    "It is important that the numbers are sorted before you can find the median.\n",
    "\n",
    "The NumPy module has a method for this:\n",
    "\n",
    "Example\n",
    "Use the NumPy median() method to find the middle value:"
   ]
  },
  {
   "cell_type": "code",
   "execution_count": 10,
   "id": "c1503a21",
   "metadata": {},
   "outputs": [
    {
     "name": "stdout",
     "output_type": "stream",
     "text": [
      "87.0\n"
     ]
    }
   ],
   "source": [
    "import numpy\n",
    "\n",
    "speed = [99,86,87,88,111,86,103,87,94,78,77,85,86]\n",
    "\n",
    "x = numpy.median(speed)\n",
    "\n",
    "print(x)"
   ]
  },
  {
   "cell_type": "markdown",
   "id": "4c5ec125",
   "metadata": {},
   "source": [
    "If there are two numbers in the middle, divide the sum of those numbers by two.\n",
    "\n",
    "#### 77, 78, 85, 86, 86, 86, 87, 87, 94, 98, 99, 103\n",
    "\n",
    "(86 + 87) / 2 = 86.5\n",
    "\n",
    "Example\n",
    "Using the NumPy module:"
   ]
  },
  {
   "cell_type": "code",
   "execution_count": 9,
   "id": "81908763",
   "metadata": {},
   "outputs": [
    {
     "name": "stdout",
     "output_type": "stream",
     "text": [
      "86.5\n"
     ]
    }
   ],
   "source": [
    "import numpy as np\n",
    "\n",
    "speed = [99,86,87,88,86,103,87,94,78,77,85,86]\n",
    "\n",
    "x = np.median(speed)\n",
    "\n",
    "print(x)"
   ]
  },
  {
   "cell_type": "markdown",
   "id": "bae3c9ff",
   "metadata": {},
   "source": [
    "### Mode\n",
    "The Mode value is the value that appears the most number of times:\n",
    "\n",
    "99, 86, 87, 88, 111, 86, 103, 87, 94, 78, 77, 85, 86 = 86\n",
    "\n",
    "The SciPy module has a method for this. Learn about the SciPy module in our SciPy Tutorial.\n",
    "\n",
    "Example\n",
    "Use the SciPy mode() method to find the number that appears the most:"
   ]
  },
  {
   "cell_type": "code",
   "execution_count": null,
   "id": "cc17a2aa",
   "metadata": {},
   "outputs": [],
   "source": [
    "\n",
    "from scipy import stats\n",
    "\n",
    "speed = [99,86,87,88,111,86,103,87,94,78,77,85,86]\n",
    "\n",
    "x = stats.mode(speed)\n",
    "\n",
    "print(x)\n"
   ]
  },
  {
   "cell_type": "markdown",
   "id": "bb037dad",
   "metadata": {},
   "source": [
    "### Chapter Summary\n",
    "\n",
    "The Mean, Median, and Mode are techniques that are often used in Machine Learning, \n",
    "so it is important to understand the concept behind them."
   ]
  },
  {
   "cell_type": "markdown",
   "id": "9f964dc5",
   "metadata": {},
   "source": []
  }
 ],
 "metadata": {
  "kernelspec": {
   "display_name": "Python 3",
   "language": "python",
   "name": "python3"
  },
  "language_info": {
   "codemirror_mode": {
    "name": "ipython",
    "version": 3
   },
   "file_extension": ".py",
   "mimetype": "text/x-python",
   "name": "python",
   "nbconvert_exporter": "python",
   "pygments_lexer": "ipython3",
   "version": "3.9.5"
  }
 },
 "nbformat": 4,
 "nbformat_minor": 5
}
