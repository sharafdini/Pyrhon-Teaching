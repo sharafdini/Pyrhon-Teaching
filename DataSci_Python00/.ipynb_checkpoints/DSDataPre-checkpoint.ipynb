{
 "cells": [
  {
   "cell_type": "markdown",
   "id": "0c9dfe3f",
   "metadata": {},
   "source": [
    "# Data Science - Data Preparation"
   ]
  },
  {
   "cell_type": "markdown",
   "id": "bce9ae21",
   "metadata": {},
   "source": [
    "Before analyzing data, a Data Scientist must extract the data, and make it clean and valuable.\n",
    "\n",
    "Extract and Read Data With Pandas\n",
    "Before data can be analyzed, it must be imported/extracted.\n",
    "\n",
    "In the example below, we show you how to import data using Pandas in Python.\n",
    "\n",
    "We use the  read_csv() function to import a CSV file with the health data:"
   ]
  },
  {
   "cell_type": "code",
   "execution_count": 12,
   "id": "f19a4deb",
   "metadata": {},
   "outputs": [
    {
     "name": "stdout",
     "output_type": "stream",
     "text": [
      "  Unnamed: 0     Unnamed: 1 Unnamed: 2       Unnamed: 3  Unnamed: 4  \\\n",
      "0   Duration  Average_Pulse  Max_Pulse  Calorie_Burnage  Hours_Work   \n",
      "1         30             80        120              240          10   \n",
      "2         30             85        120              250          10   \n",
      "3         45             90        130              260           8   \n",
      "4         45             95        130              270           8   \n",
      "5         45            100        140              280           0   \n",
      "6         60            105        140              290           7   \n",
      "7         60            110        145              300           7   \n",
      "\n",
      "    Unnamed: 5  \n",
      "0  Hours_Sleep  \n",
      "1            7  \n",
      "2            7  \n",
      "3            7  \n",
      "4            7  \n",
      "5            7  \n",
      "6            8  \n",
      "7            8  \n"
     ]
    }
   ],
   "source": [
    "import pandas as pd\n",
    "\n",
    "health_data = pd.read_csv(\"health_data.csv\", header=0, sep=\",\")\n",
    "\n",
    "print(health_data)"
   ]
  },
  {
   "cell_type": "markdown",
   "id": "e9620727",
   "metadata": {},
   "source": [
    "## Example Explained\n",
    "\n",
    "Import the Pandas library\n",
    "\n",
    "Name the data frame as health_data.\n",
    "\n",
    "header=0 means that the headers for the variable names are to be found in the first row (note that 0 means the first row in Python)\n",
    "\n",
    "sep=\",\" means that \",\" is used as the separator between the values.\n",
    "\n",
    "This is because we are using the file type .csv (comma separated values)\n",
    "\n",
    "Tip: If you have a large CSV file, you can use the head() function to only show the top 5rows:\n",
    "\n",
    "Example\n"
   ]
  },
  {
   "cell_type": "code",
   "execution_count": 19,
   "id": "97ca74ec",
   "metadata": {},
   "outputs": [
    {
     "data": {
      "text/html": [
       "<div>\n",
       "<style scoped>\n",
       "    .dataframe tbody tr th:only-of-type {\n",
       "        vertical-align: middle;\n",
       "    }\n",
       "\n",
       "    .dataframe tbody tr th {\n",
       "        vertical-align: top;\n",
       "    }\n",
       "\n",
       "    .dataframe thead th {\n",
       "        text-align: right;\n",
       "    }\n",
       "</style>\n",
       "<table border=\"1\" class=\"dataframe\">\n",
       "  <thead>\n",
       "    <tr style=\"text-align: right;\">\n",
       "      <th></th>\n",
       "      <th>Duration</th>\n",
       "      <th>Average_Pulse</th>\n",
       "      <th>Max_Pulse</th>\n",
       "      <th>Calorie_Burnage</th>\n",
       "      <th>Hours_Work</th>\n",
       "      <th>Hours_Sleep</th>\n",
       "    </tr>\n",
       "  </thead>\n",
       "  <tbody>\n",
       "    <tr>\n",
       "      <th>0</th>\n",
       "      <td>30.0</td>\n",
       "      <td>80</td>\n",
       "      <td>120</td>\n",
       "      <td>240.0</td>\n",
       "      <td>10.0</td>\n",
       "      <td>7.0</td>\n",
       "    </tr>\n",
       "    <tr>\n",
       "      <th>1</th>\n",
       "      <td>45.0</td>\n",
       "      <td>85</td>\n",
       "      <td>120</td>\n",
       "      <td>250.0</td>\n",
       "      <td>10.0</td>\n",
       "      <td>7.0</td>\n",
       "    </tr>\n",
       "    <tr>\n",
       "      <th>2</th>\n",
       "      <td>45.0</td>\n",
       "      <td>90</td>\n",
       "      <td>130</td>\n",
       "      <td>260.0</td>\n",
       "      <td>8.0</td>\n",
       "      <td>7.0</td>\n",
       "    </tr>\n",
       "    <tr>\n",
       "      <th>3</th>\n",
       "      <td>60.0</td>\n",
       "      <td>95</td>\n",
       "      <td>130</td>\n",
       "      <td>270.0</td>\n",
       "      <td>8.0</td>\n",
       "      <td>7.0</td>\n",
       "    </tr>\n",
       "    <tr>\n",
       "      <th>4</th>\n",
       "      <td>60.0</td>\n",
       "      <td>100</td>\n",
       "      <td>140</td>\n",
       "      <td>280.0</td>\n",
       "      <td>0.0</td>\n",
       "      <td>7.0</td>\n",
       "    </tr>\n",
       "    <tr>\n",
       "      <th>5</th>\n",
       "      <td>NaN</td>\n",
       "      <td>NaN</td>\n",
       "      <td>NaN</td>\n",
       "      <td>NaN</td>\n",
       "      <td>NaN</td>\n",
       "      <td>NaN</td>\n",
       "    </tr>\n",
       "    <tr>\n",
       "      <th>6</th>\n",
       "      <td>60.0</td>\n",
       "      <td>105</td>\n",
       "      <td>140</td>\n",
       "      <td>290.0</td>\n",
       "      <td>7.0</td>\n",
       "      <td>8.0</td>\n",
       "    </tr>\n",
       "    <tr>\n",
       "      <th>7</th>\n",
       "      <td>60.0</td>\n",
       "      <td>110</td>\n",
       "      <td>145</td>\n",
       "      <td>300.0</td>\n",
       "      <td>7.0</td>\n",
       "      <td>8.0</td>\n",
       "    </tr>\n",
       "    <tr>\n",
       "      <th>8</th>\n",
       "      <td>45.0</td>\n",
       "      <td>NaN</td>\n",
       "      <td>AF</td>\n",
       "      <td>NaN</td>\n",
       "      <td>8.0</td>\n",
       "      <td>8.0</td>\n",
       "    </tr>\n",
       "    <tr>\n",
       "      <th>9</th>\n",
       "      <td>45.0</td>\n",
       "      <td>115</td>\n",
       "      <td>145</td>\n",
       "      <td>310.0</td>\n",
       "      <td>8.0</td>\n",
       "      <td>8.0</td>\n",
       "    </tr>\n",
       "    <tr>\n",
       "      <th>10</th>\n",
       "      <td>60.0</td>\n",
       "      <td>120</td>\n",
       "      <td>150</td>\n",
       "      <td>320.0</td>\n",
       "      <td>0.0</td>\n",
       "      <td>8.0</td>\n",
       "    </tr>\n",
       "    <tr>\n",
       "      <th>11</th>\n",
       "      <td>60.0</td>\n",
       "      <td>9 000</td>\n",
       "      <td>130</td>\n",
       "      <td>NaN</td>\n",
       "      <td>NaN</td>\n",
       "      <td>8.0</td>\n",
       "    </tr>\n",
       "    <tr>\n",
       "      <th>12</th>\n",
       "      <td>45.0</td>\n",
       "      <td>125</td>\n",
       "      <td>150</td>\n",
       "      <td>330.0</td>\n",
       "      <td>8.0</td>\n",
       "      <td>8.0</td>\n",
       "    </tr>\n",
       "  </tbody>\n",
       "</table>\n",
       "</div>"
      ],
      "text/plain": [
       "    Duration Average_Pulse Max_Pulse  Calorie_Burnage  Hours_Work  Hours_Sleep\n",
       "0       30.0            80       120            240.0        10.0          7.0\n",
       "1       45.0            85       120            250.0        10.0          7.0\n",
       "2       45.0            90       130            260.0         8.0          7.0\n",
       "3       60.0            95       130            270.0         8.0          7.0\n",
       "4       60.0           100       140            280.0         0.0          7.0\n",
       "5        NaN           NaN       NaN              NaN         NaN          NaN\n",
       "6       60.0           105       140            290.0         7.0          8.0\n",
       "7       60.0           110       145            300.0         7.0          8.0\n",
       "8       45.0           NaN        AF              NaN         8.0          8.0\n",
       "9       45.0           115       145            310.0         8.0          8.0\n",
       "10      60.0           120       150            320.0         0.0          8.0\n",
       "11      60.0         9 000       130              NaN         NaN          8.0\n",
       "12      45.0           125       150            330.0         8.0          8.0"
      ]
     },
     "execution_count": 19,
     "metadata": {},
     "output_type": "execute_result"
    }
   ],
   "source": [
    "import pandas as pd\n",
    "\n",
    "health_data = pd.read_csv(\"health_data.csv\", header=0, sep=\",\")\n",
    "\n",
    "health_data"
   ]
  },
  {
   "cell_type": "code",
   "execution_count": 16,
   "id": "24725b4c",
   "metadata": {},
   "outputs": [
    {
     "ename": "SyntaxError",
     "evalue": "invalid syntax (<ipython-input-16-36a95d231c84>, line 1)",
     "output_type": "error",
     "traceback": [
      "\u001b[1;36m  File \u001b[1;32m\"<ipython-input-16-36a95d231c84>\"\u001b[1;36m, line \u001b[1;32m1\u001b[0m\n\u001b[1;33m    If you have a large CSV file, you can use the head() function to only show the top 5rows:\u001b[0m\n\u001b[1;37m       ^\u001b[0m\n\u001b[1;31mSyntaxError\u001b[0m\u001b[1;31m:\u001b[0m invalid syntax\n"
     ]
    }
   ],
   "source": [
    "If you have a large CSV file, you can use the head() function to only show the top 5rows:\n",
    "\n",
    "Example\n"
   ]
  },
  {
   "cell_type": "code",
   "execution_count": 14,
   "id": "bec3201d",
   "metadata": {},
   "outputs": [
    {
     "name": "stdout",
     "output_type": "stream",
     "text": [
      "   Duration Average_Pulse Max_Pulse  Calorie_Burnage  Hours_Work  Hours_Sleep\n",
      "0      30.0            80       120            240.0        10.0          7.0\n",
      "1      45.0            85       120            250.0        10.0          7.0\n",
      "2      45.0            90       130            260.0         8.0          7.0\n",
      "3      60.0            95       130            270.0         8.0          7.0\n",
      "4      60.0           100       140            280.0         0.0          7.0\n",
      "5       NaN           NaN       NaN              NaN         NaN          NaN\n",
      "6      60.0           105       140            290.0         7.0          8.0\n"
     ]
    }
   ],
   "source": [
    "import pandas as pd\n",
    "\n",
    "health_data = pd.read_csv(\"health_data.csv\", header=0, sep=\",\")\n",
    "\n",
    "print(health_data.head(7) )"
   ]
  },
  {
   "cell_type": "markdown",
   "id": "ab176982",
   "metadata": {},
   "source": [
    "Data Cleaning\n",
    "Look at the imported data. \n",
    "As you can see, the data are \"dirty\" with wrongly or unregistered values\n",
    "\n",
    "There are some blank fields\n",
    "Average pulse of 9 000 is not possible\n",
    "9 000 will be treated as non-numeric, because of the space separator\n",
    "One observation of max pulse is denoted as \"AF\", which does not make sense\n",
    "\n",
    "So, we must clean the data in order to perform the analysis."
   ]
  },
  {
   "cell_type": "markdown",
   "id": "6d4d356d",
   "metadata": {},
   "source": [
    "## Remove Blank Rows\n",
    "We see that the non-numeric values (9 000 and AF) are in the same rows with missing values.\n",
    "\n",
    "Solution: We can remove the rows with missing observations to fix this problem.\n",
    "\n",
    "When we load a data set using Pandas, all blank cells are automatically converted into \"NaN\" values.\n",
    "\n",
    "So, removing the NaN cells gives us a clean data set that can be analyzed.\n",
    "\n",
    "We can use the dropna() function to remove the NaNs. \n",
    "\n",
    "axis=0 means that we want to remove all rows that have a NaN value:\n",
    "\n",
    "Example\n"
   ]
  },
  {
   "cell_type": "code",
   "execution_count": 20,
   "id": "ce41be48",
   "metadata": {},
   "outputs": [
    {
     "name": "stdout",
     "output_type": "stream",
     "text": [
      "    Duration Average_Pulse Max_Pulse  Calorie_Burnage  Hours_Work  Hours_Sleep\n",
      "0       30.0            80       120            240.0        10.0          7.0\n",
      "1       45.0            85       120            250.0        10.0          7.0\n",
      "2       45.0            90       130            260.0         8.0          7.0\n",
      "3       60.0            95       130            270.0         8.0          7.0\n",
      "4       60.0           100       140            280.0         0.0          7.0\n",
      "6       60.0           105       140            290.0         7.0          8.0\n",
      "7       60.0           110       145            300.0         7.0          8.0\n",
      "9       45.0           115       145            310.0         8.0          8.0\n",
      "10      60.0           120       150            320.0         0.0          8.0\n",
      "12      45.0           125       150            330.0         8.0          8.0\n"
     ]
    }
   ],
   "source": [
    "health_data.dropna( axis=0 , inplace=True )\n",
    "print(health_data)"
   ]
  },
  {
   "cell_type": "markdown",
   "id": "fa7e29fa",
   "metadata": {},
   "source": [
    "### Data Categories\n",
    "\n",
    "To analyze data, we also need to know the types of data we are dealing with.\n",
    "\n",
    "Data can be split into three main categories:\n",
    "\n",
    "- Numerical - Contains numerical values. Can be divided into two categories:\n",
    "      - Discrete: Numbers are counted as \"whole\". \n",
    "                 Example: You cannot have trained 2.5 sessions, it is either 2 or 3\n",
    "      - Continuous: Numbers can be of infinite precision. For example, you can sleep for 7 hours, 30 minutes and 20 seconds, or 7.533 hours\n",
    "- Categorical - Contains values that cannot be measured up against each other. Example: A color or a type of training\n",
    "- Ordinal - Contains categorical data that can be measured up against each other. \n",
    "  Example: School grades where A is better than B and so on\n",
    "\n",
    "By knowing the type of your data, you will be able to know what technique to use when analyzing them."
   ]
  },
  {
   "cell_type": "code",
   "execution_count": null,
   "id": "6e0962f7",
   "metadata": {},
   "outputs": [],
   "source": [
    "Data Types\n",
    "We can use the info() function to list the data types within our data set: \n",
    "\n",
    "Example\n"
   ]
  },
  {
   "cell_type": "code",
   "execution_count": 21,
   "id": "33510d92",
   "metadata": {},
   "outputs": [
    {
     "name": "stdout",
     "output_type": "stream",
     "text": [
      "<class 'pandas.core.frame.DataFrame'>\n",
      "Int64Index: 10 entries, 0 to 12\n",
      "Data columns (total 6 columns):\n",
      " #   Column           Non-Null Count  Dtype  \n",
      "---  ------           --------------  -----  \n",
      " 0   Duration         10 non-null     float64\n",
      " 1   Average_Pulse    10 non-null     object \n",
      " 2   Max_Pulse        10 non-null     object \n",
      " 3   Calorie_Burnage  10 non-null     float64\n",
      " 4   Hours_Work       10 non-null     float64\n",
      " 5   Hours_Sleep      10 non-null     float64\n",
      "dtypes: float64(4), object(2)\n",
      "memory usage: 560.0+ bytes\n",
      "None\n"
     ]
    }
   ],
   "source": [
    "print(health_data.info())"
   ]
  },
  {
   "cell_type": "markdown",
   "id": "5bdf8b77",
   "metadata": {},
   "source": [
    "We see that this data set has two different types of data:\n",
    "\n",
    "- Float64\n",
    "- Object\n",
    "We cannot use objects to calculate and perform analysis here. We must convert the type object to float64 (float64 is a number with a decimal in Python).\n",
    "\n",
    "We can use the astype() function to convert the data into float64.\n",
    "\n",
    "The following example converts \"Average_Pulse\" and \"Max_Pulse\" into data type float64 (the other variables are already of data type float64):\n",
    "\n",
    "Example\n"
   ]
  },
  {
   "cell_type": "code",
   "execution_count": 22,
   "id": "ab5af455",
   "metadata": {},
   "outputs": [
    {
     "name": "stdout",
     "output_type": "stream",
     "text": [
      "<class 'pandas.core.frame.DataFrame'>\n",
      "Int64Index: 10 entries, 0 to 12\n",
      "Data columns (total 6 columns):\n",
      " #   Column           Non-Null Count  Dtype  \n",
      "---  ------           --------------  -----  \n",
      " 0   Duration         10 non-null     float64\n",
      " 1   Average_Pulse    10 non-null     float64\n",
      " 2   Max_Pulse        10 non-null     float64\n",
      " 3   Calorie_Burnage  10 non-null     float64\n",
      " 4   Hours_Work       10 non-null     float64\n",
      " 5   Hours_Sleep      10 non-null     float64\n",
      "dtypes: float64(6)\n",
      "memory usage: 560.0 bytes\n",
      "None\n"
     ]
    }
   ],
   "source": [
    "health_data[\"Average_Pulse\"] = health_data['Average_Pulse'].astype(float)\n",
    "health_data[\"Max_Pulse\"] = health_data[\"Max_Pulse\"].astype(float)\n",
    "\n",
    "print (health_data.info())"
   ]
  },
  {
   "cell_type": "markdown",
   "id": "7d2c232e",
   "metadata": {},
   "source": [
    "Now, the data set has only float64 data types.\n",
    "\n",
    "## Analyze the Data\n",
    "When we have cleaned the data set, we can start analyzing the data.\n",
    "\n",
    "We can use the describe() function in Python to summarize data:\n",
    "\n",
    "Example\n"
   ]
  },
  {
   "cell_type": "code",
   "execution_count": 23,
   "id": "a20c85d7",
   "metadata": {},
   "outputs": [
    {
     "data": {
      "text/html": [
       "<div>\n",
       "<style scoped>\n",
       "    .dataframe tbody tr th:only-of-type {\n",
       "        vertical-align: middle;\n",
       "    }\n",
       "\n",
       "    .dataframe tbody tr th {\n",
       "        vertical-align: top;\n",
       "    }\n",
       "\n",
       "    .dataframe thead th {\n",
       "        text-align: right;\n",
       "    }\n",
       "</style>\n",
       "<table border=\"1\" class=\"dataframe\">\n",
       "  <thead>\n",
       "    <tr style=\"text-align: right;\">\n",
       "      <th></th>\n",
       "      <th>Duration</th>\n",
       "      <th>Average_Pulse</th>\n",
       "      <th>Max_Pulse</th>\n",
       "      <th>Calorie_Burnage</th>\n",
       "      <th>Hours_Work</th>\n",
       "      <th>Hours_Sleep</th>\n",
       "    </tr>\n",
       "  </thead>\n",
       "  <tbody>\n",
       "    <tr>\n",
       "      <th>count</th>\n",
       "      <td>10.000000</td>\n",
       "      <td>10.000000</td>\n",
       "      <td>10.000000</td>\n",
       "      <td>10.000000</td>\n",
       "      <td>10.000000</td>\n",
       "      <td>10.000000</td>\n",
       "    </tr>\n",
       "    <tr>\n",
       "      <th>mean</th>\n",
       "      <td>51.000000</td>\n",
       "      <td>102.500000</td>\n",
       "      <td>137.000000</td>\n",
       "      <td>285.000000</td>\n",
       "      <td>6.600000</td>\n",
       "      <td>7.500000</td>\n",
       "    </tr>\n",
       "    <tr>\n",
       "      <th>std</th>\n",
       "      <td>10.488088</td>\n",
       "      <td>15.138252</td>\n",
       "      <td>11.352924</td>\n",
       "      <td>30.276504</td>\n",
       "      <td>3.627059</td>\n",
       "      <td>0.527046</td>\n",
       "    </tr>\n",
       "    <tr>\n",
       "      <th>min</th>\n",
       "      <td>30.000000</td>\n",
       "      <td>80.000000</td>\n",
       "      <td>120.000000</td>\n",
       "      <td>240.000000</td>\n",
       "      <td>0.000000</td>\n",
       "      <td>7.000000</td>\n",
       "    </tr>\n",
       "    <tr>\n",
       "      <th>25%</th>\n",
       "      <td>45.000000</td>\n",
       "      <td>91.250000</td>\n",
       "      <td>130.000000</td>\n",
       "      <td>262.500000</td>\n",
       "      <td>7.000000</td>\n",
       "      <td>7.000000</td>\n",
       "    </tr>\n",
       "    <tr>\n",
       "      <th>50%</th>\n",
       "      <td>52.500000</td>\n",
       "      <td>102.500000</td>\n",
       "      <td>140.000000</td>\n",
       "      <td>285.000000</td>\n",
       "      <td>8.000000</td>\n",
       "      <td>7.500000</td>\n",
       "    </tr>\n",
       "    <tr>\n",
       "      <th>75%</th>\n",
       "      <td>60.000000</td>\n",
       "      <td>113.750000</td>\n",
       "      <td>145.000000</td>\n",
       "      <td>307.500000</td>\n",
       "      <td>8.000000</td>\n",
       "      <td>8.000000</td>\n",
       "    </tr>\n",
       "    <tr>\n",
       "      <th>max</th>\n",
       "      <td>60.000000</td>\n",
       "      <td>125.000000</td>\n",
       "      <td>150.000000</td>\n",
       "      <td>330.000000</td>\n",
       "      <td>10.000000</td>\n",
       "      <td>8.000000</td>\n",
       "    </tr>\n",
       "  </tbody>\n",
       "</table>\n",
       "</div>"
      ],
      "text/plain": [
       "        Duration  Average_Pulse   Max_Pulse  Calorie_Burnage  Hours_Work  \\\n",
       "count  10.000000      10.000000   10.000000        10.000000   10.000000   \n",
       "mean   51.000000     102.500000  137.000000       285.000000    6.600000   \n",
       "std    10.488088      15.138252   11.352924        30.276504    3.627059   \n",
       "min    30.000000      80.000000  120.000000       240.000000    0.000000   \n",
       "25%    45.000000      91.250000  130.000000       262.500000    7.000000   \n",
       "50%    52.500000     102.500000  140.000000       285.000000    8.000000   \n",
       "75%    60.000000     113.750000  145.000000       307.500000    8.000000   \n",
       "max    60.000000     125.000000  150.000000       330.000000   10.000000   \n",
       "\n",
       "       Hours_Sleep  \n",
       "count    10.000000  \n",
       "mean      7.500000  \n",
       "std       0.527046  \n",
       "min       7.000000  \n",
       "25%       7.000000  \n",
       "50%       7.500000  \n",
       "75%       8.000000  \n",
       "max       8.000000  "
      ]
     },
     "execution_count": 23,
     "metadata": {},
     "output_type": "execute_result"
    }
   ],
   "source": [
    "health_data.describe()"
   ]
  },
  {
   "cell_type": "markdown",
   "id": "491f030d",
   "metadata": {},
   "source": [
    "- Count - Counts the number of observations\n",
    "- Mean  - The average value\n",
    "- Std  - Standard deviation (explained in the statistics chapter)\n",
    "- Min  - The lowest value\n",
    "- 25%, 50% and 75% are percentiles (explained in the statistics chapter)\n",
    "- Max - The highest value"
   ]
  },
  {
   "cell_type": "code",
   "execution_count": null,
   "id": "e6056bc1",
   "metadata": {},
   "outputs": [],
   "source": []
  }
 ],
 "metadata": {
  "kernelspec": {
   "display_name": "Python 3",
   "language": "python",
   "name": "python3"
  },
  "language_info": {
   "codemirror_mode": {
    "name": "ipython",
    "version": 3
   },
   "file_extension": ".py",
   "mimetype": "text/x-python",
   "name": "python",
   "nbconvert_exporter": "python",
   "pygments_lexer": "ipython3",
   "version": "3.9.5"
  }
 },
 "nbformat": 4,
 "nbformat_minor": 5
}
