{
 "cells": [
  {
   "cell_type": "markdown",
   "id": "0417727c",
   "metadata": {},
   "source": [
    "### Pandas: DataFrame "
   ]
  },
  {
   "cell_type": "markdown",
   "id": "63465854",
   "metadata": {
    "direction": "rtl"
   },
   "source": [
    "1. منظور از قاب داده (DataFrame) چیست؟\n",
    "1.1 تعریف به بیان ساده\n",
    "2. چگونه یک قاب داده Pandas ایجاد کنیم؟\n",
    "2.1.اندیس ردیف\n",
    "2.2.ستون‌های قاب داده Pandas\n",
    "3. مشاهده داده‌های یک قاب داده\n",
    "4. استفاده از ستون‌ها به عنوان اندیس ردیف\n",
    "5. بارگذاری ستون‌ها در قاب داده\n",
    "6. حذف ردیف‌ها و ستون‌ها از قاب داده\n",
    "7. ایجاد یک قاب داده Pandas از یک لیست\n",
    "8. عملیات‌های ریاضی روی قاب داده"
   ]
  },
  {
   "cell_type": "markdown",
   "id": "e10dbd76",
   "metadata": {
    "direction": "rtl"
   },
   "source": [
    "\n",
    "ما در این نوشته قاب داده (DataFrame (Pandas آشنا می‌شویم. البته روند عمومی برای آموزش Pandas از جمله در مستندات رسمی آن این است که ابتدا سری‌های Pandas آموزش داده می‌شود و سپس به قاب داده Pandas را آموزش می دهیم. به نظر منطقی تر می رسد که ابتدا یادگیری را از قاب داده Pandas آغاز کنیم. بدین ترتیب مفهوم و منطق پشت سری‌های Pandas روشن‌تر می‌شود و درک آن پس از آشنایی با قاب داده Pandas آسان‌تر خواهد بود."
   ]
  },
  {
   "attachments": {
    "df-exel.png": {
     "image/png": "[encoded data removed]"
    }
   },
   "cell_type": "markdown",
   "id": "2714606c",
   "metadata": {
    "direction": "ltr"
   },
   "source": [
    "![df-exel.png](attachment:df-exel.png)"
   ]
  },
  {
   "cell_type": "markdown",
   "id": "98e376ea",
   "metadata": {
    "direction": "rtl"
   },
   "source": [
    "قاب داده Pandas یک ساختمان داده برچسب‌گذاری شده 2 بعدی با ستون‌هایی است که به طور بالقوه انواع متفاوتی دارند. به عبارتی دیگر قاب داده Pandas را میتوان یک بازنمایی درون حافظه‌ای از یک برگه اکسل در زبان برنامه‌نویسی پایتون نیست.\n",
    "بنابراین قاب داده Pandas مشابه برگه اکسل است و ظاهر آن شبیه تصویر زیر است:\n"
   ]
  },
  {
   "cell_type": "markdown",
   "id": "df84d03a",
   "metadata": {
    "direction": "rtl"
   },
   "source": [
    "قاب داده Pandas نیز همانند اکسل کارکردهای مختلفی مانند تحلیل، تغییر و استخراج اطلاعات ارزشمند از مجموعه داده مفروض را در اختیار ما می‌گذارد."
   ]
  },
  {
   "cell_type": "code",
   "execution_count": null,
   "id": "15f951f0",
   "metadata": {},
   "outputs": [],
   "source": [
    "my_dict = {\n",
    "    'name': [\"a\", \"b\", \"c\", \"d\", \"e\",\"f\", \"g\"],\n",
    "    'age': [20,27, 35, 55, 18, 21, 35],\n",
    "    'designation': [\"VP\", \"CEO\", \"CFO\", \"VP\", \"VP\", \"CEO\", \"MD\"]\n",
    "}"
   ]
  },
  {
   "cell_type": "markdown",
   "id": "d0566b85",
   "metadata": {
    "direction": "rtl"
   },
   "source": [
    "به کمک دیکشنری و متد DataFrame در Pandas یک قاب داده به صورت زیر بسازیم: "
   ]
  },
  {
   "cell_type": "code",
   "execution_count": 27,
   "id": "f8831214",
   "metadata": {},
   "outputs": [
    {
     "data": {
      "text/html": [
       "<div>\n",
       "<style scoped>\n",
       "    .dataframe tbody tr th:only-of-type {\n",
       "        vertical-align: middle;\n",
       "    }\n",
       "\n",
       "    .dataframe tbody tr th {\n",
       "        vertical-align: top;\n",
       "    }\n",
       "\n",
       "    .dataframe thead th {\n",
       "        text-align: right;\n",
       "    }\n",
       "</style>\n",
       "<table border=\"1\" class=\"dataframe\">\n",
       "  <thead>\n",
       "    <tr style=\"text-align: right;\">\n",
       "      <th></th>\n",
       "      <th>name</th>\n",
       "      <th>age</th>\n",
       "      <th>designation</th>\n",
       "    </tr>\n",
       "  </thead>\n",
       "  <tbody>\n",
       "    <tr>\n",
       "      <th>0</th>\n",
       "      <td>a</td>\n",
       "      <td>20</td>\n",
       "      <td>VP</td>\n",
       "    </tr>\n",
       "    <tr>\n",
       "      <th>1</th>\n",
       "      <td>b</td>\n",
       "      <td>27</td>\n",
       "      <td>CEO</td>\n",
       "    </tr>\n",
       "    <tr>\n",
       "      <th>2</th>\n",
       "      <td>c</td>\n",
       "      <td>35</td>\n",
       "      <td>CFO</td>\n",
       "    </tr>\n",
       "    <tr>\n",
       "      <th>3</th>\n",
       "      <td>d</td>\n",
       "      <td>55</td>\n",
       "      <td>VP</td>\n",
       "    </tr>\n",
       "    <tr>\n",
       "      <th>4</th>\n",
       "      <td>e</td>\n",
       "      <td>18</td>\n",
       "      <td>VP</td>\n",
       "    </tr>\n",
       "    <tr>\n",
       "      <th>5</th>\n",
       "      <td>f</td>\n",
       "      <td>21</td>\n",
       "      <td>CEO</td>\n",
       "    </tr>\n",
       "    <tr>\n",
       "      <th>6</th>\n",
       "      <td>g</td>\n",
       "      <td>35</td>\n",
       "      <td>MD</td>\n",
       "    </tr>\n",
       "  </tbody>\n",
       "</table>\n",
       "</div>"
      ],
      "text/plain": [
       "  name  age designation\n",
       "0    a   20          VP\n",
       "1    b   27         CEO\n",
       "2    c   35         CFO\n",
       "3    d   55          VP\n",
       "4    e   18          VP\n",
       "5    f   21         CEO\n",
       "6    g   35          MD"
      ]
     },
     "execution_count": 27,
     "metadata": {},
     "output_type": "execute_result"
    }
   ],
   "source": [
    "\n",
    "import pandas as pd\n",
    " \n",
    "pd.DataFrame(my_dict)\n"
   ]
  },
  {
   "cell_type": "markdown",
   "id": "aa124236",
   "metadata": {
    "direction": "rtl"
   },
   "source": [
    "این احتمال وجود دارد که ستون‌ها به همان ترتیبی که در دیکشنری هستند نباشند، چون پایتون ### دیکشنری را به صورت hash پیاده‌سازی می‌کند و حفظ توالی را تضمین نمی‌کند.\n",
    "\n",
    "### اندیس ردیف\n",
    "از آنجا که ما هیچ اندیس ردیفی برای قاب داده ارائه نکرده‌ایم، به طور خودکار توالی (0 تا 6) را به عنوان اندیس ردیف تولید می‌کند.\n",
    "\n",
    "برای این که خودمان اندیس ردیف ارائه کنیم، باید پارامتر index را در تابع (…)DataFrame به صورت زیر ارسال کنیم:"
   ]
  },
  {
   "cell_type": "code",
   "execution_count": 11,
   "id": "3751bd5b",
   "metadata": {},
   "outputs": [
    {
     "name": "stdout",
     "output_type": "stream",
     "text": [
      "  name  age designation\n",
      "1    a   20          VP\n",
      "2    b   27         CEO\n",
      "3    c   35         CFO\n",
      "4    d   55          VP\n",
      "5    e   18          VP\n",
      "6    f   21         CEO\n",
      "7    g   35          MD\n"
     ]
    }
   ],
   "source": [
    "df = pd.DataFrame(my_dict, index=[1,2,3,4,5,6,7])\n",
    "\n",
    "print(df)\n"
   ]
  },
  {
   "cell_type": "markdown",
   "id": "eb20ba97",
   "metadata": {
    "direction": "rtl"
   },
   "source": [
    "\n",
    "لزومی ندارد که این اندیس همیشه عددی باشد و می‌توانیم رشته‌هایی را نیز به عنوان اندیس ارسال کنیم، برای مثال:"
   ]
  },
  {
   "cell_type": "code",
   "execution_count": 13,
   "id": "134b462d",
   "metadata": {},
   "outputs": [
    {
     "name": "stdout",
     "output_type": "stream",
     "text": [
      "        name  age designation\n",
      "First      a   20          VP\n",
      "Second     b   27         CEO\n",
      "Third      c   35         CFO\n",
      "Fourth     d   55          VP\n",
      "Fifth      e   18          VP\n",
      "Sixth      f   21         CEO\n",
      "Seventh    g   35          MD\n"
     ]
    }
   ],
   "source": [
    "df = pd.DataFrame(\n",
    "    my_dict,\n",
    "    index=[\"First\", \"Second\", \"Third\", \"Fourth\", \"Fifth\", \"Sixth\", \"Seventh\"]\n",
    ")\n",
    "\n",
    "print(df)"
   ]
  },
  {
   "cell_type": "code",
   "execution_count": null,
   "id": "9ad568b3",
   "metadata": {},
   "outputs": [],
   "source": [
    "ممکن است حدس زده باشید که اندیس ماهیتی همگن دارد یعنی می‌توانیم از آرایه‌های NumPy نیز به عنوان اندیس استفاده کنیم."
   ]
  },
  {
   "cell_type": "code",
   "execution_count": 25,
   "id": "64e68112",
   "metadata": {},
   "outputs": [
    {
     "name": "stdout",
     "output_type": "stream",
     "text": [
      "   name  age designation\n",
      "10    a   20          VP\n",
      "20    b   27         CEO\n",
      "30    c   35         CFO\n",
      "40    d   55          VP\n",
      "50    e   18          VP\n",
      "60    f   21         CEO\n",
      "70    g   35          MD\n"
     ]
    }
   ],
   "source": [
    "import numpy as np\n",
    "\n",
    "\n",
    "np_arr = np.array([10,20,30,40,50,60,70])\n",
    "\n",
    "pd.DataFrame(my_dict, index=np_arr)\n",
    "\n",
    "df = pd.DataFrame(my_dict, index=np_arr)\n",
    "\n",
    "print(df)\n"
   ]
  },
  {
   "cell_type": "markdown",
   "id": "b15ab657",
   "metadata": {
    "direction": "rtl"
   },
   "source": [
    "\n",
    "ستون‌های قاب داده Pandas\n",
    "برخلاف لیست‌ها دیکشنری‌های پایتون و دقیقاً همانند NumPy، یک ستون در قاب داده همواره از یک نوع است.\n",
    "\n",
    "ما می‌توانیم نوع داده‌ی یک ستون را با استفاده از ساختار شبیه دیکشنری یا با افزود نام ستون به وسیله عملگر\n",
    " (.) DataFrame بررسی کنیم."
   ]
  },
  {
   "cell_type": "code",
   "execution_count": 18,
   "id": "4ebe1460",
   "metadata": {},
   "outputs": [
    {
     "data": {
      "text/plain": [
       "dtype('int64')"
      ]
     },
     "execution_count": 18,
     "metadata": {},
     "output_type": "execute_result"
    }
   ],
   "source": [
    "df['age'].dtype  # Dict Like Syntax"
   ]
  },
  {
   "cell_type": "code",
   "execution_count": 19,
   "id": "f1017eb1",
   "metadata": {},
   "outputs": [
    {
     "data": {
      "text/plain": [
       "dtype('int64')"
      ]
     },
     "execution_count": 19,
     "metadata": {},
     "output_type": "execute_result"
    }
   ],
   "source": [
    "df.age.dtype     # DataFrame.ColumnName"
   ]
  },
  {
   "cell_type": "code",
   "execution_count": 20,
   "id": "0a3a2584",
   "metadata": {},
   "outputs": [
    {
     "data": {
      "text/plain": [
       "dtype('O')"
      ]
     },
     "execution_count": 20,
     "metadata": {},
     "output_type": "execute_result"
    }
   ],
   "source": [
    "df.name.dtype    # DataFrame.ColumnName"
   ]
  },
  {
   "cell_type": "markdown",
   "id": "53153b44",
   "metadata": {
    "direction": "rtl"
   },
   "source": [
    "اگر بخواهیم انواع داده همه ستون‌های درون قاب داده را بررسی کنیم باید از تابع dtypes قاب داده به صورت زیر استفاده کنیم:"
   ]
  },
  {
   "cell_type": "code",
   "execution_count": 21,
   "id": "f06f63d2",
   "metadata": {},
   "outputs": [
    {
     "data": {
      "text/plain": [
       "name           object\n",
       "age             int64\n",
       "designation    object\n",
       "dtype: object"
      ]
     },
     "execution_count": 21,
     "metadata": {},
     "output_type": "execute_result"
    }
   ],
   "source": [
    "df.dtypes"
   ]
  },
  {
   "cell_type": "markdown",
   "id": "e9854439",
   "metadata": {
    "direction": "rtl"
   },
   "source": [
    "\n",
    "نمایش انواع همه ستون‌ها\n",
    "مشاهده داده‌های یک قاب داده\n",
    "در هر زمان قاب داده Pandas شامل صدها و شاید هزاران ردیف داده خواهد بود. ما هر زمان تنها بخش منتخبی از این داده‌ها را می‌توانیم ببینیم.\n",
    "\n",
    "برای مشاهده گزیده‌ای از ردیف‌ها می‌توانیم از تابع‌های (…)head  و (…)tail استفاده کنیم که به طور پیش‌فرض ردیف‌های اول یا آخر را ارائه می‌کند. در غیر این صورت تعداد مشخصی از ردیف‌ها را از ابتدا یا انتها نمایش می‌دهد.\n",
    "\n",
    "در ادامه روش نمایش محتوا را می‌بینید"
   ]
  },
  {
   "cell_type": "code",
   "execution_count": 22,
   "id": "34be150c",
   "metadata": {},
   "outputs": [
    {
     "data": {
      "text/html": [
       "<div>\n",
       "<style scoped>\n",
       "    .dataframe tbody tr th:only-of-type {\n",
       "        vertical-align: middle;\n",
       "    }\n",
       "\n",
       "    .dataframe tbody tr th {\n",
       "        vertical-align: top;\n",
       "    }\n",
       "\n",
       "    .dataframe thead th {\n",
       "        text-align: right;\n",
       "    }\n",
       "</style>\n",
       "<table border=\"1\" class=\"dataframe\">\n",
       "  <thead>\n",
       "    <tr style=\"text-align: right;\">\n",
       "      <th></th>\n",
       "      <th>name</th>\n",
       "      <th>age</th>\n",
       "      <th>designation</th>\n",
       "    </tr>\n",
       "  </thead>\n",
       "  <tbody>\n",
       "    <tr>\n",
       "      <th>30</th>\n",
       "      <td>c</td>\n",
       "      <td>35</td>\n",
       "      <td>CFO</td>\n",
       "    </tr>\n",
       "    <tr>\n",
       "      <th>40</th>\n",
       "      <td>d</td>\n",
       "      <td>55</td>\n",
       "      <td>VP</td>\n",
       "    </tr>\n",
       "    <tr>\n",
       "      <th>50</th>\n",
       "      <td>e</td>\n",
       "      <td>18</td>\n",
       "      <td>VP</td>\n",
       "    </tr>\n",
       "    <tr>\n",
       "      <th>60</th>\n",
       "      <td>f</td>\n",
       "      <td>21</td>\n",
       "      <td>CEO</td>\n",
       "    </tr>\n",
       "    <tr>\n",
       "      <th>70</th>\n",
       "      <td>g</td>\n",
       "      <td>35</td>\n",
       "      <td>MD</td>\n",
       "    </tr>\n",
       "  </tbody>\n",
       "</table>\n",
       "</div>"
      ],
      "text/plain": [
       "   name  age designation\n",
       "30    c   35         CFO\n",
       "40    d   55          VP\n",
       "50    e   18          VP\n",
       "60    f   21         CEO\n",
       "70    g   35          MD"
      ]
     },
     "execution_count": 22,
     "metadata": {},
     "output_type": "execute_result"
    }
   ],
   "source": [
    "df.head() # Displays 1st Five Rows\n",
    "\n",
    "df.tail() # Displays last Five Rows"
   ]
  },
  {
   "cell_type": "code",
   "execution_count": 31,
   "id": "5120e0bf",
   "metadata": {},
   "outputs": [
    {
     "data": {
      "text/html": [
       "<div>\n",
       "<style scoped>\n",
       "    .dataframe tbody tr th:only-of-type {\n",
       "        vertical-align: middle;\n",
       "    }\n",
       "\n",
       "    .dataframe tbody tr th {\n",
       "        vertical-align: top;\n",
       "    }\n",
       "\n",
       "    .dataframe thead th {\n",
       "        text-align: right;\n",
       "    }\n",
       "</style>\n",
       "<table border=\"1\" class=\"dataframe\">\n",
       "  <thead>\n",
       "    <tr style=\"text-align: right;\">\n",
       "      <th></th>\n",
       "      <th>name</th>\n",
       "      <th>age</th>\n",
       "      <th>designation</th>\n",
       "    </tr>\n",
       "  </thead>\n",
       "  <tbody>\n",
       "    <tr>\n",
       "      <th>10</th>\n",
       "      <td>a</td>\n",
       "      <td>20</td>\n",
       "      <td>VP</td>\n",
       "    </tr>\n",
       "    <tr>\n",
       "      <th>20</th>\n",
       "      <td>b</td>\n",
       "      <td>27</td>\n",
       "      <td>CEO</td>\n",
       "    </tr>\n",
       "    <tr>\n",
       "      <th>30</th>\n",
       "      <td>c</td>\n",
       "      <td>35</td>\n",
       "      <td>CFO</td>\n",
       "    </tr>\n",
       "    <tr>\n",
       "      <th>40</th>\n",
       "      <td>d</td>\n",
       "      <td>55</td>\n",
       "      <td>VP</td>\n",
       "    </tr>\n",
       "  </tbody>\n",
       "</table>\n",
       "</div>"
      ],
      "text/plain": [
       "   name  age designation\n",
       "10    a   20          VP\n",
       "20    b   27         CEO\n",
       "30    c   35         CFO\n",
       "40    d   55          VP"
      ]
     },
     "execution_count": 31,
     "metadata": {},
     "output_type": "execute_result"
    }
   ],
   "source": [
    "df.head(4) # Displays 1st two Rows\n",
    "\n",
    "\n",
    "\n"
   ]
  },
  {
   "cell_type": "markdown",
   "id": "364f6f27",
   "metadata": {
    "direction": "rtl"
   },
   "source": [
    "\n",
    "\n",
    "البته در دستورهای فوق تنها روش نمایش داده‌ها را دیدیم، حال اگر بخواهیم اندیس ردیف‌ها و نام ستون‌ها را ببینیم چه باید بکنیم؟ قاب داده Pandas تابع‌های خاصی برای مشاهده این موارد ارائه کرده است:\n"
   ]
  },
  {
   "cell_type": "code",
   "execution_count": 34,
   "id": "55400f21",
   "metadata": {},
   "outputs": [
    {
     "data": {
      "text/plain": [
       "Int64Index([10, 20, 30, 40, 50, 60, 70], dtype='int64')"
      ]
     },
     "execution_count": 34,
     "metadata": {},
     "output_type": "execute_result"
    }
   ],
   "source": [
    "df.index   # For Row Indexes"
   ]
  },
  {
   "cell_type": "code",
   "execution_count": 33,
   "id": "7664346b",
   "metadata": {},
   "outputs": [
    {
     "data": {
      "text/plain": [
       "Index(['name', 'age', 'designation'], dtype='object')"
      ]
     },
     "execution_count": 33,
     "metadata": {},
     "output_type": "execute_result"
    }
   ],
   "source": [
    "df.columns # For Columns"
   ]
  },
  {
   "cell_type": "markdown",
   "id": "9cc0f02c",
   "metadata": {
    "direction": "rtl"
   },
   "source": [
    "\n",
    "ستون‌های قاب داده Pandas تابع‌های کمکی ستون‌های مختلف را که برای استخراج اطلاعات ارزشمند از ستون‌ها بسیار مفید هستند ارائه می‌کند. برخی از آن‌ها شامل موارد زیر هستند:\n",
    "\n",
    "Unique – عناصر منحصر به فرد یک ستون را با حذف موارد تکراری ارائه می‌کند. برای مثال:"
   ]
  },
  {
   "cell_type": "code",
   "execution_count": 39,
   "id": "7e28e658",
   "metadata": {},
   "outputs": [
    {
     "data": {
      "text/plain": [
       "array(['VP', 'CEO', 'CFO', 'MD'], dtype=object)"
      ]
     },
     "execution_count": 39,
     "metadata": {},
     "output_type": "execute_result"
    }
   ],
   "source": [
    "df.designation.unique()"
   ]
  },
  {
   "cell_type": "markdown",
   "id": "95d2afa3",
   "metadata": {
    "direction": "rtl"
   },
   "source": [
    "mean – مقدار میانگین همه آیتم‌های موجود در یک ستون را نشان می‌دهد. برای مثال:"
   ]
  },
  {
   "cell_type": "code",
   "execution_count": 40,
   "id": "fe85654d",
   "metadata": {},
   "outputs": [
    {
     "data": {
      "text/plain": [
       "30.142857142857142"
      ]
     },
     "execution_count": 40,
     "metadata": {},
     "output_type": "execute_result"
    }
   ],
   "source": [
    "df.age.mean()"
   ]
  },
  {
   "cell_type": "markdown",
   "id": "65ee3ca0",
   "metadata": {
    "direction": "rtl"
   },
   "source": [
    "## استفاده از ستون‌ها به عنوان اندیس ردیف\n",
    "\n",
    "در اغلب موارد، مجموعه داده‌های مفروش شامل اندیس ردیف هستند.\n",
    "\n",
    "در این موارد، نیازی به قاب داده Pandas برای تولید اندیس ردیف جداگانه نداریم. چون این اندیس‌ها نه تنها اطلاعاتی اضافی هستند؛ بلکه حافظه‌ را نیز بی‌جهت اشغال می‌کنند.\n",
    "\n",
    "قاب داده Pandas امکان تعیین ستون یا مجموعه ستون‌های موجود به عنوان اندیس ردیف را فراهم ساخته است. در این بخش روش استفاده از ستون‌های قاب داده Pandas که قبلاً (با استفاده از دیکشنری my_dict) ایجاد شده‌اند را توضیح می‌دهیم.\n",
    "\n"
   ]
  },
  {
   "cell_type": "code",
   "execution_count": 45,
   "id": "dcb16e62",
   "metadata": {},
   "outputs": [],
   "source": [
    "df = pd.DataFrame(my_dict)\n",
    "\n",
    "#df.set_index(\"name\")\n",
    "#df.set_index(\"age\")"
   ]
  },
  {
   "cell_type": "code",
   "execution_count": null,
   "id": "bf05f117",
   "metadata": {},
   "outputs": [],
   "source": []
  },
  {
   "cell_type": "code",
   "execution_count": null,
   "id": "d849fcd7",
   "metadata": {},
   "outputs": [],
   "source": [
    "ما می‌توانیم با ارسال یک لیست درون (…)set_index به صورت زیر چندین ستون را به عنوان اندیس ایجاد کنیم."
   ]
  },
  {
   "cell_type": "code",
   "execution_count": 50,
   "id": "b6336802",
   "metadata": {},
   "outputs": [
    {
     "data": {
      "text/html": [
       "<div>\n",
       "<style scoped>\n",
       "    .dataframe tbody tr th:only-of-type {\n",
       "        vertical-align: middle;\n",
       "    }\n",
       "\n",
       "    .dataframe tbody tr th {\n",
       "        vertical-align: top;\n",
       "    }\n",
       "\n",
       "    .dataframe thead th {\n",
       "        text-align: right;\n",
       "    }\n",
       "</style>\n",
       "<table border=\"1\" class=\"dataframe\">\n",
       "  <thead>\n",
       "    <tr style=\"text-align: right;\">\n",
       "      <th></th>\n",
       "      <th></th>\n",
       "      <th></th>\n",
       "    </tr>\n",
       "    <tr>\n",
       "      <th>age</th>\n",
       "      <th>name</th>\n",
       "      <th>designation</th>\n",
       "    </tr>\n",
       "  </thead>\n",
       "  <tbody>\n",
       "    <tr>\n",
       "      <th>20</th>\n",
       "      <th>a</th>\n",
       "      <th>VP</th>\n",
       "    </tr>\n",
       "    <tr>\n",
       "      <th>27</th>\n",
       "      <th>b</th>\n",
       "      <th>CEO</th>\n",
       "    </tr>\n",
       "    <tr>\n",
       "      <th>35</th>\n",
       "      <th>c</th>\n",
       "      <th>CFO</th>\n",
       "    </tr>\n",
       "    <tr>\n",
       "      <th>55</th>\n",
       "      <th>d</th>\n",
       "      <th>VP</th>\n",
       "    </tr>\n",
       "    <tr>\n",
       "      <th>18</th>\n",
       "      <th>e</th>\n",
       "      <th>VP</th>\n",
       "    </tr>\n",
       "    <tr>\n",
       "      <th>21</th>\n",
       "      <th>f</th>\n",
       "      <th>CEO</th>\n",
       "    </tr>\n",
       "    <tr>\n",
       "      <th>35</th>\n",
       "      <th>g</th>\n",
       "      <th>MD</th>\n",
       "    </tr>\n",
       "  </tbody>\n",
       "</table>\n",
       "</div>"
      ],
      "text/plain": [
       "Empty DataFrame\n",
       "Columns: []\n",
       "Index: [(20, a, VP), (27, b, CEO), (35, c, CFO), (55, d, VP), (18, e, VP), (21, f, CEO), (35, g, MD)]"
      ]
     },
     "execution_count": 50,
     "metadata": {},
     "output_type": "execute_result"
    }
   ],
   "source": [
    "\n",
    "df.set_index([\"age\",\"name\",\"designation\"])"
   ]
  },
  {
   "cell_type": "code",
   "execution_count": null,
   "id": "b9233dd9",
   "metadata": {},
   "outputs": [],
   "source": [
    "\n",
    "بارگذاری ستون‌ها در قاب داده\n",
    "هر فعالیت تحلیل داده‌ای که تصور کنید نیازمند پاک‌سازی داده است و این سناریو کاملاً محتمل است که به این نتیجه برسیم، نیاز داریم برخی ستون‌ها را از تحلیل خود حذف کنیم. این کار نه تنها باعث صرفه‌جویی در حافظه می‌شود؛ بلکه به تحلیل داده‌هایی که مطلوب هستند نیز کمک می‌کند. ما از همان دیکشنری برای بارگذاری قاب داده Pandas استفاده می‌کنیم؛ اما این بار ستون‌هایی که می‌خواهیم بخشی از قاب داده باشند را تعیین می‌کنیم.\n"
   ]
  },
  {
   "cell_type": "code",
   "execution_count": 52,
   "id": "583bd3cf",
   "metadata": {},
   "outputs": [
    {
     "data": {
      "text/html": [
       "<div>\n",
       "<style scoped>\n",
       "    .dataframe tbody tr th:only-of-type {\n",
       "        vertical-align: middle;\n",
       "    }\n",
       "\n",
       "    .dataframe tbody tr th {\n",
       "        vertical-align: top;\n",
       "    }\n",
       "\n",
       "    .dataframe thead th {\n",
       "        text-align: right;\n",
       "    }\n",
       "</style>\n",
       "<table border=\"1\" class=\"dataframe\">\n",
       "  <thead>\n",
       "    <tr style=\"text-align: right;\">\n",
       "      <th></th>\n",
       "      <th>name</th>\n",
       "      <th>age</th>\n",
       "    </tr>\n",
       "  </thead>\n",
       "  <tbody>\n",
       "    <tr>\n",
       "      <th>0</th>\n",
       "      <td>a</td>\n",
       "      <td>20</td>\n",
       "    </tr>\n",
       "    <tr>\n",
       "      <th>1</th>\n",
       "      <td>b</td>\n",
       "      <td>27</td>\n",
       "    </tr>\n",
       "    <tr>\n",
       "      <th>2</th>\n",
       "      <td>c</td>\n",
       "      <td>35</td>\n",
       "    </tr>\n",
       "    <tr>\n",
       "      <th>3</th>\n",
       "      <td>d</td>\n",
       "      <td>55</td>\n",
       "    </tr>\n",
       "    <tr>\n",
       "      <th>4</th>\n",
       "      <td>e</td>\n",
       "      <td>18</td>\n",
       "    </tr>\n",
       "    <tr>\n",
       "      <th>5</th>\n",
       "      <td>f</td>\n",
       "      <td>21</td>\n",
       "    </tr>\n",
       "    <tr>\n",
       "      <th>6</th>\n",
       "      <td>g</td>\n",
       "      <td>35</td>\n",
       "    </tr>\n",
       "  </tbody>\n",
       "</table>\n",
       "</div>"
      ],
      "text/plain": [
       "  name  age\n",
       "0    a   20\n",
       "1    b   27\n",
       "2    c   35\n",
       "3    d   55\n",
       "4    e   18\n",
       "5    f   21\n",
       "6    g   35"
      ]
     },
     "execution_count": 52,
     "metadata": {},
     "output_type": "execute_result"
    }
   ],
   "source": [
    "df = pd.DataFrame(my_dict, columns=[\"name\", \"age\"])"
   ]
  },
  {
   "cell_type": "code",
   "execution_count": null,
   "id": "abd3aae0",
   "metadata": {},
   "outputs": [],
   "source": [
    "حذف ردیف‌ها و ستون‌ها از قاب داده\n",
    "قاب داده Pandas چندین روش برای حذف ردیف‌ها و ستون‌ها ارائه کرده است. ترجیح هر یک از روش‌ها بر دیگری مزیت کارکردی چندانی ندارد. هر ساختاری که راحت‌تر یافتید را می‌توانید مورد استفاده قرار دهید. با استفاده از ساختار دیکشنری برای حذف یک ستون از del به صورت زیر استفاده می‌کنیم:\n"
   ]
  },
  {
   "cell_type": "code",
   "execution_count": 53,
   "id": "56bc304c",
   "metadata": {},
   "outputs": [],
   "source": [
    "del df['name']"
   ]
  },
  {
   "cell_type": "code",
   "execution_count": 54,
   "id": "96f92f2c",
   "metadata": {},
   "outputs": [
    {
     "data": {
      "text/html": [
       "<div>\n",
       "<style scoped>\n",
       "    .dataframe tbody tr th:only-of-type {\n",
       "        vertical-align: middle;\n",
       "    }\n",
       "\n",
       "    .dataframe tbody tr th {\n",
       "        vertical-align: top;\n",
       "    }\n",
       "\n",
       "    .dataframe thead th {\n",
       "        text-align: right;\n",
       "    }\n",
       "</style>\n",
       "<table border=\"1\" class=\"dataframe\">\n",
       "  <thead>\n",
       "    <tr style=\"text-align: right;\">\n",
       "      <th></th>\n",
       "      <th>age</th>\n",
       "    </tr>\n",
       "  </thead>\n",
       "  <tbody>\n",
       "    <tr>\n",
       "      <th>0</th>\n",
       "      <td>20</td>\n",
       "    </tr>\n",
       "    <tr>\n",
       "      <th>1</th>\n",
       "      <td>27</td>\n",
       "    </tr>\n",
       "    <tr>\n",
       "      <th>2</th>\n",
       "      <td>35</td>\n",
       "    </tr>\n",
       "    <tr>\n",
       "      <th>3</th>\n",
       "      <td>55</td>\n",
       "    </tr>\n",
       "    <tr>\n",
       "      <th>4</th>\n",
       "      <td>18</td>\n",
       "    </tr>\n",
       "    <tr>\n",
       "      <th>5</th>\n",
       "      <td>21</td>\n",
       "    </tr>\n",
       "    <tr>\n",
       "      <th>6</th>\n",
       "      <td>35</td>\n",
       "    </tr>\n",
       "  </tbody>\n",
       "</table>\n",
       "</div>"
      ],
      "text/plain": [
       "   age\n",
       "0   20\n",
       "1   27\n",
       "2   35\n",
       "3   55\n",
       "4   18\n",
       "5   21\n",
       "6   35"
      ]
     },
     "execution_count": 54,
     "metadata": {},
     "output_type": "execute_result"
    }
   ],
   "source": [
    "df"
   ]
  },
  {
   "cell_type": "markdown",
   "id": "0d252223",
   "metadata": {
    "direction": "rtl"
   },
   "source": [
    "با استفاده از تابع Drop می‌توانیم ستون‌ها را نیز علاوه بر ردیف‌ها حذف کنیم. این که می‌خواهیم ردیف‌ها و یا ستون‌ها را حذف کنیم، در آرگومان دوم در تابع drop تعیین می‌شود. آرگومان دوم «1» در تابع (…)drop نشان دهنده حذف ستون است؛ در حالی که مقدار «0» برای حذف ردیف استفاده می‌شود.\n"
   ]
  },
  {
   "cell_type": "code",
   "execution_count": 62,
   "id": "ea329d9c",
   "metadata": {},
   "outputs": [
    {
     "data": {
      "text/html": [
       "<div>\n",
       "<style scoped>\n",
       "    .dataframe tbody tr th:only-of-type {\n",
       "        vertical-align: middle;\n",
       "    }\n",
       "\n",
       "    .dataframe tbody tr th {\n",
       "        vertical-align: top;\n",
       "    }\n",
       "\n",
       "    .dataframe thead th {\n",
       "        text-align: right;\n",
       "    }\n",
       "</style>\n",
       "<table border=\"1\" class=\"dataframe\">\n",
       "  <thead>\n",
       "    <tr style=\"text-align: right;\">\n",
       "      <th></th>\n",
       "      <th>name</th>\n",
       "      <th>designation</th>\n",
       "    </tr>\n",
       "  </thead>\n",
       "  <tbody>\n",
       "    <tr>\n",
       "      <th>0</th>\n",
       "      <td>a</td>\n",
       "      <td>VP</td>\n",
       "    </tr>\n",
       "    <tr>\n",
       "      <th>1</th>\n",
       "      <td>b</td>\n",
       "      <td>CEO</td>\n",
       "    </tr>\n",
       "    <tr>\n",
       "      <th>2</th>\n",
       "      <td>c</td>\n",
       "      <td>CFO</td>\n",
       "    </tr>\n",
       "    <tr>\n",
       "      <th>3</th>\n",
       "      <td>d</td>\n",
       "      <td>VP</td>\n",
       "    </tr>\n",
       "    <tr>\n",
       "      <th>4</th>\n",
       "      <td>e</td>\n",
       "      <td>VP</td>\n",
       "    </tr>\n",
       "    <tr>\n",
       "      <th>5</th>\n",
       "      <td>f</td>\n",
       "      <td>CEO</td>\n",
       "    </tr>\n",
       "    <tr>\n",
       "      <th>6</th>\n",
       "      <td>g</td>\n",
       "      <td>MD</td>\n",
       "    </tr>\n",
       "  </tbody>\n",
       "</table>\n",
       "</div>"
      ],
      "text/plain": [
       "  name designation\n",
       "0    a          VP\n",
       "1    b         CEO\n",
       "2    c         CFO\n",
       "3    d          VP\n",
       "4    e          VP\n",
       "5    f         CEO\n",
       "6    g          MD"
      ]
     },
     "execution_count": 62,
     "metadata": {},
     "output_type": "execute_result"
    }
   ],
   "source": [
    "df = pd.DataFrame(my_dict)\n",
    "\n",
    "# Delete Column \"age\"\n",
    "\n",
    "df.drop('age',1)\n"
   ]
  },
  {
   "cell_type": "code",
   "execution_count": 56,
   "id": "53bf1ede",
   "metadata": {},
   "outputs": [
    {
     "data": {
      "text/html": [
       "<div>\n",
       "<style scoped>\n",
       "    .dataframe tbody tr th:only-of-type {\n",
       "        vertical-align: middle;\n",
       "    }\n",
       "\n",
       "    .dataframe tbody tr th {\n",
       "        vertical-align: top;\n",
       "    }\n",
       "\n",
       "    .dataframe thead th {\n",
       "        text-align: right;\n",
       "    }\n",
       "</style>\n",
       "<table border=\"1\" class=\"dataframe\">\n",
       "  <thead>\n",
       "    <tr style=\"text-align: right;\">\n",
       "      <th></th>\n",
       "      <th>age</th>\n",
       "    </tr>\n",
       "  </thead>\n",
       "  <tbody>\n",
       "    <tr>\n",
       "      <th>0</th>\n",
       "      <td>20</td>\n",
       "    </tr>\n",
       "    <tr>\n",
       "      <th>1</th>\n",
       "      <td>27</td>\n",
       "    </tr>\n",
       "    <tr>\n",
       "      <th>2</th>\n",
       "      <td>35</td>\n",
       "    </tr>\n",
       "    <tr>\n",
       "      <th>4</th>\n",
       "      <td>18</td>\n",
       "    </tr>\n",
       "    <tr>\n",
       "      <th>5</th>\n",
       "      <td>21</td>\n",
       "    </tr>\n",
       "    <tr>\n",
       "      <th>6</th>\n",
       "      <td>35</td>\n",
       "    </tr>\n",
       "  </tbody>\n",
       "</table>\n",
       "</div>"
      ],
      "text/plain": [
       "   age\n",
       "0   20\n",
       "1   27\n",
       "2   35\n",
       "4   18\n",
       "5   21\n",
       "6   35"
      ]
     },
     "execution_count": 56,
     "metadata": {},
     "output_type": "execute_result"
    }
   ],
   "source": [
    "\n",
    "# Delete the Row with Index \"3\"\n",
    "df.drop(3,0)"
   ]
  },
  {
   "cell_type": "code",
   "execution_count": null,
   "id": "94b5121b",
   "metadata": {},
   "outputs": [],
   "source": [
    "همچنین امکان حذف چندین ردیف یا ستون با ارسال لیست در تابع (…)drop وجود دارد:"
   ]
  },
  {
   "cell_type": "code",
   "execution_count": 63,
   "id": "285a52dc",
   "metadata": {},
   "outputs": [
    {
     "data": {
      "text/html": [
       "<div>\n",
       "<style scoped>\n",
       "    .dataframe tbody tr th:only-of-type {\n",
       "        vertical-align: middle;\n",
       "    }\n",
       "\n",
       "    .dataframe tbody tr th {\n",
       "        vertical-align: top;\n",
       "    }\n",
       "\n",
       "    .dataframe thead th {\n",
       "        text-align: right;\n",
       "    }\n",
       "</style>\n",
       "<table border=\"1\" class=\"dataframe\">\n",
       "  <thead>\n",
       "    <tr style=\"text-align: right;\">\n",
       "      <th></th>\n",
       "      <th>designation</th>\n",
       "    </tr>\n",
       "  </thead>\n",
       "  <tbody>\n",
       "    <tr>\n",
       "      <th>0</th>\n",
       "      <td>VP</td>\n",
       "    </tr>\n",
       "    <tr>\n",
       "      <th>1</th>\n",
       "      <td>CEO</td>\n",
       "    </tr>\n",
       "    <tr>\n",
       "      <th>2</th>\n",
       "      <td>CFO</td>\n",
       "    </tr>\n",
       "    <tr>\n",
       "      <th>3</th>\n",
       "      <td>VP</td>\n",
       "    </tr>\n",
       "    <tr>\n",
       "      <th>4</th>\n",
       "      <td>VP</td>\n",
       "    </tr>\n",
       "    <tr>\n",
       "      <th>5</th>\n",
       "      <td>CEO</td>\n",
       "    </tr>\n",
       "    <tr>\n",
       "      <th>6</th>\n",
       "      <td>MD</td>\n",
       "    </tr>\n",
       "  </tbody>\n",
       "</table>\n",
       "</div>"
      ],
      "text/plain": [
       "  designation\n",
       "0          VP\n",
       "1         CEO\n",
       "2         CFO\n",
       "3          VP\n",
       "4          VP\n",
       "5         CEO\n",
       "6          MD"
      ]
     },
     "execution_count": 63,
     "metadata": {},
     "output_type": "execute_result"
    }
   ],
   "source": [
    "# Delete Columns \"name\" &amp; \"age\"\n",
    "\n",
    "df.drop(['name','age'],1)"
   ]
  },
  {
   "cell_type": "code",
   "execution_count": 64,
   "id": "d999b9c6",
   "metadata": {},
   "outputs": [
    {
     "data": {
      "text/html": [
       "<div>\n",
       "<style scoped>\n",
       "    .dataframe tbody tr th:only-of-type {\n",
       "        vertical-align: middle;\n",
       "    }\n",
       "\n",
       "    .dataframe tbody tr th {\n",
       "        vertical-align: top;\n",
       "    }\n",
       "\n",
       "    .dataframe thead th {\n",
       "        text-align: right;\n",
       "    }\n",
       "</style>\n",
       "<table border=\"1\" class=\"dataframe\">\n",
       "  <thead>\n",
       "    <tr style=\"text-align: right;\">\n",
       "      <th></th>\n",
       "      <th>name</th>\n",
       "      <th>age</th>\n",
       "      <th>designation</th>\n",
       "    </tr>\n",
       "  </thead>\n",
       "  <tbody>\n",
       "    <tr>\n",
       "      <th>0</th>\n",
       "      <td>a</td>\n",
       "      <td>20</td>\n",
       "      <td>VP</td>\n",
       "    </tr>\n",
       "    <tr>\n",
       "      <th>1</th>\n",
       "      <td>b</td>\n",
       "      <td>27</td>\n",
       "      <td>CEO</td>\n",
       "    </tr>\n",
       "    <tr>\n",
       "      <th>5</th>\n",
       "      <td>f</td>\n",
       "      <td>21</td>\n",
       "      <td>CEO</td>\n",
       "    </tr>\n",
       "    <tr>\n",
       "      <th>6</th>\n",
       "      <td>g</td>\n",
       "      <td>35</td>\n",
       "      <td>MD</td>\n",
       "    </tr>\n",
       "  </tbody>\n",
       "</table>\n",
       "</div>"
      ],
      "text/plain": [
       "  name  age designation\n",
       "0    a   20          VP\n",
       "1    b   27         CEO\n",
       "5    f   21         CEO\n",
       "6    g   35          MD"
      ]
     },
     "execution_count": 64,
     "metadata": {},
     "output_type": "execute_result"
    }
   ],
   "source": [
    "# Delete Rows with index \"2\",\"3\", &amp; \"4\"\n",
    "\n",
    "df.drop([2,3,4],0)"
   ]
  },
  {
   "cell_type": "code",
   "execution_count": null,
   "id": "2e778e33",
   "metadata": {},
   "outputs": [],
   "source": [
    "توجه کنید که اندیس ردیف، شماره ردیف نیست؛ بلکه ردیف (ها) شامل آن مقدار هستند.\n",
    "\n",
    "ایجاد یک قاب داده Pandas از یک لیست\n",
    "شاید این سؤال برایتان پیش آمده باشد که اگر یک مجموعه داده بدون هیچ ستونی داشته باشیم، چطور می‌توانیم از آن قاب داده بسازیم؟ پاسخ این است که برای قاب داده Pandas مهم نیست که قاب داده با افزودن صریح اندیس ردیف ساخته می‌شود یا با استفاده از هدرهای ستون‌ها. برای مثال اگر یک قاب داده را از لیست زیر بسازیم:\n",
    "\n"
   ]
  },
  {
   "cell_type": "code",
   "execution_count": 65,
   "id": "7706e0fa",
   "metadata": {},
   "outputs": [],
   "source": [
    "my_list = [[ 1, 2, 3, 4],\n",
    "           [ 5, 6, 7, 8],\n",
    "           [ 9,10,11,12],\n",
    "           [13,14,15,16],\n",
    "           [17,18,19,20]]\n"
   ]
  },
  {
   "cell_type": "code",
   "execution_count": 66,
   "id": "2696c931",
   "metadata": {},
   "outputs": [],
   "source": [
    "df = pd.DataFrame(my_list)"
   ]
  },
  {
   "cell_type": "code",
   "execution_count": 67,
   "id": "48b8c6bc",
   "metadata": {
    "scrolled": true
   },
   "outputs": [
    {
     "data": {
      "text/html": [
       "<div>\n",
       "<style scoped>\n",
       "    .dataframe tbody tr th:only-of-type {\n",
       "        vertical-align: middle;\n",
       "    }\n",
       "\n",
       "    .dataframe tbody tr th {\n",
       "        vertical-align: top;\n",
       "    }\n",
       "\n",
       "    .dataframe thead th {\n",
       "        text-align: right;\n",
       "    }\n",
       "</style>\n",
       "<table border=\"1\" class=\"dataframe\">\n",
       "  <thead>\n",
       "    <tr style=\"text-align: right;\">\n",
       "      <th></th>\n",
       "      <th>0</th>\n",
       "      <th>1</th>\n",
       "      <th>2</th>\n",
       "      <th>3</th>\n",
       "    </tr>\n",
       "  </thead>\n",
       "  <tbody>\n",
       "    <tr>\n",
       "      <th>0</th>\n",
       "      <td>1</td>\n",
       "      <td>2</td>\n",
       "      <td>3</td>\n",
       "      <td>4</td>\n",
       "    </tr>\n",
       "    <tr>\n",
       "      <th>1</th>\n",
       "      <td>5</td>\n",
       "      <td>6</td>\n",
       "      <td>7</td>\n",
       "      <td>8</td>\n",
       "    </tr>\n",
       "    <tr>\n",
       "      <th>2</th>\n",
       "      <td>9</td>\n",
       "      <td>10</td>\n",
       "      <td>11</td>\n",
       "      <td>12</td>\n",
       "    </tr>\n",
       "    <tr>\n",
       "      <th>3</th>\n",
       "      <td>13</td>\n",
       "      <td>14</td>\n",
       "      <td>15</td>\n",
       "      <td>16</td>\n",
       "    </tr>\n",
       "    <tr>\n",
       "      <th>4</th>\n",
       "      <td>17</td>\n",
       "      <td>18</td>\n",
       "      <td>19</td>\n",
       "      <td>20</td>\n",
       "    </tr>\n",
       "  </tbody>\n",
       "</table>\n",
       "</div>"
      ],
      "text/plain": [
       "    0   1   2   3\n",
       "0   1   2   3   4\n",
       "1   5   6   7   8\n",
       "2   9  10  11  12\n",
       "3  13  14  15  16\n",
       "4  17  18  19  20"
      ]
     },
     "execution_count": 67,
     "metadata": {},
     "output_type": "execute_result"
    }
   ],
   "source": [
    "df"
   ]
  },
  {
   "cell_type": "code",
   "execution_count": null,
   "id": "bc6c87ca",
   "metadata": {},
   "outputs": [],
   "source": [
    "\n",
    "اگر بخواهیم که قاب داده Pandas اندیس‌های ردیف‌ها و نام ستون‌ها را به طور خودکار ایجاد نکند، می‌توانیم این مقادیر را در تابع DataFrame به صورت زیر ارسال کنیم:\n"
   ]
  },
  {
   "cell_type": "code",
   "execution_count": 73,
   "id": "11c24043",
   "metadata": {},
   "outputs": [],
   "source": [
    "df = pd.DataFrame(\n",
    "my_list,\n",
    "index = [\"1\", \"2\", \"3\", \"4\", \"5\"],\n",
    "columns = [\"A\", \"B\", \"C\", \"D\"]\n",
    ")\n"
   ]
  },
  {
   "cell_type": "code",
   "execution_count": 74,
   "id": "95a752ba",
   "metadata": {},
   "outputs": [
    {
     "data": {
      "text/html": [
       "<div>\n",
       "<style scoped>\n",
       "    .dataframe tbody tr th:only-of-type {\n",
       "        vertical-align: middle;\n",
       "    }\n",
       "\n",
       "    .dataframe tbody tr th {\n",
       "        vertical-align: top;\n",
       "    }\n",
       "\n",
       "    .dataframe thead th {\n",
       "        text-align: right;\n",
       "    }\n",
       "</style>\n",
       "<table border=\"1\" class=\"dataframe\">\n",
       "  <thead>\n",
       "    <tr style=\"text-align: right;\">\n",
       "      <th></th>\n",
       "      <th>A</th>\n",
       "      <th>B</th>\n",
       "      <th>C</th>\n",
       "      <th>D</th>\n",
       "    </tr>\n",
       "  </thead>\n",
       "  <tbody>\n",
       "    <tr>\n",
       "      <th>1</th>\n",
       "      <td>1</td>\n",
       "      <td>2</td>\n",
       "      <td>3</td>\n",
       "      <td>4</td>\n",
       "    </tr>\n",
       "    <tr>\n",
       "      <th>2</th>\n",
       "      <td>5</td>\n",
       "      <td>6</td>\n",
       "      <td>7</td>\n",
       "      <td>8</td>\n",
       "    </tr>\n",
       "    <tr>\n",
       "      <th>3</th>\n",
       "      <td>9</td>\n",
       "      <td>10</td>\n",
       "      <td>11</td>\n",
       "      <td>12</td>\n",
       "    </tr>\n",
       "    <tr>\n",
       "      <th>4</th>\n",
       "      <td>13</td>\n",
       "      <td>14</td>\n",
       "      <td>15</td>\n",
       "      <td>16</td>\n",
       "    </tr>\n",
       "    <tr>\n",
       "      <th>5</th>\n",
       "      <td>17</td>\n",
       "      <td>18</td>\n",
       "      <td>19</td>\n",
       "      <td>20</td>\n",
       "    </tr>\n",
       "  </tbody>\n",
       "</table>\n",
       "</div>"
      ],
      "text/plain": [
       "    A   B   C   D\n",
       "1   1   2   3   4\n",
       "2   5   6   7   8\n",
       "3   9  10  11  12\n",
       "4  13  14  15  16\n",
       "5  17  18  19  20"
      ]
     },
     "execution_count": 74,
     "metadata": {},
     "output_type": "execute_result"
    }
   ],
   "source": [
    "df"
   ]
  },
  {
   "cell_type": "markdown",
   "id": "b49dcc2a",
   "metadata": {},
   "source": [
    "<div dir=\"rtl\">\n",
    "لازم به ذکر است که می‌توانیم قاب داده Pandas را از آرایه‌های NumPy نیز به صورت زیر بسازیم:\n",
    "</div>  "
   ]
  },
  {
   "cell_type": "markdown",
   "id": "c39be87c",
   "metadata": {},
   "source": [
    "<div dir=\"rtl\">\n",
    "    \n",
    "</div>  "
   ]
  },
  {
   "cell_type": "markdown",
   "id": "ddbab136",
   "metadata": {},
   "source": [
    "<div dir=\"rtl\">\n",
    "    \n",
    "</div>  "
   ]
  },
  {
   "cell_type": "markdown",
   "id": "d55cde2d",
   "metadata": {},
   "source": [
    "<div dir=\"rtl\">\n",
    "    \n",
    "</div>  "
   ]
  },
  {
   "cell_type": "code",
   "execution_count": 78,
   "id": "7433ab59",
   "metadata": {},
   "outputs": [
    {
     "data": {
      "text/plain": [
       "array([[  1,   4,   9,  16],\n",
       "       [ 25,  36,  49,  64],\n",
       "       [ 81, 100, 121, 144],\n",
       "       [169, 225, 256, 256],\n",
       "       [289, 324, 361, 400]])"
      ]
     },
     "execution_count": 78,
     "metadata": {},
     "output_type": "execute_result"
    }
   ],
   "source": [
    "np_arr = np.array([[1,2,3,4],\n",
    "                  [5,6,7,8],\n",
    "                  [9,10,11,12],\n",
    "                  [13,15,16,16],\n",
    "                  [17,18,19,20]])\n",
    "np_arr"
   ]
  },
  {
   "cell_type": "code",
   "execution_count": 83,
   "id": "cd0ec9a2",
   "metadata": {},
   "outputs": [
    {
     "data": {
      "text/html": [
       "<div>\n",
       "<style scoped>\n",
       "    .dataframe tbody tr th:only-of-type {\n",
       "        vertical-align: middle;\n",
       "    }\n",
       "\n",
       "    .dataframe tbody tr th {\n",
       "        vertical-align: top;\n",
       "    }\n",
       "\n",
       "    .dataframe thead th {\n",
       "        text-align: right;\n",
       "    }\n",
       "</style>\n",
       "<table border=\"1\" class=\"dataframe\">\n",
       "  <thead>\n",
       "    <tr style=\"text-align: right;\">\n",
       "      <th></th>\n",
       "      <th>0</th>\n",
       "      <th>1</th>\n",
       "      <th>2</th>\n",
       "      <th>3</th>\n",
       "    </tr>\n",
       "  </thead>\n",
       "  <tbody>\n",
       "    <tr>\n",
       "      <th>0</th>\n",
       "      <td>1</td>\n",
       "      <td>2</td>\n",
       "      <td>3</td>\n",
       "      <td>4</td>\n",
       "    </tr>\n",
       "    <tr>\n",
       "      <th>1</th>\n",
       "      <td>5</td>\n",
       "      <td>6</td>\n",
       "      <td>7</td>\n",
       "      <td>8</td>\n",
       "    </tr>\n",
       "    <tr>\n",
       "      <th>2</th>\n",
       "      <td>9</td>\n",
       "      <td>10</td>\n",
       "      <td>11</td>\n",
       "      <td>12</td>\n",
       "    </tr>\n",
       "    <tr>\n",
       "      <th>3</th>\n",
       "      <td>13</td>\n",
       "      <td>15</td>\n",
       "      <td>16</td>\n",
       "      <td>16</td>\n",
       "    </tr>\n",
       "    <tr>\n",
       "      <th>4</th>\n",
       "      <td>17</td>\n",
       "      <td>18</td>\n",
       "      <td>19</td>\n",
       "      <td>20</td>\n",
       "    </tr>\n",
       "  </tbody>\n",
       "</table>\n",
       "</div>"
      ],
      "text/plain": [
       "    0   1   2   3\n",
       "0   1   2   3   4\n",
       "1   5   6   7   8\n",
       "2   9  10  11  12\n",
       "3  13  15  16  16\n",
       "4  17  18  19  20"
      ]
     },
     "execution_count": 83,
     "metadata": {},
     "output_type": "execute_result"
    }
   ],
   "source": [
    "np_arr = np.array(df)\n",
    "\n",
    "df = pd.DataFrame(np_arr)\n",
    "\n",
    "df"
   ]
  },
  {
   "cell_type": "markdown",
   "id": "e17bb8ab",
   "metadata": {},
   "source": [
    "<div dir=\"rtl\">\n",
    "   عملیات‌های ریاضی روی قاب داده\n",
    "\n",
    "    \n",
    "همانند برگه‌های اکسل در مورد قاب داده Pandas نیز آسان‌تر است که عملیات‌های ریاضی روی کل قاب داده انجام یابند. البته امکان انجام یک عملیات ریاضی روی ستون منفرد نیز وجود دارد و این همان جایی است که ما به سری‌های Pandas نیاز داریم. در این بخش روش استفاده از عملیات‌های ریاضی روی کل یک قاب داده را بررسی می‌کنیم.\n",
    "\n",
    "ضرب: ما می‌توانیم قاب داده را در یک مقدار اسکالر از قاب داده دیگر ضرب کنیم.\n",
    "</div>  "
   ]
  },
  {
   "cell_type": "code",
   "execution_count": 86,
   "id": "763981e0",
   "metadata": {},
   "outputs": [
    {
     "data": {
      "text/html": [
       "<div>\n",
       "<style scoped>\n",
       "    .dataframe tbody tr th:only-of-type {\n",
       "        vertical-align: middle;\n",
       "    }\n",
       "\n",
       "    .dataframe tbody tr th {\n",
       "        vertical-align: top;\n",
       "    }\n",
       "\n",
       "    .dataframe thead th {\n",
       "        text-align: right;\n",
       "    }\n",
       "</style>\n",
       "<table border=\"1\" class=\"dataframe\">\n",
       "  <thead>\n",
       "    <tr style=\"text-align: right;\">\n",
       "      <th></th>\n",
       "      <th>0</th>\n",
       "      <th>1</th>\n",
       "      <th>2</th>\n",
       "      <th>3</th>\n",
       "    </tr>\n",
       "  </thead>\n",
       "  <tbody>\n",
       "    <tr>\n",
       "      <th>0</th>\n",
       "      <td>1</td>\n",
       "      <td>4</td>\n",
       "      <td>9</td>\n",
       "      <td>16</td>\n",
       "    </tr>\n",
       "    <tr>\n",
       "      <th>1</th>\n",
       "      <td>25</td>\n",
       "      <td>36</td>\n",
       "      <td>49</td>\n",
       "      <td>64</td>\n",
       "    </tr>\n",
       "    <tr>\n",
       "      <th>2</th>\n",
       "      <td>81</td>\n",
       "      <td>100</td>\n",
       "      <td>121</td>\n",
       "      <td>144</td>\n",
       "    </tr>\n",
       "    <tr>\n",
       "      <th>3</th>\n",
       "      <td>169</td>\n",
       "      <td>225</td>\n",
       "      <td>256</td>\n",
       "      <td>256</td>\n",
       "    </tr>\n",
       "    <tr>\n",
       "      <th>4</th>\n",
       "      <td>289</td>\n",
       "      <td>324</td>\n",
       "      <td>361</td>\n",
       "      <td>400</td>\n",
       "    </tr>\n",
       "  </tbody>\n",
       "</table>\n",
       "</div>"
      ],
      "text/plain": [
       "     0    1    2    3\n",
       "0    1    4    9   16\n",
       "1   25   36   49   64\n",
       "2   81  100  121  144\n",
       "3  169  225  256  256\n",
       "4  289  324  361  400"
      ]
     },
     "execution_count": 86,
     "metadata": {},
     "output_type": "execute_result"
    }
   ],
   "source": [
    "df * df"
   ]
  },
  {
   "cell_type": "code",
   "execution_count": 85,
   "id": "0ca3cb9f",
   "metadata": {},
   "outputs": [
    {
     "data": {
      "text/html": [
       "<div>\n",
       "<style scoped>\n",
       "    .dataframe tbody tr th:only-of-type {\n",
       "        vertical-align: middle;\n",
       "    }\n",
       "\n",
       "    .dataframe tbody tr th {\n",
       "        vertical-align: top;\n",
       "    }\n",
       "\n",
       "    .dataframe thead th {\n",
       "        text-align: right;\n",
       "    }\n",
       "</style>\n",
       "<table border=\"1\" class=\"dataframe\">\n",
       "  <thead>\n",
       "    <tr style=\"text-align: right;\">\n",
       "      <th></th>\n",
       "      <th>0</th>\n",
       "      <th>1</th>\n",
       "      <th>2</th>\n",
       "      <th>3</th>\n",
       "    </tr>\n",
       "  </thead>\n",
       "  <tbody>\n",
       "    <tr>\n",
       "      <th>0</th>\n",
       "      <td>10</td>\n",
       "      <td>20</td>\n",
       "      <td>30</td>\n",
       "      <td>40</td>\n",
       "    </tr>\n",
       "    <tr>\n",
       "      <th>1</th>\n",
       "      <td>50</td>\n",
       "      <td>60</td>\n",
       "      <td>70</td>\n",
       "      <td>80</td>\n",
       "    </tr>\n",
       "    <tr>\n",
       "      <th>2</th>\n",
       "      <td>90</td>\n",
       "      <td>100</td>\n",
       "      <td>110</td>\n",
       "      <td>120</td>\n",
       "    </tr>\n",
       "    <tr>\n",
       "      <th>3</th>\n",
       "      <td>130</td>\n",
       "      <td>150</td>\n",
       "      <td>160</td>\n",
       "      <td>160</td>\n",
       "    </tr>\n",
       "    <tr>\n",
       "      <th>4</th>\n",
       "      <td>170</td>\n",
       "      <td>180</td>\n",
       "      <td>190</td>\n",
       "      <td>200</td>\n",
       "    </tr>\n",
       "  </tbody>\n",
       "</table>\n",
       "</div>"
      ],
      "text/plain": [
       "     0    1    2    3\n",
       "0   10   20   30   40\n",
       "1   50   60   70   80\n",
       "2   90  100  110  120\n",
       "3  130  150  160  160\n",
       "4  170  180  190  200"
      ]
     },
     "execution_count": 85,
     "metadata": {},
     "output_type": "execute_result"
    }
   ],
   "source": [
    "df * 10"
   ]
  },
  {
   "cell_type": "markdown",
   "id": "01170bd6",
   "metadata": {},
   "source": [
    "<div dir=\"rtl\">\n",
    " جمع / تفریق: همانند عملیات ضرب، می‌توان یک مقدار اسکالر را به یک قاب داده افزود یا کسر کرد. \n",
    "</div>  "
   ]
  },
  {
   "cell_type": "code",
   "execution_count": null,
   "id": "c95d3e4a",
   "metadata": {},
   "outputs": [],
   "source": [
    "df + 100\n"
   ]
  },
  {
   "cell_type": "markdown",
   "id": "64d77917",
   "metadata": {},
   "source": [
    "<div dir=\"rtl\">\n",
    "عملیات بیتی: امکان اجرای عملیات‌های بیتی AND (&)یا  OR (|) و غیره بر روی قاب داده به عنوان یک کلیت وجود دارد.\n",
    "</div>  "
   ]
  },
  {
   "cell_type": "code",
   "execution_count": 87,
   "id": "343d3840",
   "metadata": {},
   "outputs": [
    {
     "data": {
      "text/html": [
       "<div>\n",
       "<style scoped>\n",
       "    .dataframe tbody tr th:only-of-type {\n",
       "        vertical-align: middle;\n",
       "    }\n",
       "\n",
       "    .dataframe tbody tr th {\n",
       "        vertical-align: top;\n",
       "    }\n",
       "\n",
       "    .dataframe thead th {\n",
       "        text-align: right;\n",
       "    }\n",
       "</style>\n",
       "<table border=\"1\" class=\"dataframe\">\n",
       "  <thead>\n",
       "    <tr style=\"text-align: right;\">\n",
       "      <th></th>\n",
       "      <th>0</th>\n",
       "      <th>1</th>\n",
       "      <th>2</th>\n",
       "      <th>3</th>\n",
       "    </tr>\n",
       "  </thead>\n",
       "  <tbody>\n",
       "    <tr>\n",
       "      <th>0</th>\n",
       "      <td>-99</td>\n",
       "      <td>-98</td>\n",
       "      <td>-97</td>\n",
       "      <td>-96</td>\n",
       "    </tr>\n",
       "    <tr>\n",
       "      <th>1</th>\n",
       "      <td>-95</td>\n",
       "      <td>-94</td>\n",
       "      <td>-93</td>\n",
       "      <td>-92</td>\n",
       "    </tr>\n",
       "    <tr>\n",
       "      <th>2</th>\n",
       "      <td>-91</td>\n",
       "      <td>-90</td>\n",
       "      <td>-89</td>\n",
       "      <td>-88</td>\n",
       "    </tr>\n",
       "    <tr>\n",
       "      <th>3</th>\n",
       "      <td>-87</td>\n",
       "      <td>-85</td>\n",
       "      <td>-84</td>\n",
       "      <td>-84</td>\n",
       "    </tr>\n",
       "    <tr>\n",
       "      <th>4</th>\n",
       "      <td>-83</td>\n",
       "      <td>-82</td>\n",
       "      <td>-81</td>\n",
       "      <td>-80</td>\n",
       "    </tr>\n",
       "  </tbody>\n",
       "</table>\n",
       "</div>"
      ],
      "text/plain": [
       "    0   1   2   3\n",
       "0 -99 -98 -97 -96\n",
       "1 -95 -94 -93 -92\n",
       "2 -91 -90 -89 -88\n",
       "3 -87 -85 -84 -84\n",
       "4 -83 -82 -81 -80"
      ]
     },
     "execution_count": 87,
     "metadata": {},
     "output_type": "execute_result"
    }
   ],
   "source": [
    "df - 100"
   ]
  },
  {
   "cell_type": "code",
   "execution_count": null,
   "id": "e64e1ef3",
   "metadata": {},
   "outputs": [],
   "source": []
  }
 ],
 "metadata": {
  "direction": "ltr",
  "kernelspec": {
   "display_name": "Python 3",
   "language": "python",
   "name": "python3"
  },
  "language_info": {
   "codemirror_mode": {
    "name": "ipython",
    "version": 3
   },
   "file_extension": ".py",
   "mimetype": "text/x-python",
   "name": "python",
   "nbconvert_exporter": "python",
   "pygments_lexer": "ipython3",
   "version": "3.9.5"
  }
 },
 "nbformat": 4,
 "nbformat_minor": 5
}
