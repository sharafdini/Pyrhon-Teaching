{
 "cells": [
  {
   "cell_type": "code",
   "execution_count": null,
   "id": "9be07410",
   "metadata": {},
   "outputs": [],
   "source": [
    "mellat"
   ]
  },
  {
   "cell_type": "code",
   "execution_count": null,
   "id": "f85ae985",
   "metadata": {},
   "outputs": [],
   "source": [
    "import pandas as pd\n",
    "\n",
    "health_data = pd.read_csv(\"MO009.csv\", header=0, sep=\",\")\n",
    "\n",
    "print(health_data.head(7) )"
   ]
  }
 ],
 "metadata": {
  "kernelspec": {
   "display_name": "Python 3",
   "language": "python",
   "name": "python3"
  },
  "language_info": {
   "codemirror_mode": {
    "name": "ipython",
    "version": 3
   },
   "file_extension": ".py",
   "mimetype": "text/x-python",
   "name": "python",
   "nbconvert_exporter": "python",
   "pygments_lexer": "ipython3",
   "version": "3.9.5"
  }
 },
 "nbformat": 4,
 "nbformat_minor": 5
}
