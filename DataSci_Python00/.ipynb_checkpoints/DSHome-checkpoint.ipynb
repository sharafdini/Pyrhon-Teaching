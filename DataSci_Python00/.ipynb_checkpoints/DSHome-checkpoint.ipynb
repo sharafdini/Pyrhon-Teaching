{
 "cells": [
  {
   "cell_type": "code",
   "execution_count": null,
   "id": "f69e43de",
   "metadata": {},
   "outputs": [],
   "source": [
    "DSHome"
   ]
  },
  {
   "cell_type": "code",
   "execution_count": null,
   "id": "9a23cbd7",
   "metadata": {},
   "outputs": [],
   "source": [
    "import pandas as pd\n",
    "import matplotlib.pyplot as plt\n",
    "from scipy import stats\n",
    "\n",
    "full_health_data = pd.read_csv(\"Home_data.csv\", header=0, sep=\",\")\n",
    "\n",
    "x = full_health_data[\"Average_Pulse\"]\n",
    "y = full_health_data[\"Calorie_Burnage\"]\n",
    "\n",
    "slope, intercept, r, p, std_err = stats.linregress(x, y)\n",
    "\n",
    "def myfunc(x):\n",
    "    return slope * x + intercept\n",
    "\n",
    "mymodel = list(map(myfunc, x))\n",
    "\n",
    "plt.scatter(x, y)\n",
    "plt.plot(x, mymodel)\n",
    "plt.ylim(ymin=0, ymax=2000)\n",
    "plt.xlim(xmin=0, xmax=200)\n",
    "plt.xlabel(\"Average_Pulse\")\n",
    "plt.ylabel (\"Calorie_Burnage\")\n",
    "plt.show()"
   ]
  }
 ],
 "metadata": {
  "kernelspec": {
   "display_name": "Python 3",
   "language": "python",
   "name": "python3"
  },
  "language_info": {
   "codemirror_mode": {
    "name": "ipython",
    "version": 3
   },
   "file_extension": ".py",
   "mimetype": "text/x-python",
   "name": "python",
   "nbconvert_exporter": "python",
   "pygments_lexer": "ipython3",
   "version": "3.9.5"
  }
 },
 "nbformat": 4,
 "nbformat_minor": 5
}
