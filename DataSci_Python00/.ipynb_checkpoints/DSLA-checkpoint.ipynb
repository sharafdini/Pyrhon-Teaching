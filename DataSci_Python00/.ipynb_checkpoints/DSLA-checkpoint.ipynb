{
 "cells": [
  {
   "cell_type": "markdown",
   "id": "be643364",
   "metadata": {},
   "source": [
    "# Table of contents\n",
    "## Motivation – Why learn Linear Algebra?\n",
    "### Representation of problems in Linear Algebra\n",
    "- 2.1. Visualising the problem: Line\n",
    "- 2.2. Complicate the problem\n",
    "- 2.3. Planes\n",
    "### Matrix\n",
    "- 3.1 Terms related to Matrix\n",
    "- 3.2 Basic operations on Matrix\n",
    "- 3.3 Representing in Matrix form\n",
    "### Solving Problems\n",
    "- 4.1. Row Echelon form\n",
    "- 4.2. Inverse of a Matrix\n",
    "- 4.2.1  Finding Inverse\n",
    "- 4.2.2 The power of Matrices: solving the equations in one go\n",
    "- 4.2.3 Use of Inverse in Data Science\n",
    "### Eigenvalues and Eigenvectors\n",
    "- 5.1 Finding Eigenvectors\n",
    "- 5.2 Use of Eigenvectors in Data Science: PCA algorithm\n",
    "### Singular Value Decomposition of a Matrix\n",
    "End Notes"
   ]
  },
  {
   "cell_type": "code",
   "execution_count": 1,
   "id": "46614692",
   "metadata": {},
   "outputs": [],
   "source": [
    "import numpy as np\n",
    "#create a 4*4 matrix\n",
    "arr = np.arange(100,116).reshape(4,4)"
   ]
  },
  {
   "cell_type": "code",
   "execution_count": 2,
   "id": "590e343c",
   "metadata": {},
   "outputs": [
    {
     "data": {
      "text/plain": [
       "array([[100, 101, 102, 103],\n",
       "       [104, 105, 106, 107],\n",
       "       [108, 109, 110, 111],\n",
       "       [112, 113, 114, 115]])"
      ]
     },
     "execution_count": 2,
     "metadata": {},
     "output_type": "execute_result"
    }
   ],
   "source": [
    "arr\n"
   ]
  },
  {
   "cell_type": "code",
   "execution_count": 18,
   "id": "24a6a62b",
   "metadata": {},
   "outputs": [],
   "source": [
    "#Code in python\n",
    "\n",
    "import numpy as np\n",
    "#create a 4*4 matrix\n",
    "arr3 = np.arange(1,10).reshape(3,3)\n",
    "arr4 = np.arange(0,16).reshape(4,4)"
   ]
  },
  {
   "cell_type": "code",
   "execution_count": 19,
   "id": "161ac435",
   "metadata": {},
   "outputs": [
    {
     "data": {
      "text/plain": [
       "array([[1, 2, 3],\n",
       "       [4, 5, 6],\n",
       "       [7, 8, 9]])"
      ]
     },
     "execution_count": 19,
     "metadata": {},
     "output_type": "execute_result"
    }
   ],
   "source": [
    "arr3"
   ]
  },
  {
   "cell_type": "code",
   "execution_count": 20,
   "id": "c5c4be92",
   "metadata": {},
   "outputs": [
    {
     "data": {
      "text/plain": [
       "array([[ 0,  1,  2,  3],\n",
       "       [ 4,  5,  6,  7],\n",
       "       [ 8,  9, 10, 11],\n",
       "       [12, 13, 14, 15]])"
      ]
     },
     "execution_count": 20,
     "metadata": {},
     "output_type": "execute_result"
    }
   ],
   "source": [
    "arr4"
   ]
  },
  {
   "cell_type": "code",
   "execution_count": 31,
   "id": "1253eb22",
   "metadata": {},
   "outputs": [],
   "source": [
    "import pandas as pd\n",
    "import numpy as np\n",
    "\n",
    "#you don’t need to bother about the following. \n",
    "#It just #transforms the data from original source into matrix\n",
    "\n",
    "Df = pd.read_csv(\"baseball.csv\")\n",
    "Df1 = Df.head(14)\n",
    "\n",
    "\n",
    "X = Df1[['RS', 'RA', 'W', 'OBP','SLG','BA']]\n",
    "Y=Df1['OOBP']\n",
    "\n",
    "#Converting X to matrix\n",
    "X = np.asmatrix(X)\n",
    "\n",
    "#taking transpose of X and assigning it to x\n",
    "x = np.transpose(X)\n",
    "\n",
    "#finding multiplication\n",
    "T = x.dot(X)\n",
    "\n",
    "#inverse of T - provided it is invertible otherwise we use pseudoinverse\n",
    "inv = np.linalg.inv(T)\n",
    "\n",
    "#calculating θ\n",
    "theta=(inv.dot(X.T)).dot(Y)"
   ]
  },
  {
   "cell_type": "code",
   "execution_count": 35,
   "id": "40d3207c",
   "metadata": {},
   "outputs": [
    {
     "data": {
      "text/plain": [
       "matrix([[ 1.00000000e+00, -5.68434189e-14, -7.10542736e-15,\n",
       "         -2.77555756e-17, -5.55111512e-17, -2.77555756e-17],\n",
       "        [-3.41060513e-13,  1.00000000e+00, -2.13162821e-14,\n",
       "         -8.32667268e-17, -8.32667268e-17, -6.93889390e-17],\n",
       "        [-2.72848411e-12, -3.63797881e-12,  1.00000000e+00,\n",
       "         -1.11022302e-15, -1.77635684e-15, -8.88178420e-16],\n",
       "        [ 1.86264515e-09,  2.79396772e-09,  1.16415322e-10,\n",
       "          1.00000000e+00,  1.36424205e-12,  1.36424205e-12],\n",
       "        [ 2.32830644e-10,  2.32830644e-10,  0.00000000e+00,\n",
       "          0.00000000e+00,  1.00000000e+00,  0.00000000e+00],\n",
       "        [-1.86264515e-09, -3.72529030e-09, -1.16415322e-10,\n",
       "         -9.09494702e-13, -9.09494702e-13,  1.00000000e+00]])"
      ]
     },
     "execution_count": 35,
     "metadata": {},
     "output_type": "execute_result"
    }
   ],
   "source": [
    "inv * T"
   ]
  },
  {
   "cell_type": "code",
   "execution_count": 36,
   "id": "ff8bb51b",
   "metadata": {},
   "outputs": [
    {
     "data": {
      "text/plain": [
       "(array([ 1.61168440e+01, -1.11684397e+00, -1.30367773e-15]),\n",
       " array([[-0.23197069, -0.78583024,  0.40824829],\n",
       "        [-0.52532209, -0.08675134, -0.81649658],\n",
       "        [-0.8186735 ,  0.61232756,  0.40824829]]))"
      ]
     },
     "execution_count": 36,
     "metadata": {},
     "output_type": "execute_result"
    }
   ],
   "source": [
    "#Code for finding EigenVectors in python\n",
    "\n",
    "import  numpy as np\n",
    "\n",
    "#create an array\n",
    "arr = np.arange(1,10).reshape(3,3)\n",
    "\n",
    "#finding the Eigenvalue and Eigenvectors of arr\n",
    "np.linalg.eig(arr)"
   ]
  },
  {
   "cell_type": "code",
   "execution_count": null,
   "id": "973851d4",
   "metadata": {},
   "outputs": [],
   "source": []
  }
 ],
 "metadata": {
  "kernelspec": {
   "display_name": "Python 3",
   "language": "python",
   "name": "python3"
  },
  "language_info": {
   "codemirror_mode": {
    "name": "ipython",
    "version": 3
   },
   "file_extension": ".py",
   "mimetype": "text/x-python",
   "name": "python",
   "nbconvert_exporter": "python",
   "pygments_lexer": "ipython3",
   "version": "3.9.5"
  }
 },
 "nbformat": 4,
 "nbformat_minor": 5
}
