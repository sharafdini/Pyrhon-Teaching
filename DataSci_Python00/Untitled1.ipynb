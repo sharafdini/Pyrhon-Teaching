{
 "cells": [
  {
   "cell_type": "markdown",
   "id": "expensive-effectiveness",
   "metadata": {},
   "source": [
    "<div  dir=rtl>\n",
    "    \n",
    "\n",
    "</div>"
   ]
  },
  {
   "cell_type": "markdown",
   "id": "republican-leisure",
   "metadata": {},
   "source": [
    "<div  dir=rtl>\n",
    "    پایتون نیز مانند هر زبان مهم برنامه‌نویسی دیگری از کتابخانه‌ها و فریمورک‌های شخص ثالث پشتیبانی می‌کند. این کتابخانه‌ها را می‌توانید بر روی پایتون نصب کنید تا در هر پروژه، چرخ را از نو اختراع نکنید! این فریمورک‌ها در یک ریپازیتری به نام ایندکس بسته پایتون (PyPI) قابل دسترسی هستند.\n",
    "اما دانلود، نصب و مدیریت این بسته‌ها به صورت دستی، کاری دشوار است و به همین دلیل بسیاری از توسعه‌دهندگان پایتون، معمولاً از یک ابزار دیگر به نام  PIP  برای پایتون استفاده می‌کنند تا همه ‌کارها را آسان‌تر و سریع‌تر انجام دهند.\n",
    "</div>"
   ]
  },
  {
   "cell_type": "code",
   "execution_count": null,
   "id": "italian-punch",
   "metadata": {},
   "outputs": [],
   "source": []
  }
 ],
 "metadata": {
  "kernelspec": {
   "display_name": "Python 3",
   "language": "python",
   "name": "python3"
  },
  "language_info": {
   "codemirror_mode": {
    "name": "ipython",
    "version": 3
   },
   "file_extension": ".py",
   "mimetype": "text/x-python",
   "name": "python",
   "nbconvert_exporter": "python",
   "pygments_lexer": "ipython3",
   "version": "3.9.2"
  }
 },
 "nbformat": 4,
 "nbformat_minor": 5
}
