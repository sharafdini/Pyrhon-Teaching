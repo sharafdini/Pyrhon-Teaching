{
 "cells": [
  {
   "cell_type": "markdown",
   "id": "attractive-gates",
   "metadata": {},
   "source": [
    "There are four collection data types in the Python programming language:\n",
    "\n",
    "#List  is a  collection which is #ordered and #changeable.  #Allows #duplicate members.\n",
    "#Tuple is a  collection which is ordered and unchangeable.   Allows duplicate members.\n",
    "#Set   is a  collection which is unordered and unindexed.    No duplicate members.\n",
    "#Dictionary is a collection which is ordered* and changeable. No duplicate members.\n"
   ]
  },
  {
   "cell_type": "code",
   "execution_count": null,
   "id": "942f3d42",
   "metadata": {},
   "outputs": [],
   "source": []
  },
  {
   "cell_type": "code",
   "execution_count": null,
   "id": "29d5b733",
   "metadata": {},
   "outputs": [],
   "source": []
  },
  {
   "cell_type": "code",
   "execution_count": 1,
   "id": "international-australian",
   "metadata": {},
   "outputs": [
    {
     "ename": "SyntaxError",
     "evalue": "invalid syntax (<ipython-input-1-8913908e6eef>, line 1)",
     "output_type": "error",
     "traceback": [
      "\u001b[1;36m  File \u001b[1;32m\"<ipython-input-1-8913908e6eef>\"\u001b[1;36m, line \u001b[1;32m1\u001b[0m\n\u001b[1;33m    لیست نوعی داده است\u001b[0m\n\u001b[1;37m         ^\u001b[0m\n\u001b[1;31mSyntaxError\u001b[0m\u001b[1;31m:\u001b[0m invalid syntax\n"
     ]
    }
   ],
   "source": [
    "لیست نوعی داده است\n",
    "\n",
    "thislist = [\"apple\", \"banana\", \"cherry\", \"apple\", \"cherry\"]\n",
    "\n",
    "print(thislist)"
   ]
  },
  {
   "cell_type": "code",
   "execution_count": null,
   "id": "elementary-bailey",
   "metadata": {},
   "outputs": [],
   "source": [
    "List Items\n",
    "List items are ordered, changeable, and allow duplicate values.\n",
    "List items are indexed, the first item has index [0], the second item has index [1] etc."
   ]
  },
  {
   "cell_type": "code",
   "execution_count": null,
   "id": "bulgarian-attempt",
   "metadata": {},
   "outputs": [],
   "source": [
    "thislist[0]"
   ]
  },
  {
   "cell_type": "code",
   "execution_count": 2,
   "id": "contrary-flour",
   "metadata": {},
   "outputs": [
    {
     "ename": "NameError",
     "evalue": "name 'thislist' is not defined",
     "output_type": "error",
     "traceback": [
      "\u001b[1;31m---------------------------------------------------------------------------\u001b[0m",
      "\u001b[1;31mNameError\u001b[0m                                 Traceback (most recent call last)",
      "\u001b[1;32m<ipython-input-2-90dc1e45b1be>\u001b[0m in \u001b[0;36m<module>\u001b[1;34m\u001b[0m\n\u001b[0;32m      1\u001b[0m \u001b[1;32mfor\u001b[0m \u001b[0mi\u001b[0m \u001b[1;32min\u001b[0m \u001b[0mrange\u001b[0m\u001b[1;33m(\u001b[0m\u001b[1;36m5\u001b[0m\u001b[1;33m)\u001b[0m\u001b[1;33m:\u001b[0m\u001b[1;33m\u001b[0m\u001b[1;33m\u001b[0m\u001b[0m\n\u001b[1;32m----> 2\u001b[1;33m     \u001b[0mprint\u001b[0m\u001b[1;33m(\u001b[0m\u001b[0mthislist\u001b[0m\u001b[1;33m[\u001b[0m\u001b[0mi\u001b[0m\u001b[1;33m]\u001b[0m\u001b[1;33m)\u001b[0m\u001b[1;33m\u001b[0m\u001b[1;33m\u001b[0m\u001b[0m\n\u001b[0m",
      "\u001b[1;31mNameError\u001b[0m: name 'thislist' is not defined"
     ]
    }
   ],
   "source": [
    "for i in range(5):\n",
    "    print(thislist[i])"
   ]
  },
  {
   "cell_type": "code",
   "execution_count": null,
   "id": "retired-ground",
   "metadata": {},
   "outputs": [],
   "source": [
    "thislist[0]='Orange'"
   ]
  },
  {
   "cell_type": "code",
   "execution_count": null,
   "id": "moved-blocking",
   "metadata": {},
   "outputs": [],
   "source": [
    "thislist\n"
   ]
  },
  {
   "cell_type": "code",
   "execution_count": null,
   "id": "absolute-butter",
   "metadata": {},
   "outputs": [],
   "source": [
    "list1 = [\"apple\", \"banana\", \"cherry\"]\n",
    "list2 = [1, 5, 7, 9, 3]\n",
    "list3 = [True, False, False]"
   ]
  },
  {
   "cell_type": "code",
   "execution_count": null,
   "id": "prompt-infrared",
   "metadata": {},
   "outputs": [],
   "source": [
    "list1\n"
   ]
  },
  {
   "cell_type": "code",
   "execution_count": null,
   "id": "normal-involvement",
   "metadata": {},
   "outputs": [],
   "source": [
    "list2\n"
   ]
  },
  {
   "cell_type": "code",
   "execution_count": null,
   "id": "south-iraqi",
   "metadata": {},
   "outputs": [],
   "source": [
    "list1 = [\"abc\", 34, True, 40, \"male\"]"
   ]
  },
  {
   "cell_type": "code",
   "execution_count": null,
   "id": "patient-federal",
   "metadata": {},
   "outputs": [],
   "source": [
    "list1\n"
   ]
  },
  {
   "cell_type": "markdown",
   "id": "pacific-subscription",
   "metadata": {},
   "source": [
    "type( )\n",
    "\n",
    "From Python's perspective, lists are defined as objects with the data type 'list':"
   ]
  },
  {
   "cell_type": "code",
   "execution_count": null,
   "id": "eastern-graphic",
   "metadata": {},
   "outputs": [],
   "source": [
    "type(list1[0])"
   ]
  },
  {
   "cell_type": "code",
   "execution_count": null,
   "id": "ordinary-november",
   "metadata": {},
   "outputs": [],
   "source": [
    "mylist = [\"apple\", \"banana\", \"cherry\"]\n",
    "\n",
    "print( type(mylist) )"
   ]
  },
  {
   "cell_type": "code",
   "execution_count": null,
   "id": "alternative-intention",
   "metadata": {},
   "outputs": [],
   "source": [
    "The list() Constructor\n",
    "It is also possible to use the list() constructor when creating a new list."
   ]
  },
  {
   "cell_type": "code",
   "execution_count": null,
   "id": "joined-dietary",
   "metadata": {},
   "outputs": [],
   "source": [
    "list(range(5))"
   ]
  },
  {
   "cell_type": "code",
   "execution_count": null,
   "id": "false-tuesday",
   "metadata": {},
   "outputs": [],
   "source": [
    "list({0,1,2,3,4})"
   ]
  },
  {
   "cell_type": "code",
   "execution_count": null,
   "id": "hazardous-reward",
   "metadata": {},
   "outputs": [],
   "source": [
    "mytuple = (\"apple\", \"banana\", \"cherry\")"
   ]
  },
  {
   "cell_type": "code",
   "execution_count": null,
   "id": "right-creation",
   "metadata": {},
   "outputs": [],
   "source": [
    "mytuple"
   ]
  },
  {
   "cell_type": "code",
   "execution_count": null,
   "id": "super-start",
   "metadata": {},
   "outputs": [],
   "source": [
    "mytuple[0]"
   ]
  },
  {
   "cell_type": "code",
   "execution_count": null,
   "id": "accurate-workshop",
   "metadata": {},
   "outputs": [],
   "source": [
    "mytuple = (\"apple\", \"banana\", \"cherry\",\"apple\")"
   ]
  },
  {
   "cell_type": "code",
   "execution_count": null,
   "id": "severe-prompt",
   "metadata": {},
   "outputs": [],
   "source": [
    "mytuple"
   ]
  },
  {
   "cell_type": "code",
   "execution_count": null,
   "id": "wicked-eugene",
   "metadata": {},
   "outputs": [],
   "source": []
  },
  {
   "cell_type": "code",
   "execution_count": null,
   "id": "underlying-motel",
   "metadata": {},
   "outputs": [],
   "source": [
    "mytuple[0] = 'orange'"
   ]
  },
  {
   "cell_type": "code",
   "execution_count": null,
   "id": "demographic-produce",
   "metadata": {},
   "outputs": [],
   "source": [
    "len( mytuple )"
   ]
  },
  {
   "cell_type": "code",
   "execution_count": null,
   "id": "greater-borough",
   "metadata": {},
   "outputs": [],
   "source": [
    "type ( mytuple )"
   ]
  },
  {
   "cell_type": "code",
   "execution_count": null,
   "id": "extended-thomas",
   "metadata": {},
   "outputs": [],
   "source": [
    "Negative Indexing\n",
    "Negative indexing means start from the end.\n",
    "\n",
    "-1 refers to the last item, -2 refers to the second last item etc."
   ]
  },
  {
   "cell_type": "code",
   "execution_count": null,
   "id": "floating-first",
   "metadata": {},
   "outputs": [],
   "source": [
    "mytuple[-1]"
   ]
  },
  {
   "cell_type": "code",
   "execution_count": null,
   "id": "vocational-adult",
   "metadata": {},
   "outputs": [],
   "source": [
    "for i in range(1,5):\n",
    "    print( mytuple[ -i ] )"
   ]
  },
  {
   "cell_type": "markdown",
   "id": "adverse-notification",
   "metadata": {},
   "source": [
    "##Range of Indexes\n",
    "You can specify a range of indexes by specifying where to start and where to end the range.\n",
    "\n",
    "When specifying a range, the return value will be a new tuple with the specified items."
   ]
  },
  {
   "cell_type": "code",
   "execution_count": null,
   "id": "surgical-electricity",
   "metadata": {},
   "outputs": [],
   "source": [
    "mytuple"
   ]
  },
  {
   "cell_type": "code",
   "execution_count": null,
   "id": "retired-daisy",
   "metadata": {},
   "outputs": [],
   "source": [
    "mytuple[0:2]"
   ]
  },
  {
   "cell_type": "code",
   "execution_count": null,
   "id": "found-canyon",
   "metadata": {},
   "outputs": [],
   "source": [
    "mytuple[0:4]"
   ]
  },
  {
   "cell_type": "code",
   "execution_count": null,
   "id": "exclusive-irish",
   "metadata": {},
   "outputs": [],
   "source": [
    "print(mytuple[2:])"
   ]
  },
  {
   "cell_type": "code",
   "execution_count": null,
   "id": "heated-disaster",
   "metadata": {},
   "outputs": [],
   "source": [
    "print(mytuple[:2])"
   ]
  },
  {
   "cell_type": "code",
   "execution_count": null,
   "id": "centered-patrol",
   "metadata": {},
   "outputs": [],
   "source": [
    "thistuple = (\"apple\", \"banana\", \"cherry\", \"orange\", \"kiwi\", \"melon\", \"mango\")\n",
    "print(thistuple[-4:-1])"
   ]
  },
  {
   "cell_type": "code",
   "execution_count": null,
   "id": "rocky-completion",
   "metadata": {},
   "outputs": [],
   "source": [
    "print(thistuple[:-1])"
   ]
  },
  {
   "cell_type": "code",
   "execution_count": null,
   "id": "practical-belfast",
   "metadata": {},
   "outputs": [],
   "source": [
    "print(thistuple[0:-1])"
   ]
  },
  {
   "cell_type": "code",
   "execution_count": null,
   "id": "capable-penny",
   "metadata": {},
   "outputs": [],
   "source": [
    "print(thistuple[-4:1])"
   ]
  },
  {
   "cell_type": "code",
   "execution_count": null,
   "id": "antique-steal",
   "metadata": {},
   "outputs": [],
   "source": [
    "Check if Item Exists\n",
    "To determine if a specified item is present in a tuple use the in keyword:"
   ]
  },
  {
   "cell_type": "code",
   "execution_count": null,
   "id": "located-webmaster",
   "metadata": {},
   "outputs": [],
   "source": [
    "'apple' in thistuple"
   ]
  },
  {
   "cell_type": "code",
   "execution_count": null,
   "id": "cross-median",
   "metadata": {},
   "outputs": [],
   "source": [
    "Tuples are unchangeable, meaing that you cannot change, add, or remove items once the tuple is created.\n",
    "\n",
    "But there are some workarounds.\n",
    "\n",
    "Change Tuple Values\n",
    "Once a tuple is created, you cannot change its values. Tuples are unchangeable, or immutable as it also is called.\n",
    "\n",
    "But there is a workaround. You can convert the tuple into a list, change the list, and convert the list back into a tuple."
   ]
  },
  {
   "cell_type": "code",
   "execution_count": null,
   "id": "abandoned-lodging",
   "metadata": {},
   "outputs": [],
   "source": [
    "x = (\"apple\", \"banana\", \"cherry\")\n",
    "\n",
    "y = list( x )\n",
    "\n",
    "y[1] = \"kiwi\"\n",
    "\n",
    "x = tuple( y )\n",
    "\n",
    "print(x)"
   ]
  },
  {
   "cell_type": "code",
   "execution_count": null,
   "id": "complimentary-pressure",
   "metadata": {},
   "outputs": [],
   "source": [
    "y"
   ]
  },
  {
   "cell_type": "code",
   "execution_count": null,
   "id": "confidential-italian",
   "metadata": {},
   "outputs": [],
   "source": [
    "#append\n",
    "y.append('orange')"
   ]
  },
  {
   "cell_type": "code",
   "execution_count": null,
   "id": "injured-orchestra",
   "metadata": {},
   "outputs": [],
   "source": [
    "y"
   ]
  },
  {
   "cell_type": "code",
   "execution_count": null,
   "id": "disciplinary-weapon",
   "metadata": {},
   "outputs": [],
   "source": [
    "Remove Specified Index\n",
    "The pop() method removes the specified index."
   ]
  },
  {
   "cell_type": "code",
   "execution_count": null,
   "id": "informative-sphere",
   "metadata": {},
   "outputs": [],
   "source": [
    "Remove Specified Index\n",
    "The pop() method removes the specified index."
   ]
  },
  {
   "cell_type": "code",
   "execution_count": null,
   "id": "collaborative-productivity",
   "metadata": {},
   "outputs": [],
   "source": [
    "thislist = [\"apple\", \"banana\", \"cherry\"]\n",
    "\n",
    "thislist.pop(1)\n",
    "\n",
    "print(thislist)"
   ]
  },
  {
   "cell_type": "code",
   "execution_count": null,
   "id": "unknown-artist",
   "metadata": {},
   "outputs": [],
   "source": [
    "thislist = [\"apple\", \"banana\", \"cherry\"]\n",
    "\n",
    "thislist.pop()\n",
    "\n",
    "print(thislist)"
   ]
  },
  {
   "cell_type": "code",
   "execution_count": null,
   "id": "reserved-farming",
   "metadata": {},
   "outputs": [],
   "source": [
    "# The del keyword also removes the specified index:\n",
    "\n",
    "thislist = [\"apple\", \"banana\", \"cherry\"]\n",
    "\n",
    "del thislist[0]  # thislist.pop(0)  \n",
    "\n",
    "print(thislist)"
   ]
  },
  {
   "cell_type": "code",
   "execution_count": null,
   "id": "pleasant-nowhere",
   "metadata": {},
   "outputs": [],
   "source": [
    "mylist = [\"apple\", \"banana\" , \"cherry\" , \"banana\"]\n",
    "\n",
    "mylist.remove(\"banana\")"
   ]
  },
  {
   "cell_type": "code",
   "execution_count": null,
   "id": "forbidden-hampshire",
   "metadata": {},
   "outputs": [],
   "source": [
    "print( mylist )"
   ]
  },
  {
   "cell_type": "code",
   "execution_count": null,
   "id": "administrative-annual",
   "metadata": {},
   "outputs": [],
   "source": [
    "#Python removes method is a built-in method available with the list. It helps to remove the given very first element"
   ]
  },
  {
   "cell_type": "code",
   "execution_count": null,
   "id": "ceramic-radar",
   "metadata": {},
   "outputs": [],
   "source": [
    "thislist = [\"apple\", \"banana\", \"cherry\"]\n",
    "\n",
    "del thislist"
   ]
  },
  {
   "cell_type": "code",
   "execution_count": null,
   "id": "organic-honor",
   "metadata": {},
   "outputs": [],
   "source": [
    "thislist"
   ]
  },
  {
   "cell_type": "code",
   "execution_count": null,
   "id": "spoken-blair",
   "metadata": {},
   "outputs": [],
   "source": [
    "#Clear the List\n",
    "#The clear() method empties the list.\n",
    "# The list still remains, but it has no content.\n",
    "\n",
    "thislist= [\"apple\", \"banana\", \"cherry\"]\n",
    "    \n",
    "thislist.clear()\n",
    "\n",
    "print(thislist)"
   ]
  },
  {
   "cell_type": "code",
   "execution_count": null,
   "id": "mysterious-jacob",
   "metadata": {},
   "outputs": [],
   "source": [
    "thislist"
   ]
  },
  {
   "cell_type": "code",
   "execution_count": null,
   "id": "crazy-february",
   "metadata": {},
   "outputs": [],
   "source": [
    "# clear del pop remove append len type"
   ]
  },
  {
   "cell_type": "code",
   "execution_count": null,
   "id": "dental-subscription",
   "metadata": {},
   "outputs": [],
   "source": [
    "# for while\n",
    "thislist = [\"apple\", \"banana\", \"cherry\"]\n",
    "\n",
    "[2*x for x in thislist]"
   ]
  },
  {
   "cell_type": "code",
   "execution_count": null,
   "id": "piano-degree",
   "metadata": {},
   "outputs": [],
   "source": [
    "l = [1,2,3,4,5,6,8,6,4]\n",
    "\n",
    "[2*x-5 for x in l]\n",
    "\n"
   ]
  },
  {
   "cell_type": "code",
   "execution_count": null,
   "id": "liked-wheat",
   "metadata": {},
   "outputs": [],
   "source": [
    " # del list[start:stop]"
   ]
  },
  {
   "cell_type": "code",
   "execution_count": null,
   "id": "preliminary-guitar",
   "metadata": {},
   "outputs": [],
   "source": [
    "مقدار اولیه داده به لیست در برنامه\n",
    "لیست تهی را نمیتوان به عنوان مقدار اولیه قرار داد\n",
    "کد زیر خطا دارد:\n",
    "    "
   ]
  },
  {
   "cell_type": "code",
   "execution_count": null,
   "id": "defensive-trinidad",
   "metadata": {},
   "outputs": [],
   "source": [
    " l = []\n",
    "l[0] = 1400"
   ]
  },
  {
   "cell_type": "code",
   "execution_count": null,
   "id": "touched-engine",
   "metadata": {},
   "outputs": [],
   "source": [
    " l = [0]\n",
    "    \n",
    "l[0] = 1400"
   ]
  },
  {
   "cell_type": "code",
   "execution_count": null,
   "id": "loving-musician",
   "metadata": {},
   "outputs": [],
   "source": [
    "l"
   ]
  },
  {
   "cell_type": "code",
   "execution_count": null,
   "id": "mental-treatment",
   "metadata": {},
   "outputs": [],
   "source": [
    "بنابراین لیستی که ایتمهی آن"
   ]
  },
  {
   "cell_type": "code",
   "execution_count": null,
   "id": "diagnostic-pavilion",
   "metadata": {},
   "outputs": [],
   "source": [
    "ln =[None,None]"
   ]
  },
  {
   "cell_type": "code",
   "execution_count": null,
   "id": "decreased-dream",
   "metadata": {},
   "outputs": [],
   "source": [
    "l"
   ]
  },
  {
   "cell_type": "code",
   "execution_count": null,
   "id": "trained-panic",
   "metadata": {},
   "outputs": [],
   "source": [
    "ln[0] = 1400"
   ]
  },
  {
   "cell_type": "code",
   "execution_count": null,
   "id": "smart-terrorism",
   "metadata": {},
   "outputs": [],
   "source": [
    "ln"
   ]
  },
  {
   "cell_type": "code",
   "execution_count": null,
   "id": "floppy-prague",
   "metadata": {},
   "outputs": [],
   "source": [
    "ln[1] = 1400"
   ]
  },
  {
   "cell_type": "code",
   "execution_count": null,
   "id": "concerned-field",
   "metadata": {},
   "outputs": [],
   "source": [
    "ln"
   ]
  },
  {
   "cell_type": "code",
   "execution_count": null,
   "id": "split-angola",
   "metadata": {},
   "outputs": [],
   "source": [
    "list\n",
    "tuple\n",
    "set\n",
    "dictunary\n"
   ]
  },
  {
   "cell_type": "code",
   "execution_count": null,
   "id": "cc266931",
   "metadata": {},
   "outputs": [],
   "source": [
    "l = [1,2,3,2]\n",
    "\n",
    "print('lenth of l is: ', len(l))\n",
    "\n",
    "for i in range(4):\n",
    "    print(l[i])\n",
    "    \n",
    "l[0] = 1400\n",
    "\n",
    "print(l[0])"
   ]
  },
  {
   "cell_type": "code",
   "execution_count": null,
   "id": "14814492",
   "metadata": {},
   "outputs": [],
   "source": [
    "t = (1,2,3,2)\n",
    "print('lenth of t is: ', len(t))\n",
    "\n",
    "for i in range(4):\n",
    "    print(t[i])\n",
    "    \n",
    "t[0] = 1400\n",
    "#print(l[0])"
   ]
  },
  {
   "cell_type": "code",
   "execution_count": 4,
   "id": "993c6157",
   "metadata": {},
   "outputs": [],
   "source": [
    "#s = {1,3,2,3}\n",
    "\n",
    "#for i in s :\n",
    "    #print(i)\n",
    "    \n",
    "s = {1,3,2,4,3}"
   ]
  },
  {
   "cell_type": "code",
   "execution_count": 5,
   "id": "aae99700",
   "metadata": {},
   "outputs": [
    {
     "data": {
      "text/plain": [
       "{1, 2, 3, 4}"
      ]
     },
     "execution_count": 5,
     "metadata": {},
     "output_type": "execute_result"
    }
   ],
   "source": [
    "s"
   ]
  },
  {
   "cell_type": "code",
   "execution_count": 8,
   "id": "cd0804de",
   "metadata": {},
   "outputs": [],
   "source": [
    " l = list(s)"
   ]
  },
  {
   "cell_type": "code",
   "execution_count": 9,
   "id": "334677a3",
   "metadata": {},
   "outputs": [],
   "source": [
    "s = set(l)"
   ]
  },
  {
   "cell_type": "code",
   "execution_count": 10,
   "id": "8d26cbbc",
   "metadata": {},
   "outputs": [
    {
     "data": {
      "text/plain": [
       "{1, 2, 3, 4}"
      ]
     },
     "execution_count": 10,
     "metadata": {},
     "output_type": "execute_result"
    }
   ],
   "source": [
    "s"
   ]
  },
  {
   "cell_type": "code",
   "execution_count": 19,
   "id": "f8e47bac",
   "metadata": {},
   "outputs": [],
   "source": [
    "dic = {'name' : 'Gholi' , 'stn':'781211000' , 'age' : 22 , 'major': 'Math'}"
   ]
  },
  {
   "cell_type": "code",
   "execution_count": 17,
   "id": "c183337c",
   "metadata": {},
   "outputs": [
    {
     "data": {
      "text/plain": [
       "{'name': 'Gholi', 'stn': '781211000', 'age': 22, 'major': 'Math'}"
      ]
     },
     "execution_count": 17,
     "metadata": {},
     "output_type": "execute_result"
    }
   ],
   "source": [
    "dic"
   ]
  },
  {
   "cell_type": "code",
   "execution_count": 18,
   "id": "022c4a2c",
   "metadata": {},
   "outputs": [
    {
     "data": {
      "text/plain": [
       "'Gholi'"
      ]
     },
     "execution_count": 18,
     "metadata": {},
     "output_type": "execute_result"
    }
   ],
   "source": [
    "#: ;\n",
    "#key : value\n",
    "dic['name']"
   ]
  },
  {
   "cell_type": "code",
   "execution_count": 21,
   "id": "0e8be7f8",
   "metadata": {},
   "outputs": [
    {
     "name": "stdout",
     "output_type": "stream",
     "text": [
      "Gholi\n",
      "781211000\n",
      "22\n",
      "Math\n"
     ]
    }
   ],
   "source": [
    "ldic = ['name','stn','age','major']\n",
    "for x in ldic:\n",
    "    print(dic[x])"
   ]
  },
  {
   "cell_type": "code",
   "execution_count": null,
   "id": "2721f662",
   "metadata": {},
   "outputs": [],
   "source": [
    "متغییر٫[]"
   ]
  },
  {
   "cell_type": "code",
   "execution_count": 24,
   "id": "83ee542d",
   "metadata": {},
   "outputs": [
    {
     "data": {
      "text/plain": [
       "0      60\n",
       "1      60\n",
       "2      60\n",
       "3      45\n",
       "4      45\n",
       "       ..\n",
       "158    60\n",
       "159    60\n",
       "160    60\n",
       "161    75\n",
       "162    75\n",
       "Name: Duration, Length: 163, dtype: int64"
      ]
     },
     "execution_count": 24,
     "metadata": {},
     "output_type": "execute_result"
    }
   ],
   "source": [
    "import pandas as pd\n",
    "\n",
    "df = pd.read_csv('home_data.csv')\n",
    "\n",
    "#print(df.to_string()) \n",
    "df['Duration']"
   ]
  },
  {
   "cell_type": "markdown",
   "id": "d07aecd3",
   "metadata": {},
   "source": [
    "\n",
    "pip\n",
    "کتابخانه\n",
    "تابع"
   ]
  },
  {
   "cell_type": "code",
   "execution_count": 25,
   "id": "34207692",
   "metadata": {},
   "outputs": [],
   "source": [
    "def f():\n",
    "    \n",
    "    return 'Salam'"
   ]
  },
  {
   "cell_type": "code",
   "execution_count": 26,
   "id": "927641ac",
   "metadata": {},
   "outputs": [
    {
     "data": {
      "text/plain": [
       "'Salam'"
      ]
     },
     "execution_count": 26,
     "metadata": {},
     "output_type": "execute_result"
    }
   ],
   "source": [
    "f()"
   ]
  },
  {
   "cell_type": "code",
   "execution_count": 28,
   "id": "7e524e48",
   "metadata": {},
   "outputs": [
    {
     "data": {
      "text/plain": [
       "15"
      ]
     },
     "execution_count": 28,
     "metadata": {},
     "output_type": "execute_result"
    }
   ],
   "source": [
    "#2x+1\n",
    "def jigar(x):\n",
    "    return 2*x+1\n",
    "\n",
    "jigar(7)"
   ]
  },
  {
   "cell_type": "code",
   "execution_count": 11,
   "id": "5e74fa74",
   "metadata": {},
   "outputs": [
    {
     "name": "stdout",
     "output_type": "stream",
     "text": [
      "lotfan adad aval ra vared konid12\n",
      "lotfan adad aval ra vared konid13\n",
      "13.0 12.0\n"
     ]
    }
   ],
   "source": [
    "def jabeja(x, y): \n",
    "    t = x\n",
    "    x = y\n",
    "    y = t\n",
    "    return x,y\n",
    "    \n",
    "a = float(input('lotfan adad aval ra vared konid'))\n",
    "b = float(input('lotfan adad aval ra vared konid'))\n",
    "\n",
    "\n",
    "#a,b = jabeja(a,b)\n",
    "\n",
    "a,b\n",
    "print(a,b)\n",
    "\n",
    "#print(a,b)"
   ]
  },
  {
   "cell_type": "code",
   "execution_count": null,
   "id": "d98f0ce7",
   "metadata": {},
   "outputs": [],
   "source": [
    "a,"
   ]
  }
 ],
 "metadata": {
  "kernelspec": {
   "display_name": "Python 3",
   "language": "python",
   "name": "python3"
  },
  "language_info": {
   "codemirror_mode": {
    "name": "ipython",
    "version": 3
   },
   "file_extension": ".py",
   "mimetype": "text/x-python",
   "name": "python",
   "nbconvert_exporter": "python",
   "pygments_lexer": "ipython3",
   "version": "3.9.5"
  }
 },
 "nbformat": 4,
 "nbformat_minor": 5
}
